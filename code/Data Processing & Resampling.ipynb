{
 "cells": [
  {
   "cell_type": "code",
   "execution_count": 1,
   "metadata": {},
   "outputs": [],
   "source": [
    "import pandas as pd\n",
    "import numpy as np\n",
    "import matplotlib.pyplot as plt\n",
    "import seaborn as sns\n",
    "from sklearn.preprocessing import LabelEncoder\n",
    "from sklearn.preprocessing import MinMaxScaler\n",
    "from imblearn.over_sampling import RandomOverSampler\n",
    "from imblearn.under_sampling import RandomUnderSampler\n",
    "from imblearn.over_sampling import SMOTE\n",
    "from imblearn.combine import SMOTEENN\n",
    "from sklearn.model_selection import KFold\n",
    "from sklearn.model_selection import RandomizedSearchCV, train_test_split\n",
    "from sklearn.ensemble import RandomForestClassifier\n",
    "from sklearn.metrics import make_scorer\n",
    "from collections import Counter\n",
    "from sklearn.metrics import accuracy_score, precision_score, recall_score, f1_score, roc_auc_score\n",
    "from sklearn.metrics import fbeta_score"
   ]
  },
  {
   "cell_type": "code",
   "execution_count": 2,
   "metadata": {},
   "outputs": [],
   "source": [
    "df=pd.read_csv('credit_card_transactions.csv')"
   ]
  },
  {
   "cell_type": "code",
   "execution_count": 3,
   "metadata": {},
   "outputs": [
    {
     "data": {
      "text/html": [
       "<div>\n",
       "<style scoped>\n",
       "    .dataframe tbody tr th:only-of-type {\n",
       "        vertical-align: middle;\n",
       "    }\n",
       "\n",
       "    .dataframe tbody tr th {\n",
       "        vertical-align: top;\n",
       "    }\n",
       "\n",
       "    .dataframe thead th {\n",
       "        text-align: right;\n",
       "    }\n",
       "</style>\n",
       "<table border=\"1\" class=\"dataframe\">\n",
       "  <thead>\n",
       "    <tr style=\"text-align: right;\">\n",
       "      <th></th>\n",
       "      <th>trans_date_trans_time</th>\n",
       "      <th>cc_num</th>\n",
       "      <th>merchant</th>\n",
       "      <th>category</th>\n",
       "      <th>amt</th>\n",
       "      <th>first</th>\n",
       "      <th>last</th>\n",
       "      <th>gender</th>\n",
       "      <th>street</th>\n",
       "      <th>city</th>\n",
       "      <th>state</th>\n",
       "      <th>zip</th>\n",
       "      <th>lat</th>\n",
       "      <th>long</th>\n",
       "      <th>city_pop</th>\n",
       "      <th>job</th>\n",
       "      <th>dob</th>\n",
       "      <th>trans_num</th>\n",
       "      <th>unix_time</th>\n",
       "      <th>merch_lat</th>\n",
       "      <th>merch_long</th>\n",
       "      <th>is_fraud</th>\n",
       "      <th>merch_zipcode</th>\n",
       "    </tr>\n",
       "  </thead>\n",
       "  <tbody>\n",
       "    <tr>\n",
       "      <th>0</th>\n",
       "      <td>2019/1/1 0:00</td>\n",
       "      <td>2.703190e+15</td>\n",
       "      <td>fraud_Rippin, Kub and Mann</td>\n",
       "      <td>misc_net</td>\n",
       "      <td>4.97</td>\n",
       "      <td>Jennifer</td>\n",
       "      <td>Banks</td>\n",
       "      <td>F</td>\n",
       "      <td>561 Perry Cove</td>\n",
       "      <td>Moravian Falls</td>\n",
       "      <td>NC</td>\n",
       "      <td>28654</td>\n",
       "      <td>36.0788</td>\n",
       "      <td>-81.1781</td>\n",
       "      <td>3495</td>\n",
       "      <td>Psychologist, counselling</td>\n",
       "      <td>1988/3/9</td>\n",
       "      <td>0b242abb623afc578575680df30655b9</td>\n",
       "      <td>1325376018</td>\n",
       "      <td>36.011293</td>\n",
       "      <td>-82.048315</td>\n",
       "      <td>0</td>\n",
       "      <td>28705.0</td>\n",
       "    </tr>\n",
       "    <tr>\n",
       "      <th>1</th>\n",
       "      <td>2019/1/1 0:00</td>\n",
       "      <td>6.304230e+11</td>\n",
       "      <td>fraud_Heller, Gutmann and Zieme</td>\n",
       "      <td>grocery_pos</td>\n",
       "      <td>107.23</td>\n",
       "      <td>Stephanie</td>\n",
       "      <td>Gill</td>\n",
       "      <td>F</td>\n",
       "      <td>43039 Riley Greens Suite 393</td>\n",
       "      <td>Orient</td>\n",
       "      <td>WA</td>\n",
       "      <td>99160</td>\n",
       "      <td>48.8878</td>\n",
       "      <td>-118.2105</td>\n",
       "      <td>149</td>\n",
       "      <td>Special educational needs teacher</td>\n",
       "      <td>1978/6/21</td>\n",
       "      <td>1f76529f8574734946361c461b024d99</td>\n",
       "      <td>1325376044</td>\n",
       "      <td>49.159047</td>\n",
       "      <td>-118.186462</td>\n",
       "      <td>0</td>\n",
       "      <td>NaN</td>\n",
       "    </tr>\n",
       "  </tbody>\n",
       "</table>\n",
       "</div>"
      ],
      "text/plain": [
       "  trans_date_trans_time        cc_num                         merchant  \\\n",
       "0         2019/1/1 0:00  2.703190e+15       fraud_Rippin, Kub and Mann   \n",
       "1         2019/1/1 0:00  6.304230e+11  fraud_Heller, Gutmann and Zieme   \n",
       "\n",
       "      category     amt      first   last gender                        street  \\\n",
       "0     misc_net    4.97   Jennifer  Banks      F                561 Perry Cove   \n",
       "1  grocery_pos  107.23  Stephanie   Gill      F  43039 Riley Greens Suite 393   \n",
       "\n",
       "             city state    zip      lat      long  city_pop  \\\n",
       "0  Moravian Falls    NC  28654  36.0788  -81.1781      3495   \n",
       "1          Orient    WA  99160  48.8878 -118.2105       149   \n",
       "\n",
       "                                 job        dob  \\\n",
       "0          Psychologist, counselling   1988/3/9   \n",
       "1  Special educational needs teacher  1978/6/21   \n",
       "\n",
       "                          trans_num   unix_time  merch_lat  merch_long  \\\n",
       "0  0b242abb623afc578575680df30655b9  1325376018  36.011293  -82.048315   \n",
       "1  1f76529f8574734946361c461b024d99  1325376044  49.159047 -118.186462   \n",
       "\n",
       "   is_fraud  merch_zipcode  \n",
       "0         0        28705.0  \n",
       "1         0            NaN  "
      ]
     },
     "execution_count": 3,
     "metadata": {},
     "output_type": "execute_result"
    }
   ],
   "source": [
    "pd.set_option('display.max_columns', None)\n",
    "df.head(2)"
   ]
  },
  {
   "cell_type": "markdown",
   "metadata": {},
   "source": [
    "# Feature Extraction"
   ]
  },
  {
   "cell_type": "code",
   "execution_count": 4,
   "metadata": {},
   "outputs": [],
   "source": [
    "#Remove irrelevant columns, duplicate rows, and null values\n",
    "df=df.drop(['cc_num', 'first','last','trans_num','unix_time','street'], axis=1)\n",
    "df.drop_duplicates(inplace=True)\n",
    "df.dropna(inplace=True)"
   ]
  },
  {
   "cell_type": "code",
   "execution_count": 5,
   "metadata": {},
   "outputs": [
    {
     "data": {
      "text/plain": [
       "(890052, 17)"
      ]
     },
     "execution_count": 5,
     "metadata": {},
     "output_type": "execute_result"
    }
   ],
   "source": [
    "df.shape"
   ]
  },
  {
   "cell_type": "code",
   "execution_count": 6,
   "metadata": {},
   "outputs": [
    {
     "data": {
      "text/plain": [
       "is_fraud\n",
       "0    884987\n",
       "1      5065\n",
       "Name: count, dtype: int64"
      ]
     },
     "execution_count": 6,
     "metadata": {},
     "output_type": "execute_result"
    }
   ],
   "source": [
    "df['is_fraud'].value_counts()"
   ]
  },
  {
   "cell_type": "markdown",
   "metadata": {},
   "source": [
    "## Time, age, distance"
   ]
  },
  {
   "cell_type": "code",
   "execution_count": 7,
   "metadata": {},
   "outputs": [],
   "source": [
    "#Process time data\n",
    "df['trans_date_trans_time'] = pd.to_datetime(df['trans_date_trans_time'], format='%Y/%m/%d %H:%M')\n",
    "\n",
    "df['year'] = df['trans_date_trans_time'].dt.year\n",
    "df['month'] = df['trans_date_trans_time'].dt.month\n",
    "df['day'] = df['trans_date_trans_time'].dt.day\n",
    "df['weekday'] = df['trans_date_trans_time'].dt.weekday  # (0=Monday, 6=Sunday)\n",
    "df['hour'] = df['trans_date_trans_time'].dt.hour"
   ]
  },
  {
   "cell_type": "code",
   "execution_count": 8,
   "metadata": {},
   "outputs": [],
   "source": [
    "#The cardholder's age at the time of the transaction\n",
    "df['dob'] = pd.to_datetime(df['dob'], format=r'%Y/%m/%d')\n",
    "df['cardholder_age'] = df.apply(\n",
    "    lambda row: 2019 - row['dob'].year if row['year'] == 2019 else 2020 - row['dob'].year, \n",
    "    axis=1\n",
    ")\n",
    "\n",
    "#Process merchant name\n",
    "df['merchant']=df['merchant'].apply(lambda x:x[6:]) "
   ]
  },
  {
   "cell_type": "code",
   "execution_count": 9,
   "metadata": {},
   "outputs": [],
   "source": [
    "# Calculate the distance between the merchant and the cardholder based on longitude and latitude\n",
    "\n",
    "def haversine(lat1, lon1, lat2, lon2):\n",
    "    R = 6371  # The radius of the Earth in kilometers\n",
    "    phi1 = np.radians(lat1)\n",
    "    phi2 = np.radians(lat2)\n",
    "    delta_phi = np.radians(lat2 - lat1)\n",
    "    delta_lambda = np.radians(lon2 - lon1)\n",
    "    a = np.sin(delta_phi / 2) ** 2 + np.cos(phi1) * np.cos(phi2) * np.sin(delta_lambda / 2) ** 2\n",
    "    c = 2 * np.arctan2(np.sqrt(a), np.sqrt(1 - a))\n",
    "    return R * c\n",
    "\n",
    "df['distance'] = df.apply(lambda row: haversine(row['lat'], row['long'], row['merch_lat'], row['merch_long']), axis=1)"
   ]
  },
  {
   "cell_type": "code",
   "execution_count": 10,
   "metadata": {},
   "outputs": [
    {
     "data": {
      "text/html": [
       "<div>\n",
       "<style scoped>\n",
       "    .dataframe tbody tr th:only-of-type {\n",
       "        vertical-align: middle;\n",
       "    }\n",
       "\n",
       "    .dataframe tbody tr th {\n",
       "        vertical-align: top;\n",
       "    }\n",
       "\n",
       "    .dataframe thead th {\n",
       "        text-align: right;\n",
       "    }\n",
       "</style>\n",
       "<table border=\"1\" class=\"dataframe\">\n",
       "  <thead>\n",
       "    <tr style=\"text-align: right;\">\n",
       "      <th></th>\n",
       "      <th>trans_date_trans_time</th>\n",
       "      <th>merchant</th>\n",
       "      <th>category</th>\n",
       "      <th>amt</th>\n",
       "      <th>gender</th>\n",
       "      <th>city</th>\n",
       "      <th>state</th>\n",
       "      <th>zip</th>\n",
       "      <th>lat</th>\n",
       "      <th>long</th>\n",
       "      <th>city_pop</th>\n",
       "      <th>job</th>\n",
       "      <th>dob</th>\n",
       "      <th>merch_lat</th>\n",
       "      <th>merch_long</th>\n",
       "      <th>is_fraud</th>\n",
       "      <th>merch_zipcode</th>\n",
       "      <th>year</th>\n",
       "      <th>month</th>\n",
       "      <th>day</th>\n",
       "      <th>weekday</th>\n",
       "      <th>hour</th>\n",
       "      <th>cardholder_age</th>\n",
       "      <th>distance</th>\n",
       "    </tr>\n",
       "  </thead>\n",
       "  <tbody>\n",
       "    <tr>\n",
       "      <th>0</th>\n",
       "      <td>2019-01-01</td>\n",
       "      <td>Rippin, Kub and Mann</td>\n",
       "      <td>misc_net</td>\n",
       "      <td>4.97</td>\n",
       "      <td>F</td>\n",
       "      <td>Moravian Falls</td>\n",
       "      <td>NC</td>\n",
       "      <td>28654</td>\n",
       "      <td>36.0788</td>\n",
       "      <td>-81.1781</td>\n",
       "      <td>3495</td>\n",
       "      <td>Psychologist, counselling</td>\n",
       "      <td>1988-03-09</td>\n",
       "      <td>36.011293</td>\n",
       "      <td>-82.048315</td>\n",
       "      <td>0</td>\n",
       "      <td>28705.0</td>\n",
       "      <td>2019</td>\n",
       "      <td>1</td>\n",
       "      <td>1</td>\n",
       "      <td>1</td>\n",
       "      <td>0</td>\n",
       "      <td>31</td>\n",
       "      <td>78.597568</td>\n",
       "    </tr>\n",
       "    <tr>\n",
       "      <th>2</th>\n",
       "      <td>2019-01-01</td>\n",
       "      <td>Lind-Buckridge</td>\n",
       "      <td>entertainment</td>\n",
       "      <td>220.11</td>\n",
       "      <td>M</td>\n",
       "      <td>Malad City</td>\n",
       "      <td>ID</td>\n",
       "      <td>83252</td>\n",
       "      <td>42.1808</td>\n",
       "      <td>-112.2620</td>\n",
       "      <td>4154</td>\n",
       "      <td>Nature conservation officer</td>\n",
       "      <td>1962-01-19</td>\n",
       "      <td>43.150704</td>\n",
       "      <td>-112.154481</td>\n",
       "      <td>0</td>\n",
       "      <td>83236.0</td>\n",
       "      <td>2019</td>\n",
       "      <td>1</td>\n",
       "      <td>1</td>\n",
       "      <td>1</td>\n",
       "      <td>0</td>\n",
       "      <td>57</td>\n",
       "      <td>108.206083</td>\n",
       "    </tr>\n",
       "  </tbody>\n",
       "</table>\n",
       "</div>"
      ],
      "text/plain": [
       "  trans_date_trans_time              merchant       category     amt gender  \\\n",
       "0            2019-01-01  Rippin, Kub and Mann       misc_net    4.97      F   \n",
       "2            2019-01-01        Lind-Buckridge  entertainment  220.11      M   \n",
       "\n",
       "             city state    zip      lat      long  city_pop  \\\n",
       "0  Moravian Falls    NC  28654  36.0788  -81.1781      3495   \n",
       "2      Malad City    ID  83252  42.1808 -112.2620      4154   \n",
       "\n",
       "                           job        dob  merch_lat  merch_long  is_fraud  \\\n",
       "0    Psychologist, counselling 1988-03-09  36.011293  -82.048315         0   \n",
       "2  Nature conservation officer 1962-01-19  43.150704 -112.154481         0   \n",
       "\n",
       "   merch_zipcode  year  month  day  weekday  hour  cardholder_age    distance  \n",
       "0        28705.0  2019      1    1        1     0              31   78.597568  \n",
       "2        83236.0  2019      1    1        1     0              57  108.206083  "
      ]
     },
     "execution_count": 10,
     "metadata": {},
     "output_type": "execute_result"
    }
   ],
   "source": [
    "df.head(2)"
   ]
  },
  {
   "cell_type": "markdown",
   "metadata": {},
   "source": [
    "## Zip codes, state, city, population, and population density"
   ]
  },
  {
   "cell_type": "code",
   "execution_count": 11,
   "metadata": {},
   "outputs": [],
   "source": [
    "# Read a csv of zip codes for US states and cities\n",
    "zip_data = pd.read_csv('uszips.csv')\n",
    "\n",
    "# Process zip codes in the dataset\n",
    "df['merch_zipcode'] = df['merch_zipcode'].astype(str).str.zfill(5)\n",
    "df['merch_zipcode']=df['merch_zipcode'].apply(lambda x:str(int(float(x))))\n",
    "zip_data['city_zip'] = zip_data['city_zip'].astype(str).str.zfill(5)\n",
    "df['zip'] = df['zip'].astype(str).str.zfill(5)\n",
    "\n",
    "zip_data = zip_data[['city_zip', 'state_name', 'city_name', 'population', 'density']].drop_duplicates()"
   ]
  },
  {
   "cell_type": "code",
   "execution_count": 12,
   "metadata": {},
   "outputs": [
    {
     "data": {
      "text/plain": [
       "(33784, 5)"
      ]
     },
     "execution_count": 12,
     "metadata": {},
     "output_type": "execute_result"
    }
   ],
   "source": [
    "zip_data.shape"
   ]
  },
  {
   "cell_type": "code",
   "execution_count": 13,
   "metadata": {},
   "outputs": [],
   "source": [
    "# Extract merchants' state and city\n",
    "df = df.merge(zip_data, \n",
    "              left_on='merch_zipcode', \n",
    "              right_on='city_zip', \n",
    "              how='left').drop(columns=['city_zip'])\n",
    "\n",
    "df.rename(columns={'state_name': 'merch_state', 'city_name': 'merch_city',\n",
    "                   'population': 'merch_pop','density': 'merch_dens'}, inplace=True)"
   ]
  },
  {
   "cell_type": "code",
   "execution_count": 14,
   "metadata": {},
   "outputs": [],
   "source": [
    "# Extract cardholders' state and city\n",
    "df = df.merge(zip_data, \n",
    "              left_on='zip', \n",
    "              right_on='city_zip', \n",
    "              how='left').drop(columns=['city_zip'])\n",
    "\n",
    "df.rename(columns={'state_name': 'holder_state', 'city_name': 'holder_city',\n",
    "    'population': 'holder_pop','density': 'holder_dens'}, inplace=True)"
   ]
  },
  {
   "cell_type": "code",
   "execution_count": 15,
   "metadata": {},
   "outputs": [
    {
     "data": {
      "text/html": [
       "<div>\n",
       "<style scoped>\n",
       "    .dataframe tbody tr th:only-of-type {\n",
       "        vertical-align: middle;\n",
       "    }\n",
       "\n",
       "    .dataframe tbody tr th {\n",
       "        vertical-align: top;\n",
       "    }\n",
       "\n",
       "    .dataframe thead th {\n",
       "        text-align: right;\n",
       "    }\n",
       "</style>\n",
       "<table border=\"1\" class=\"dataframe\">\n",
       "  <thead>\n",
       "    <tr style=\"text-align: right;\">\n",
       "      <th></th>\n",
       "      <th>trans_date_trans_time</th>\n",
       "      <th>merchant</th>\n",
       "      <th>category</th>\n",
       "      <th>amt</th>\n",
       "      <th>gender</th>\n",
       "      <th>city</th>\n",
       "      <th>state</th>\n",
       "      <th>zip</th>\n",
       "      <th>lat</th>\n",
       "      <th>long</th>\n",
       "      <th>city_pop</th>\n",
       "      <th>job</th>\n",
       "      <th>dob</th>\n",
       "      <th>merch_lat</th>\n",
       "      <th>merch_long</th>\n",
       "      <th>is_fraud</th>\n",
       "      <th>merch_zipcode</th>\n",
       "      <th>year</th>\n",
       "      <th>month</th>\n",
       "      <th>day</th>\n",
       "      <th>weekday</th>\n",
       "      <th>hour</th>\n",
       "      <th>cardholder_age</th>\n",
       "      <th>distance</th>\n",
       "      <th>merch_state</th>\n",
       "      <th>merch_city</th>\n",
       "      <th>merch_pop</th>\n",
       "      <th>merch_dens</th>\n",
       "      <th>holder_state</th>\n",
       "      <th>holder_city</th>\n",
       "      <th>holder_pop</th>\n",
       "      <th>holder_dens</th>\n",
       "    </tr>\n",
       "  </thead>\n",
       "  <tbody>\n",
       "    <tr>\n",
       "      <th>0</th>\n",
       "      <td>2019-01-01</td>\n",
       "      <td>Rippin, Kub and Mann</td>\n",
       "      <td>misc_net</td>\n",
       "      <td>4.97</td>\n",
       "      <td>F</td>\n",
       "      <td>Moravian Falls</td>\n",
       "      <td>NC</td>\n",
       "      <td>28654</td>\n",
       "      <td>36.0788</td>\n",
       "      <td>-81.1781</td>\n",
       "      <td>3495</td>\n",
       "      <td>Psychologist, counselling</td>\n",
       "      <td>1988-03-09</td>\n",
       "      <td>36.011293</td>\n",
       "      <td>-82.048315</td>\n",
       "      <td>0</td>\n",
       "      <td>28705</td>\n",
       "      <td>2019</td>\n",
       "      <td>1</td>\n",
       "      <td>1</td>\n",
       "      <td>1</td>\n",
       "      <td>0</td>\n",
       "      <td>31</td>\n",
       "      <td>78.597568</td>\n",
       "      <td>North Carolina</td>\n",
       "      <td>Bakersville</td>\n",
       "      <td>6708.0</td>\n",
       "      <td>20.9</td>\n",
       "      <td>North Carolina</td>\n",
       "      <td>Moravian Falls</td>\n",
       "      <td>3142.0</td>\n",
       "      <td>19.8</td>\n",
       "    </tr>\n",
       "    <tr>\n",
       "      <th>1</th>\n",
       "      <td>2019-01-01</td>\n",
       "      <td>Lind-Buckridge</td>\n",
       "      <td>entertainment</td>\n",
       "      <td>220.11</td>\n",
       "      <td>M</td>\n",
       "      <td>Malad City</td>\n",
       "      <td>ID</td>\n",
       "      <td>83252</td>\n",
       "      <td>42.1808</td>\n",
       "      <td>-112.2620</td>\n",
       "      <td>4154</td>\n",
       "      <td>Nature conservation officer</td>\n",
       "      <td>1962-01-19</td>\n",
       "      <td>43.150704</td>\n",
       "      <td>-112.154481</td>\n",
       "      <td>0</td>\n",
       "      <td>83236</td>\n",
       "      <td>2019</td>\n",
       "      <td>1</td>\n",
       "      <td>1</td>\n",
       "      <td>1</td>\n",
       "      <td>0</td>\n",
       "      <td>57</td>\n",
       "      <td>108.206083</td>\n",
       "      <td>Idaho</td>\n",
       "      <td>Firth</td>\n",
       "      <td>2018.0</td>\n",
       "      <td>3.6</td>\n",
       "      <td>Idaho</td>\n",
       "      <td>Malad City</td>\n",
       "      <td>4546.0</td>\n",
       "      <td>2.4</td>\n",
       "    </tr>\n",
       "  </tbody>\n",
       "</table>\n",
       "</div>"
      ],
      "text/plain": [
       "  trans_date_trans_time              merchant       category     amt gender  \\\n",
       "0            2019-01-01  Rippin, Kub and Mann       misc_net    4.97      F   \n",
       "1            2019-01-01        Lind-Buckridge  entertainment  220.11      M   \n",
       "\n",
       "             city state    zip      lat      long  city_pop  \\\n",
       "0  Moravian Falls    NC  28654  36.0788  -81.1781      3495   \n",
       "1      Malad City    ID  83252  42.1808 -112.2620      4154   \n",
       "\n",
       "                           job        dob  merch_lat  merch_long  is_fraud  \\\n",
       "0    Psychologist, counselling 1988-03-09  36.011293  -82.048315         0   \n",
       "1  Nature conservation officer 1962-01-19  43.150704 -112.154481         0   \n",
       "\n",
       "  merch_zipcode  year  month  day  weekday  hour  cardholder_age    distance  \\\n",
       "0         28705  2019      1    1        1     0              31   78.597568   \n",
       "1         83236  2019      1    1        1     0              57  108.206083   \n",
       "\n",
       "      merch_state   merch_city  merch_pop  merch_dens    holder_state  \\\n",
       "0  North Carolina  Bakersville     6708.0        20.9  North Carolina   \n",
       "1           Idaho        Firth     2018.0         3.6           Idaho   \n",
       "\n",
       "      holder_city  holder_pop  holder_dens  \n",
       "0  Moravian Falls      3142.0         19.8  \n",
       "1      Malad City      4546.0          2.4  "
      ]
     },
     "execution_count": 15,
     "metadata": {},
     "output_type": "execute_result"
    }
   ],
   "source": [
    "df.head(2)"
   ]
  },
  {
   "cell_type": "markdown",
   "metadata": {},
   "source": [
    "# Feature Engineering"
   ]
  },
  {
   "cell_type": "code",
   "execution_count": 16,
   "metadata": {},
   "outputs": [],
   "source": [
    "df_new=df[['year','month','day','hour','weekday',\n",
    "           'amt','distance',\n",
    "           'gender','cardholder_age','job','holder_state','holder_city','holder_pop','holder_dens',\n",
    "           'category','merchant','merch_state','merch_city','merch_pop','merch_dens',\n",
    "           'is_fraud']]"
   ]
  },
  {
   "cell_type": "code",
   "execution_count": 17,
   "metadata": {},
   "outputs": [
    {
     "data": {
      "text/html": [
       "<div>\n",
       "<style scoped>\n",
       "    .dataframe tbody tr th:only-of-type {\n",
       "        vertical-align: middle;\n",
       "    }\n",
       "\n",
       "    .dataframe tbody tr th {\n",
       "        vertical-align: top;\n",
       "    }\n",
       "\n",
       "    .dataframe thead th {\n",
       "        text-align: right;\n",
       "    }\n",
       "</style>\n",
       "<table border=\"1\" class=\"dataframe\">\n",
       "  <thead>\n",
       "    <tr style=\"text-align: right;\">\n",
       "      <th></th>\n",
       "      <th>year</th>\n",
       "      <th>month</th>\n",
       "      <th>day</th>\n",
       "      <th>hour</th>\n",
       "      <th>weekday</th>\n",
       "      <th>amt</th>\n",
       "      <th>distance</th>\n",
       "      <th>gender</th>\n",
       "      <th>cardholder_age</th>\n",
       "      <th>job</th>\n",
       "      <th>holder_state</th>\n",
       "      <th>holder_city</th>\n",
       "      <th>holder_pop</th>\n",
       "      <th>holder_dens</th>\n",
       "      <th>category</th>\n",
       "      <th>merchant</th>\n",
       "      <th>merch_state</th>\n",
       "      <th>merch_city</th>\n",
       "      <th>merch_pop</th>\n",
       "      <th>merch_dens</th>\n",
       "      <th>is_fraud</th>\n",
       "    </tr>\n",
       "  </thead>\n",
       "  <tbody>\n",
       "    <tr>\n",
       "      <th>0</th>\n",
       "      <td>2019</td>\n",
       "      <td>1</td>\n",
       "      <td>1</td>\n",
       "      <td>0</td>\n",
       "      <td>1</td>\n",
       "      <td>4.97</td>\n",
       "      <td>78.597568</td>\n",
       "      <td>F</td>\n",
       "      <td>31</td>\n",
       "      <td>Psychologist, counselling</td>\n",
       "      <td>North Carolina</td>\n",
       "      <td>Moravian Falls</td>\n",
       "      <td>3142.0</td>\n",
       "      <td>19.8</td>\n",
       "      <td>misc_net</td>\n",
       "      <td>Rippin, Kub and Mann</td>\n",
       "      <td>North Carolina</td>\n",
       "      <td>Bakersville</td>\n",
       "      <td>6708.0</td>\n",
       "      <td>20.9</td>\n",
       "      <td>0</td>\n",
       "    </tr>\n",
       "    <tr>\n",
       "      <th>1</th>\n",
       "      <td>2019</td>\n",
       "      <td>1</td>\n",
       "      <td>1</td>\n",
       "      <td>0</td>\n",
       "      <td>1</td>\n",
       "      <td>220.11</td>\n",
       "      <td>108.206083</td>\n",
       "      <td>M</td>\n",
       "      <td>57</td>\n",
       "      <td>Nature conservation officer</td>\n",
       "      <td>Idaho</td>\n",
       "      <td>Malad City</td>\n",
       "      <td>4546.0</td>\n",
       "      <td>2.4</td>\n",
       "      <td>entertainment</td>\n",
       "      <td>Lind-Buckridge</td>\n",
       "      <td>Idaho</td>\n",
       "      <td>Firth</td>\n",
       "      <td>2018.0</td>\n",
       "      <td>3.6</td>\n",
       "      <td>0</td>\n",
       "    </tr>\n",
       "  </tbody>\n",
       "</table>\n",
       "</div>"
      ],
      "text/plain": [
       "   year  month  day  hour  weekday     amt    distance gender  cardholder_age  \\\n",
       "0  2019      1    1     0        1    4.97   78.597568      F              31   \n",
       "1  2019      1    1     0        1  220.11  108.206083      M              57   \n",
       "\n",
       "                           job    holder_state     holder_city  holder_pop  \\\n",
       "0    Psychologist, counselling  North Carolina  Moravian Falls      3142.0   \n",
       "1  Nature conservation officer           Idaho      Malad City      4546.0   \n",
       "\n",
       "   holder_dens       category              merchant     merch_state  \\\n",
       "0         19.8       misc_net  Rippin, Kub and Mann  North Carolina   \n",
       "1          2.4  entertainment        Lind-Buckridge           Idaho   \n",
       "\n",
       "    merch_city  merch_pop  merch_dens  is_fraud  \n",
       "0  Bakersville     6708.0        20.9         0  \n",
       "1        Firth     2018.0         3.6         0  "
      ]
     },
     "execution_count": 17,
     "metadata": {},
     "output_type": "execute_result"
    }
   ],
   "source": [
    "df_new.head(2)"
   ]
  },
  {
   "cell_type": "markdown",
   "metadata": {},
   "source": [
    "## Periodic Encoding"
   ]
  },
  {
   "cell_type": "code",
   "execution_count": 18,
   "metadata": {},
   "outputs": [
    {
     "name": "stderr",
     "output_type": "stream",
     "text": [
      "C:\\Users\\Ragnarok\\AppData\\Local\\Temp\\ipykernel_21444\\3824067000.py:3: SettingWithCopyWarning: \n",
      "A value is trying to be set on a copy of a slice from a DataFrame.\n",
      "Try using .loc[row_indexer,col_indexer] = value instead\n",
      "\n",
      "See the caveats in the documentation: https://pandas.pydata.org/pandas-docs/stable/user_guide/indexing.html#returning-a-view-versus-a-copy\n",
      "  df_new['weekday_sin'] = np.sin(2 * np.pi * df_new['weekday'] / 7)\n",
      "C:\\Users\\Ragnarok\\AppData\\Local\\Temp\\ipykernel_21444\\3824067000.py:4: SettingWithCopyWarning: \n",
      "A value is trying to be set on a copy of a slice from a DataFrame.\n",
      "Try using .loc[row_indexer,col_indexer] = value instead\n",
      "\n",
      "See the caveats in the documentation: https://pandas.pydata.org/pandas-docs/stable/user_guide/indexing.html#returning-a-view-versus-a-copy\n",
      "  df_new['weekday_cos'] = np.cos(2 * np.pi * df_new['weekday'] / 7)\n",
      "C:\\Users\\Ragnarok\\AppData\\Local\\Temp\\ipykernel_21444\\3824067000.py:6: SettingWithCopyWarning: \n",
      "A value is trying to be set on a copy of a slice from a DataFrame.\n",
      "Try using .loc[row_indexer,col_indexer] = value instead\n",
      "\n",
      "See the caveats in the documentation: https://pandas.pydata.org/pandas-docs/stable/user_guide/indexing.html#returning-a-view-versus-a-copy\n",
      "  df_new['month_sin'] = np.sin(2 * np.pi * df_new['month'] / 12)\n",
      "C:\\Users\\Ragnarok\\AppData\\Local\\Temp\\ipykernel_21444\\3824067000.py:7: SettingWithCopyWarning: \n",
      "A value is trying to be set on a copy of a slice from a DataFrame.\n",
      "Try using .loc[row_indexer,col_indexer] = value instead\n",
      "\n",
      "See the caveats in the documentation: https://pandas.pydata.org/pandas-docs/stable/user_guide/indexing.html#returning-a-view-versus-a-copy\n",
      "  df_new['month_cos'] = np.cos(2 * np.pi * df_new['month'] / 12)\n",
      "C:\\Users\\Ragnarok\\AppData\\Local\\Temp\\ipykernel_21444\\3824067000.py:9: SettingWithCopyWarning: \n",
      "A value is trying to be set on a copy of a slice from a DataFrame.\n",
      "Try using .loc[row_indexer,col_indexer] = value instead\n",
      "\n",
      "See the caveats in the documentation: https://pandas.pydata.org/pandas-docs/stable/user_guide/indexing.html#returning-a-view-versus-a-copy\n",
      "  df_new['day_sin'] = np.sin(2 * np.pi * df_new['day'] / 31)\n",
      "C:\\Users\\Ragnarok\\AppData\\Local\\Temp\\ipykernel_21444\\3824067000.py:10: SettingWithCopyWarning: \n",
      "A value is trying to be set on a copy of a slice from a DataFrame.\n",
      "Try using .loc[row_indexer,col_indexer] = value instead\n",
      "\n",
      "See the caveats in the documentation: https://pandas.pydata.org/pandas-docs/stable/user_guide/indexing.html#returning-a-view-versus-a-copy\n",
      "  df_new['day_cos'] = np.cos(2 * np.pi * df_new['day'] / 31)\n",
      "C:\\Users\\Ragnarok\\AppData\\Local\\Temp\\ipykernel_21444\\3824067000.py:12: SettingWithCopyWarning: \n",
      "A value is trying to be set on a copy of a slice from a DataFrame.\n",
      "Try using .loc[row_indexer,col_indexer] = value instead\n",
      "\n",
      "See the caveats in the documentation: https://pandas.pydata.org/pandas-docs/stable/user_guide/indexing.html#returning-a-view-versus-a-copy\n",
      "  df_new['hour_sin'] = np.sin(2 * np.pi * df_new['hour'] / 24)\n",
      "C:\\Users\\Ragnarok\\AppData\\Local\\Temp\\ipykernel_21444\\3824067000.py:13: SettingWithCopyWarning: \n",
      "A value is trying to be set on a copy of a slice from a DataFrame.\n",
      "Try using .loc[row_indexer,col_indexer] = value instead\n",
      "\n",
      "See the caveats in the documentation: https://pandas.pydata.org/pandas-docs/stable/user_guide/indexing.html#returning-a-view-versus-a-copy\n",
      "  df_new['hour_cos'] = np.cos(2 * np.pi * df_new['hour'] / 24)\n"
     ]
    }
   ],
   "source": [
    "#Periodic Encoding\n",
    "\n",
    "df_new['weekday_sin'] = np.sin(2 * np.pi * df_new['weekday'] / 7)\n",
    "df_new['weekday_cos'] = np.cos(2 * np.pi * df_new['weekday'] / 7)\n",
    "\n",
    "df_new['month_sin'] = np.sin(2 * np.pi * df_new['month'] / 12)\n",
    "df_new['month_cos'] = np.cos(2 * np.pi * df_new['month'] / 12)\n",
    "\n",
    "df_new['day_sin'] = np.sin(2 * np.pi * df_new['day'] / 31)\n",
    "df_new['day_cos'] = np.cos(2 * np.pi * df_new['day'] / 31)\n",
    "\n",
    "df_new['hour_sin'] = np.sin(2 * np.pi * df_new['hour'] / 24)\n",
    "df_new['hour_cos'] = np.cos(2 * np.pi * df_new['hour'] / 24)"
   ]
  },
  {
   "cell_type": "markdown",
   "metadata": {},
   "source": [
    "## one-hot"
   ]
  },
  {
   "cell_type": "code",
   "execution_count": 19,
   "metadata": {},
   "outputs": [],
   "source": [
    "#one-hot\n",
    "df_new = pd.get_dummies(df_new, columns=['year','category','gender'])"
   ]
  },
  {
   "cell_type": "markdown",
   "metadata": {},
   "source": [
    "## Scaling"
   ]
  },
  {
   "cell_type": "code",
   "execution_count": 20,
   "metadata": {},
   "outputs": [],
   "source": [
    "#Scaling: Min-Max Scaling\n",
    "min_max_scaler = MinMaxScaler()\n",
    "df_new[['amt_scaler', 'distance_scaler','cardholder_age_scaler','holder_pop_scaler','holder_dens_scaler','merch_pop_scaler','merch_dens_scaler'\n",
    "    ]] = min_max_scaler.fit_transform(df_new[['amt', 'distance','cardholder_age','holder_pop','holder_dens','merch_pop','merch_dens']])\n"
   ]
  },
  {
   "cell_type": "code",
   "execution_count": 21,
   "metadata": {},
   "outputs": [],
   "source": [
    "df_new.drop_duplicates(inplace=True)\n",
    "df_new.dropna(inplace=True)"
   ]
  },
  {
   "cell_type": "markdown",
   "metadata": {},
   "source": [
    "## Target Encoding"
   ]
  },
  {
   "cell_type": "code",
   "execution_count": 22,
   "metadata": {},
   "outputs": [],
   "source": [
    "#Target Encoding\n",
    "\n",
    "# Split training set and test set\n",
    "train_df, test_df = train_test_split(df_new, test_size=0.2, stratify=df_new['is_fraud'], random_state=42)\n",
    "\n",
    "def target_encode(train, test, column, target):\n",
    "    encoding_map = train.groupby(column)[target].mean()\n",
    "    \n",
    "    train_encoded = train[column].map(encoding_map)\n",
    "    test_encoded = test[column].map(encoding_map)\n",
    "    \n",
    "    global_mean = train[target].mean()\n",
    "    train_encoded.fillna(global_mean, inplace=True)\n",
    "    test_encoded.fillna(global_mean, inplace=True)\n",
    "    \n",
    "    return train_encoded, test_encoded\n",
    "\n",
    "# Columns that require target encoding\n",
    "columns_to_encode = ['job','holder_state','holder_city','merchant','merch_state', 'merch_city']\n",
    "\n",
    "for col in columns_to_encode:\n",
    "    train_df[f'{col}_encoded'], test_df[f'{col}_encoded'] = target_encode(train_df, test_df, col, 'is_fraud')"
   ]
  },
  {
   "cell_type": "code",
   "execution_count": 23,
   "metadata": {},
   "outputs": [
    {
     "data": {
      "text/plain": [
       "(656677, 57)"
      ]
     },
     "execution_count": 23,
     "metadata": {},
     "output_type": "execute_result"
    }
   ],
   "source": [
    "train_df.shape"
   ]
  },
  {
   "cell_type": "code",
   "execution_count": 24,
   "metadata": {},
   "outputs": [
    {
     "data": {
      "text/html": [
       "<div>\n",
       "<style scoped>\n",
       "    .dataframe tbody tr th:only-of-type {\n",
       "        vertical-align: middle;\n",
       "    }\n",
       "\n",
       "    .dataframe tbody tr th {\n",
       "        vertical-align: top;\n",
       "    }\n",
       "\n",
       "    .dataframe thead th {\n",
       "        text-align: right;\n",
       "    }\n",
       "</style>\n",
       "<table border=\"1\" class=\"dataframe\">\n",
       "  <thead>\n",
       "    <tr style=\"text-align: right;\">\n",
       "      <th></th>\n",
       "      <th>month</th>\n",
       "      <th>day</th>\n",
       "      <th>hour</th>\n",
       "      <th>weekday</th>\n",
       "      <th>amt</th>\n",
       "      <th>distance</th>\n",
       "      <th>cardholder_age</th>\n",
       "      <th>job</th>\n",
       "      <th>holder_state</th>\n",
       "      <th>holder_city</th>\n",
       "      <th>holder_pop</th>\n",
       "      <th>holder_dens</th>\n",
       "      <th>merchant</th>\n",
       "      <th>merch_state</th>\n",
       "      <th>merch_city</th>\n",
       "      <th>merch_pop</th>\n",
       "      <th>merch_dens</th>\n",
       "      <th>is_fraud</th>\n",
       "      <th>weekday_sin</th>\n",
       "      <th>weekday_cos</th>\n",
       "      <th>month_sin</th>\n",
       "      <th>month_cos</th>\n",
       "      <th>day_sin</th>\n",
       "      <th>day_cos</th>\n",
       "      <th>hour_sin</th>\n",
       "      <th>hour_cos</th>\n",
       "      <th>year_2019</th>\n",
       "      <th>year_2020</th>\n",
       "      <th>category_entertainment</th>\n",
       "      <th>category_food_dining</th>\n",
       "      <th>category_gas_transport</th>\n",
       "      <th>category_grocery_net</th>\n",
       "      <th>category_grocery_pos</th>\n",
       "      <th>category_health_fitness</th>\n",
       "      <th>category_home</th>\n",
       "      <th>category_kids_pets</th>\n",
       "      <th>category_misc_net</th>\n",
       "      <th>category_misc_pos</th>\n",
       "      <th>category_personal_care</th>\n",
       "      <th>category_shopping_net</th>\n",
       "      <th>category_shopping_pos</th>\n",
       "      <th>category_travel</th>\n",
       "      <th>gender_F</th>\n",
       "      <th>gender_M</th>\n",
       "      <th>amt_scaler</th>\n",
       "      <th>distance_scaler</th>\n",
       "      <th>cardholder_age_scaler</th>\n",
       "      <th>holder_pop_scaler</th>\n",
       "      <th>holder_dens_scaler</th>\n",
       "      <th>merch_pop_scaler</th>\n",
       "      <th>merch_dens_scaler</th>\n",
       "      <th>job_encoded</th>\n",
       "      <th>holder_state_encoded</th>\n",
       "      <th>holder_city_encoded</th>\n",
       "      <th>merchant_encoded</th>\n",
       "      <th>merch_state_encoded</th>\n",
       "      <th>merch_city_encoded</th>\n",
       "    </tr>\n",
       "  </thead>\n",
       "  <tbody>\n",
       "    <tr>\n",
       "      <th>695042</th>\n",
       "      <td>12</td>\n",
       "      <td>8</td>\n",
       "      <td>15</td>\n",
       "      <td>6</td>\n",
       "      <td>118.63</td>\n",
       "      <td>36.346766</td>\n",
       "      <td>25</td>\n",
       "      <td>Biomedical engineer</td>\n",
       "      <td>Indiana</td>\n",
       "      <td>Leo</td>\n",
       "      <td>5935.0</td>\n",
       "      <td>181.2</td>\n",
       "      <td>McCullough, Hudson and Schuster</td>\n",
       "      <td>Indiana</td>\n",
       "      <td>Churubusco</td>\n",
       "      <td>7550.0</td>\n",
       "      <td>50.0</td>\n",
       "      <td>0</td>\n",
       "      <td>-0.781831</td>\n",
       "      <td>0.623490</td>\n",
       "      <td>-2.449294e-16</td>\n",
       "      <td>1.000000</td>\n",
       "      <td>0.998717</td>\n",
       "      <td>-0.050649</td>\n",
       "      <td>-0.707107</td>\n",
       "      <td>-0.707107</td>\n",
       "      <td>True</td>\n",
       "      <td>False</td>\n",
       "      <td>False</td>\n",
       "      <td>True</td>\n",
       "      <td>False</td>\n",
       "      <td>False</td>\n",
       "      <td>False</td>\n",
       "      <td>False</td>\n",
       "      <td>False</td>\n",
       "      <td>False</td>\n",
       "      <td>False</td>\n",
       "      <td>False</td>\n",
       "      <td>False</td>\n",
       "      <td>False</td>\n",
       "      <td>False</td>\n",
       "      <td>False</td>\n",
       "      <td>False</td>\n",
       "      <td>True</td>\n",
       "      <td>0.004064</td>\n",
       "      <td>0.242516</td>\n",
       "      <td>0.134146</td>\n",
       "      <td>0.058196</td>\n",
       "      <td>0.003944</td>\n",
       "      <td>0.057669</td>\n",
       "      <td>0.000821</td>\n",
       "      <td>0.000000</td>\n",
       "      <td>0.004708</td>\n",
       "      <td>0.000000</td>\n",
       "      <td>0.001070</td>\n",
       "      <td>0.005210</td>\n",
       "      <td>0.0</td>\n",
       "    </tr>\n",
       "    <tr>\n",
       "      <th>350821</th>\n",
       "      <td>7</td>\n",
       "      <td>6</td>\n",
       "      <td>9</td>\n",
       "      <td>5</td>\n",
       "      <td>83.70</td>\n",
       "      <td>116.760892</td>\n",
       "      <td>33</td>\n",
       "      <td>Geologist, engineering</td>\n",
       "      <td>Virginia</td>\n",
       "      <td>Atlantic</td>\n",
       "      <td>463.0</td>\n",
       "      <td>31.6</td>\n",
       "      <td>Heathcote LLC</td>\n",
       "      <td>Virginia</td>\n",
       "      <td>Virginia Beach</td>\n",
       "      <td>50665.0</td>\n",
       "      <td>1289.0</td>\n",
       "      <td>0</td>\n",
       "      <td>-0.974928</td>\n",
       "      <td>-0.222521</td>\n",
       "      <td>-5.000000e-01</td>\n",
       "      <td>-0.866025</td>\n",
       "      <td>0.937752</td>\n",
       "      <td>0.347305</td>\n",
       "      <td>0.707107</td>\n",
       "      <td>-0.707107</td>\n",
       "      <td>True</td>\n",
       "      <td>False</td>\n",
       "      <td>False</td>\n",
       "      <td>False</td>\n",
       "      <td>False</td>\n",
       "      <td>False</td>\n",
       "      <td>False</td>\n",
       "      <td>False</td>\n",
       "      <td>False</td>\n",
       "      <td>False</td>\n",
       "      <td>False</td>\n",
       "      <td>False</td>\n",
       "      <td>False</td>\n",
       "      <td>True</td>\n",
       "      <td>False</td>\n",
       "      <td>False</td>\n",
       "      <td>False</td>\n",
       "      <td>True</td>\n",
       "      <td>0.002857</td>\n",
       "      <td>0.779389</td>\n",
       "      <td>0.231707</td>\n",
       "      <td>0.004540</td>\n",
       "      <td>0.000688</td>\n",
       "      <td>0.386992</td>\n",
       "      <td>0.021173</td>\n",
       "      <td>0.010493</td>\n",
       "      <td>0.006150</td>\n",
       "      <td>0.011952</td>\n",
       "      <td>0.019666</td>\n",
       "      <td>0.006241</td>\n",
       "      <td>0.0</td>\n",
       "    </tr>\n",
       "  </tbody>\n",
       "</table>\n",
       "</div>"
      ],
      "text/plain": [
       "        month  day  hour  weekday     amt    distance  cardholder_age  \\\n",
       "695042     12    8    15        6  118.63   36.346766              25   \n",
       "350821      7    6     9        5   83.70  116.760892              33   \n",
       "\n",
       "                           job holder_state holder_city  holder_pop  \\\n",
       "695042     Biomedical engineer      Indiana         Leo      5935.0   \n",
       "350821  Geologist, engineering     Virginia    Atlantic       463.0   \n",
       "\n",
       "        holder_dens                         merchant merch_state  \\\n",
       "695042        181.2  McCullough, Hudson and Schuster     Indiana   \n",
       "350821         31.6                    Heathcote LLC    Virginia   \n",
       "\n",
       "            merch_city  merch_pop  merch_dens  is_fraud  weekday_sin  \\\n",
       "695042      Churubusco     7550.0        50.0         0    -0.781831   \n",
       "350821  Virginia Beach    50665.0      1289.0         0    -0.974928   \n",
       "\n",
       "        weekday_cos     month_sin  month_cos   day_sin   day_cos  hour_sin  \\\n",
       "695042     0.623490 -2.449294e-16   1.000000  0.998717 -0.050649 -0.707107   \n",
       "350821    -0.222521 -5.000000e-01  -0.866025  0.937752  0.347305  0.707107   \n",
       "\n",
       "        hour_cos  year_2019  year_2020  category_entertainment  \\\n",
       "695042 -0.707107       True      False                   False   \n",
       "350821 -0.707107       True      False                   False   \n",
       "\n",
       "        category_food_dining  category_gas_transport  category_grocery_net  \\\n",
       "695042                  True                   False                 False   \n",
       "350821                 False                   False                 False   \n",
       "\n",
       "        category_grocery_pos  category_health_fitness  category_home  \\\n",
       "695042                 False                    False          False   \n",
       "350821                 False                    False          False   \n",
       "\n",
       "        category_kids_pets  category_misc_net  category_misc_pos  \\\n",
       "695042               False              False              False   \n",
       "350821               False              False              False   \n",
       "\n",
       "        category_personal_care  category_shopping_net  category_shopping_pos  \\\n",
       "695042                   False                  False                  False   \n",
       "350821                   False                   True                  False   \n",
       "\n",
       "        category_travel  gender_F  gender_M  amt_scaler  distance_scaler  \\\n",
       "695042            False     False      True    0.004064         0.242516   \n",
       "350821            False     False      True    0.002857         0.779389   \n",
       "\n",
       "        cardholder_age_scaler  holder_pop_scaler  holder_dens_scaler  \\\n",
       "695042               0.134146           0.058196            0.003944   \n",
       "350821               0.231707           0.004540            0.000688   \n",
       "\n",
       "        merch_pop_scaler  merch_dens_scaler  job_encoded  \\\n",
       "695042          0.057669           0.000821     0.000000   \n",
       "350821          0.386992           0.021173     0.010493   \n",
       "\n",
       "        holder_state_encoded  holder_city_encoded  merchant_encoded  \\\n",
       "695042              0.004708             0.000000          0.001070   \n",
       "350821              0.006150             0.011952          0.019666   \n",
       "\n",
       "        merch_state_encoded  merch_city_encoded  \n",
       "695042             0.005210                 0.0  \n",
       "350821             0.006241                 0.0  "
      ]
     },
     "execution_count": 24,
     "metadata": {},
     "output_type": "execute_result"
    }
   ],
   "source": [
    "train_df.head(2)"
   ]
  },
  {
   "cell_type": "markdown",
   "metadata": {},
   "source": [
    "# Resampling"
   ]
  },
  {
   "cell_type": "code",
   "execution_count": 25,
   "metadata": {},
   "outputs": [
    {
     "data": {
      "text/html": [
       "<div>\n",
       "<style scoped>\n",
       "    .dataframe tbody tr th:only-of-type {\n",
       "        vertical-align: middle;\n",
       "    }\n",
       "\n",
       "    .dataframe tbody tr th {\n",
       "        vertical-align: top;\n",
       "    }\n",
       "\n",
       "    .dataframe thead th {\n",
       "        text-align: right;\n",
       "    }\n",
       "</style>\n",
       "<table border=\"1\" class=\"dataframe\">\n",
       "  <thead>\n",
       "    <tr style=\"text-align: right;\">\n",
       "      <th></th>\n",
       "      <th>is_fraud</th>\n",
       "      <th>weekday_sin</th>\n",
       "      <th>weekday_cos</th>\n",
       "      <th>month_sin</th>\n",
       "      <th>month_cos</th>\n",
       "      <th>day_sin</th>\n",
       "      <th>day_cos</th>\n",
       "      <th>hour_sin</th>\n",
       "      <th>hour_cos</th>\n",
       "      <th>year_2019</th>\n",
       "      <th>year_2020</th>\n",
       "      <th>category_entertainment</th>\n",
       "      <th>category_food_dining</th>\n",
       "      <th>category_gas_transport</th>\n",
       "      <th>category_grocery_net</th>\n",
       "      <th>category_grocery_pos</th>\n",
       "      <th>category_health_fitness</th>\n",
       "      <th>category_home</th>\n",
       "      <th>category_kids_pets</th>\n",
       "      <th>category_misc_net</th>\n",
       "      <th>category_misc_pos</th>\n",
       "      <th>category_personal_care</th>\n",
       "      <th>category_shopping_net</th>\n",
       "      <th>category_shopping_pos</th>\n",
       "      <th>category_travel</th>\n",
       "      <th>gender_F</th>\n",
       "      <th>gender_M</th>\n",
       "      <th>amt_scaler</th>\n",
       "      <th>distance_scaler</th>\n",
       "      <th>cardholder_age_scaler</th>\n",
       "      <th>holder_pop_scaler</th>\n",
       "      <th>holder_dens_scaler</th>\n",
       "      <th>merch_pop_scaler</th>\n",
       "      <th>merch_dens_scaler</th>\n",
       "      <th>job_encoded</th>\n",
       "      <th>holder_state_encoded</th>\n",
       "      <th>holder_city_encoded</th>\n",
       "      <th>merchant_encoded</th>\n",
       "      <th>merch_state_encoded</th>\n",
       "      <th>merch_city_encoded</th>\n",
       "    </tr>\n",
       "  </thead>\n",
       "  <tbody>\n",
       "    <tr>\n",
       "      <th>695042</th>\n",
       "      <td>0</td>\n",
       "      <td>-0.781831</td>\n",
       "      <td>0.623490</td>\n",
       "      <td>-2.449294e-16</td>\n",
       "      <td>1.000000</td>\n",
       "      <td>0.998717</td>\n",
       "      <td>-0.050649</td>\n",
       "      <td>-0.707107</td>\n",
       "      <td>-0.707107</td>\n",
       "      <td>True</td>\n",
       "      <td>False</td>\n",
       "      <td>False</td>\n",
       "      <td>True</td>\n",
       "      <td>False</td>\n",
       "      <td>False</td>\n",
       "      <td>False</td>\n",
       "      <td>False</td>\n",
       "      <td>False</td>\n",
       "      <td>False</td>\n",
       "      <td>False</td>\n",
       "      <td>False</td>\n",
       "      <td>False</td>\n",
       "      <td>False</td>\n",
       "      <td>False</td>\n",
       "      <td>False</td>\n",
       "      <td>False</td>\n",
       "      <td>True</td>\n",
       "      <td>0.004064</td>\n",
       "      <td>0.242516</td>\n",
       "      <td>0.134146</td>\n",
       "      <td>0.058196</td>\n",
       "      <td>0.003944</td>\n",
       "      <td>0.057669</td>\n",
       "      <td>0.000821</td>\n",
       "      <td>0.000000</td>\n",
       "      <td>0.004708</td>\n",
       "      <td>0.000000</td>\n",
       "      <td>0.001070</td>\n",
       "      <td>0.005210</td>\n",
       "      <td>0.0</td>\n",
       "    </tr>\n",
       "    <tr>\n",
       "      <th>350821</th>\n",
       "      <td>0</td>\n",
       "      <td>-0.974928</td>\n",
       "      <td>-0.222521</td>\n",
       "      <td>-5.000000e-01</td>\n",
       "      <td>-0.866025</td>\n",
       "      <td>0.937752</td>\n",
       "      <td>0.347305</td>\n",
       "      <td>0.707107</td>\n",
       "      <td>-0.707107</td>\n",
       "      <td>True</td>\n",
       "      <td>False</td>\n",
       "      <td>False</td>\n",
       "      <td>False</td>\n",
       "      <td>False</td>\n",
       "      <td>False</td>\n",
       "      <td>False</td>\n",
       "      <td>False</td>\n",
       "      <td>False</td>\n",
       "      <td>False</td>\n",
       "      <td>False</td>\n",
       "      <td>False</td>\n",
       "      <td>False</td>\n",
       "      <td>True</td>\n",
       "      <td>False</td>\n",
       "      <td>False</td>\n",
       "      <td>False</td>\n",
       "      <td>True</td>\n",
       "      <td>0.002857</td>\n",
       "      <td>0.779389</td>\n",
       "      <td>0.231707</td>\n",
       "      <td>0.004540</td>\n",
       "      <td>0.000688</td>\n",
       "      <td>0.386992</td>\n",
       "      <td>0.021173</td>\n",
       "      <td>0.010493</td>\n",
       "      <td>0.006150</td>\n",
       "      <td>0.011952</td>\n",
       "      <td>0.019666</td>\n",
       "      <td>0.006241</td>\n",
       "      <td>0.0</td>\n",
       "    </tr>\n",
       "  </tbody>\n",
       "</table>\n",
       "</div>"
      ],
      "text/plain": [
       "        is_fraud  weekday_sin  weekday_cos     month_sin  month_cos   day_sin  \\\n",
       "695042         0    -0.781831     0.623490 -2.449294e-16   1.000000  0.998717   \n",
       "350821         0    -0.974928    -0.222521 -5.000000e-01  -0.866025  0.937752   \n",
       "\n",
       "         day_cos  hour_sin  hour_cos  year_2019  year_2020  \\\n",
       "695042 -0.050649 -0.707107 -0.707107       True      False   \n",
       "350821  0.347305  0.707107 -0.707107       True      False   \n",
       "\n",
       "        category_entertainment  category_food_dining  category_gas_transport  \\\n",
       "695042                   False                  True                   False   \n",
       "350821                   False                 False                   False   \n",
       "\n",
       "        category_grocery_net  category_grocery_pos  category_health_fitness  \\\n",
       "695042                 False                 False                    False   \n",
       "350821                 False                 False                    False   \n",
       "\n",
       "        category_home  category_kids_pets  category_misc_net  \\\n",
       "695042          False               False              False   \n",
       "350821          False               False              False   \n",
       "\n",
       "        category_misc_pos  category_personal_care  category_shopping_net  \\\n",
       "695042              False                   False                  False   \n",
       "350821              False                   False                   True   \n",
       "\n",
       "        category_shopping_pos  category_travel  gender_F  gender_M  \\\n",
       "695042                  False            False     False      True   \n",
       "350821                  False            False     False      True   \n",
       "\n",
       "        amt_scaler  distance_scaler  cardholder_age_scaler  holder_pop_scaler  \\\n",
       "695042    0.004064         0.242516               0.134146           0.058196   \n",
       "350821    0.002857         0.779389               0.231707           0.004540   \n",
       "\n",
       "        holder_dens_scaler  merch_pop_scaler  merch_dens_scaler  job_encoded  \\\n",
       "695042            0.003944          0.057669           0.000821     0.000000   \n",
       "350821            0.000688          0.386992           0.021173     0.010493   \n",
       "\n",
       "        holder_state_encoded  holder_city_encoded  merchant_encoded  \\\n",
       "695042              0.004708             0.000000          0.001070   \n",
       "350821              0.006150             0.011952          0.019666   \n",
       "\n",
       "        merch_state_encoded  merch_city_encoded  \n",
       "695042             0.005210                 0.0  \n",
       "350821             0.006241                 0.0  "
      ]
     },
     "execution_count": 25,
     "metadata": {},
     "output_type": "execute_result"
    }
   ],
   "source": [
    "df_resample=train_df.drop(columns=['month','day','hour','weekday','amt','distance','cardholder_age','job','holder_state',\n",
    "                         'holder_city','holder_pop','holder_dens','merchant','merch_state','merch_city','merch_pop','merch_dens'])\n",
    "df_resample.head(2)"
   ]
  },
  {
   "cell_type": "code",
   "execution_count": 26,
   "metadata": {},
   "outputs": [
    {
     "data": {
      "text/html": [
       "<div>\n",
       "<style scoped>\n",
       "    .dataframe tbody tr th:only-of-type {\n",
       "        vertical-align: middle;\n",
       "    }\n",
       "\n",
       "    .dataframe tbody tr th {\n",
       "        vertical-align: top;\n",
       "    }\n",
       "\n",
       "    .dataframe thead th {\n",
       "        text-align: right;\n",
       "    }\n",
       "</style>\n",
       "<table border=\"1\" class=\"dataframe\">\n",
       "  <thead>\n",
       "    <tr style=\"text-align: right;\">\n",
       "      <th></th>\n",
       "      <th>is_fraud</th>\n",
       "      <th>weekday_sin</th>\n",
       "      <th>weekday_cos</th>\n",
       "      <th>month_sin</th>\n",
       "      <th>month_cos</th>\n",
       "      <th>day_sin</th>\n",
       "      <th>day_cos</th>\n",
       "      <th>hour_sin</th>\n",
       "      <th>hour_cos</th>\n",
       "      <th>category_entertainment</th>\n",
       "      <th>category_food_dining</th>\n",
       "      <th>category_gas_transport</th>\n",
       "      <th>category_grocery_net</th>\n",
       "      <th>category_grocery_pos</th>\n",
       "      <th>category_health_fitness</th>\n",
       "      <th>category_home</th>\n",
       "      <th>category_kids_pets</th>\n",
       "      <th>category_misc_net</th>\n",
       "      <th>category_misc_pos</th>\n",
       "      <th>category_personal_care</th>\n",
       "      <th>category_shopping_net</th>\n",
       "      <th>category_shopping_pos</th>\n",
       "      <th>category_travel</th>\n",
       "      <th>gender_F</th>\n",
       "      <th>gender_M</th>\n",
       "      <th>amt_scaler</th>\n",
       "      <th>cardholder_age_scaler</th>\n",
       "      <th>job_encoded</th>\n",
       "      <th>merchant_encoded</th>\n",
       "    </tr>\n",
       "  </thead>\n",
       "  <tbody>\n",
       "    <tr>\n",
       "      <th>695042</th>\n",
       "      <td>0</td>\n",
       "      <td>-0.781831</td>\n",
       "      <td>0.623490</td>\n",
       "      <td>-2.449294e-16</td>\n",
       "      <td>1.000000</td>\n",
       "      <td>0.998717</td>\n",
       "      <td>-0.050649</td>\n",
       "      <td>-0.707107</td>\n",
       "      <td>-0.707107</td>\n",
       "      <td>False</td>\n",
       "      <td>True</td>\n",
       "      <td>False</td>\n",
       "      <td>False</td>\n",
       "      <td>False</td>\n",
       "      <td>False</td>\n",
       "      <td>False</td>\n",
       "      <td>False</td>\n",
       "      <td>False</td>\n",
       "      <td>False</td>\n",
       "      <td>False</td>\n",
       "      <td>False</td>\n",
       "      <td>False</td>\n",
       "      <td>False</td>\n",
       "      <td>False</td>\n",
       "      <td>True</td>\n",
       "      <td>0.004064</td>\n",
       "      <td>0.134146</td>\n",
       "      <td>0.000000</td>\n",
       "      <td>0.001070</td>\n",
       "    </tr>\n",
       "    <tr>\n",
       "      <th>350821</th>\n",
       "      <td>0</td>\n",
       "      <td>-0.974928</td>\n",
       "      <td>-0.222521</td>\n",
       "      <td>-5.000000e-01</td>\n",
       "      <td>-0.866025</td>\n",
       "      <td>0.937752</td>\n",
       "      <td>0.347305</td>\n",
       "      <td>0.707107</td>\n",
       "      <td>-0.707107</td>\n",
       "      <td>False</td>\n",
       "      <td>False</td>\n",
       "      <td>False</td>\n",
       "      <td>False</td>\n",
       "      <td>False</td>\n",
       "      <td>False</td>\n",
       "      <td>False</td>\n",
       "      <td>False</td>\n",
       "      <td>False</td>\n",
       "      <td>False</td>\n",
       "      <td>False</td>\n",
       "      <td>True</td>\n",
       "      <td>False</td>\n",
       "      <td>False</td>\n",
       "      <td>False</td>\n",
       "      <td>True</td>\n",
       "      <td>0.002857</td>\n",
       "      <td>0.231707</td>\n",
       "      <td>0.010493</td>\n",
       "      <td>0.019666</td>\n",
       "    </tr>\n",
       "  </tbody>\n",
       "</table>\n",
       "</div>"
      ],
      "text/plain": [
       "        is_fraud  weekday_sin  weekday_cos     month_sin  month_cos   day_sin  \\\n",
       "695042         0    -0.781831     0.623490 -2.449294e-16   1.000000  0.998717   \n",
       "350821         0    -0.974928    -0.222521 -5.000000e-01  -0.866025  0.937752   \n",
       "\n",
       "         day_cos  hour_sin  hour_cos  category_entertainment  \\\n",
       "695042 -0.050649 -0.707107 -0.707107                   False   \n",
       "350821  0.347305  0.707107 -0.707107                   False   \n",
       "\n",
       "        category_food_dining  category_gas_transport  category_grocery_net  \\\n",
       "695042                  True                   False                 False   \n",
       "350821                 False                   False                 False   \n",
       "\n",
       "        category_grocery_pos  category_health_fitness  category_home  \\\n",
       "695042                 False                    False          False   \n",
       "350821                 False                    False          False   \n",
       "\n",
       "        category_kids_pets  category_misc_net  category_misc_pos  \\\n",
       "695042               False              False              False   \n",
       "350821               False              False              False   \n",
       "\n",
       "        category_personal_care  category_shopping_net  category_shopping_pos  \\\n",
       "695042                   False                  False                  False   \n",
       "350821                   False                   True                  False   \n",
       "\n",
       "        category_travel  gender_F  gender_M  amt_scaler  \\\n",
       "695042            False     False      True    0.004064   \n",
       "350821            False     False      True    0.002857   \n",
       "\n",
       "        cardholder_age_scaler  job_encoded  merchant_encoded  \n",
       "695042               0.134146     0.000000          0.001070  \n",
       "350821               0.231707     0.010493          0.019666  "
      ]
     },
     "execution_count": 26,
     "metadata": {},
     "output_type": "execute_result"
    }
   ],
   "source": [
    "df_resample=df_resample.drop(columns=['year_2019','year_2020','distance_scaler','holder_pop_scaler','merch_pop_scaler',\n",
    "                         'holder_state_encoded','holder_city_encoded','merch_state_encoded','merch_city_encoded',\n",
    "                         'holder_dens_scaler','merch_dens_scaler'])\n",
    "df_resample.head(2)"
   ]
  },
  {
   "cell_type": "code",
   "execution_count": 27,
   "metadata": {},
   "outputs": [
    {
     "data": {
      "text/plain": [
       "(656677, 29)"
      ]
     },
     "execution_count": 27,
     "metadata": {},
     "output_type": "execute_result"
    }
   ],
   "source": [
    "df_resample.shape"
   ]
  },
  {
   "cell_type": "code",
   "execution_count": 31,
   "metadata": {},
   "outputs": [],
   "source": [
    "df_resample.to_csv(\"data-train-noresample.csv\", index=False) "
   ]
  },
  {
   "cell_type": "code",
   "execution_count": 32,
   "metadata": {},
   "outputs": [
    {
     "name": "stderr",
     "output_type": "stream",
     "text": [
      "f:\\Anaconda\\Lib\\site-packages\\imblearn\\over_sampling\\_smote\\base.py:370: FutureWarning: The parameter `n_jobs` has been deprecated in 0.10 and will be removed in 0.12. You can pass an nearest neighbors estimator where `n_jobs` is already set instead.\n",
      "  warnings.warn(\n"
     ]
    },
    {
     "name": "stdout",
     "output_type": "stream",
     "text": [
      "Chunk 1 label distribution: Counter({0: 293107, 1: 148707})\n"
     ]
    },
    {
     "name": "stderr",
     "output_type": "stream",
     "text": [
      "f:\\Anaconda\\Lib\\site-packages\\imblearn\\over_sampling\\_smote\\base.py:370: FutureWarning: The parameter `n_jobs` has been deprecated in 0.10 and will be removed in 0.12. You can pass an nearest neighbors estimator where `n_jobs` is already set instead.\n",
      "  warnings.warn(\n"
     ]
    },
    {
     "name": "stdout",
     "output_type": "stream",
     "text": [
      "Chunk 2 label distribution: Counter({0: 292995, 1: 148744})\n"
     ]
    },
    {
     "name": "stderr",
     "output_type": "stream",
     "text": [
      "f:\\Anaconda\\Lib\\site-packages\\imblearn\\over_sampling\\_smote\\base.py:370: FutureWarning: The parameter `n_jobs` has been deprecated in 0.10 and will be removed in 0.12. You can pass an nearest neighbors estimator where `n_jobs` is already set instead.\n",
      "  warnings.warn(\n"
     ]
    },
    {
     "name": "stdout",
     "output_type": "stream",
     "text": [
      "Chunk 3 label distribution: Counter({0: 55007, 1: 28169})\n"
     ]
    }
   ],
   "source": [
    "from imblearn.combine import SMOTEENN\n",
    "from sklearn.model_selection import train_test_split\n",
    "from collections import Counter\n",
    "\n",
    "X = df_resample.drop(columns=['is_fraud'])\n",
    "y = df_resample['is_fraud']\n",
    "\n",
    "def process_in_chunks(X, y, chunk_size=300000): \n",
    "    smote_enn = SMOTEENN(sampling_strategy=0.5, random_state=42, n_jobs=-1)\n",
    "    chunks = []\n",
    "    for i in range(0, len(X), chunk_size):\n",
    "        X_chunk = X.iloc[i:i+chunk_size]\n",
    "        y_chunk = y.iloc[i:i+chunk_size]\n",
    "        X_res, y_res = smote_enn.fit_resample(X_chunk, y_chunk)\n",
    "        chunks.append((X_res, y_res))\n",
    "        print(f\"Chunk {i // chunk_size + 1} label distribution: {Counter(y_res)}\")  \n",
    "\n",
    "    X_resampled = pd.concat([chunk[0] for chunk in chunks], axis=0)\n",
    "    y_resampled = pd.concat([chunk[1] for chunk in chunks], axis=0)\n",
    "    return X_resampled, y_resampled\n",
    "\n",
    "X_resampled, y_resampled = process_in_chunks(X, y)"
   ]
  },
  {
   "cell_type": "code",
   "execution_count": 33,
   "metadata": {},
   "outputs": [
    {
     "name": "stdout",
     "output_type": "stream",
     "text": [
      "Original class distribution: is_fraud\n",
      "0    652957\n",
      "1      3720\n",
      "Name: count, dtype: int64\n",
      "Resampled class distribution: is_fraud\n",
      "0    641109\n",
      "1    325620\n",
      "Name: count, dtype: int64\n"
     ]
    }
   ],
   "source": [
    "print(\"Original class distribution:\", y.value_counts())\n",
    "print(\"Resampled class distribution:\", y_resampled.value_counts())"
   ]
  },
  {
   "cell_type": "code",
   "execution_count": 35,
   "metadata": {},
   "outputs": [
    {
     "name": "stdout",
     "output_type": "stream",
     "text": [
      "Resampled DataFrame shape: (966729, 29)\n"
     ]
    }
   ],
   "source": [
    "y_resampled.name = 'is_fraud'  \n",
    "df_resampled_05 = pd.concat([X_resampled, y_resampled], axis=1)  # Combine\n",
    "\n",
    "print(f\"Resampled DataFrame shape: {df_resampled_05.shape}\")"
   ]
  },
  {
   "cell_type": "code",
   "execution_count": 36,
   "metadata": {},
   "outputs": [],
   "source": [
    "df_resampled_05 = df_resampled_05.reset_index(drop=True)\n",
    "df_resampled_05.to_csv(\"data-training-0.5.csv\", index=False) "
   ]
  },
  {
   "cell_type": "code",
   "execution_count": 25,
   "metadata": {},
   "outputs": [
    {
     "name": "stderr",
     "output_type": "stream",
     "text": [
      "f:\\Anaconda\\Lib\\site-packages\\imblearn\\over_sampling\\_smote\\base.py:370: FutureWarning: The parameter `n_jobs` has been deprecated in 0.10 and will be removed in 0.12. You can pass an nearest neighbors estimator where `n_jobs` is already set instead.\n",
      "  warnings.warn(\n"
     ]
    },
    {
     "name": "stdout",
     "output_type": "stream",
     "text": [
      "Chunk 1 label distribution: Counter({1: 298116, 0: 293070})\n"
     ]
    },
    {
     "name": "stderr",
     "output_type": "stream",
     "text": [
      "f:\\Anaconda\\Lib\\site-packages\\imblearn\\over_sampling\\_smote\\base.py:370: FutureWarning: The parameter `n_jobs` has been deprecated in 0.10 and will be removed in 0.12. You can pass an nearest neighbors estimator where `n_jobs` is already set instead.\n",
      "  warnings.warn(\n"
     ]
    },
    {
     "name": "stdout",
     "output_type": "stream",
     "text": [
      "Chunk 2 label distribution: Counter({1: 298188, 0: 292948})\n"
     ]
    },
    {
     "name": "stderr",
     "output_type": "stream",
     "text": [
      "f:\\Anaconda\\Lib\\site-packages\\imblearn\\over_sampling\\_smote\\base.py:370: FutureWarning: The parameter `n_jobs` has been deprecated in 0.10 and will be removed in 0.12. You can pass an nearest neighbors estimator where `n_jobs` is already set instead.\n",
      "  warnings.warn(\n"
     ]
    },
    {
     "name": "stdout",
     "output_type": "stream",
     "text": [
      "Chunk 3 label distribution: Counter({1: 56362, 0: 54997})\n"
     ]
    }
   ],
   "source": [
    "from imblearn.combine import SMOTEENN\n",
    "from sklearn.model_selection import train_test_split\n",
    "from collections import Counter\n",
    "\n",
    "X = df_resample.drop(columns=['is_fraud'])\n",
    "y = df_resample['is_fraud']\n",
    "\n",
    "def process_in_chunks(X, y, chunk_size=300000): \n",
    "    smote_enn = SMOTEENN(sampling_strategy=1, random_state=42, n_jobs=-1)\n",
    "    chunks = []\n",
    "    for i in range(0, len(X), chunk_size):\n",
    "        X_chunk = X.iloc[i:i+chunk_size]\n",
    "        y_chunk = y.iloc[i:i+chunk_size]\n",
    "        X_res, y_res = smote_enn.fit_resample(X_chunk, y_chunk)\n",
    "        chunks.append((X_res, y_res))\n",
    "        print(f\"Chunk {i // chunk_size + 1} label distribution: {Counter(y_res)}\")  \n",
    "\n",
    "    X_resampled = pd.concat([chunk[0] for chunk in chunks], axis=0)\n",
    "    y_resampled = pd.concat([chunk[1] for chunk in chunks], axis=0)\n",
    "    return X_resampled, y_resampled\n",
    "\n",
    "X_resampled, y_resampled = process_in_chunks(X, y)"
   ]
  },
  {
   "cell_type": "code",
   "execution_count": 26,
   "metadata": {},
   "outputs": [
    {
     "name": "stdout",
     "output_type": "stream",
     "text": [
      "Original class distribution: is_fraud\n",
      "0    652957\n",
      "1      3720\n",
      "Name: count, dtype: int64\n",
      "Resampled class distribution: is_fraud\n",
      "1    652666\n",
      "0    641015\n",
      "Name: count, dtype: int64\n"
     ]
    }
   ],
   "source": [
    "print(\"Original class distribution:\", y.value_counts())\n",
    "print(\"Resampled class distribution:\", y_resampled.value_counts())"
   ]
  },
  {
   "cell_type": "code",
   "execution_count": 27,
   "metadata": {},
   "outputs": [
    {
     "name": "stdout",
     "output_type": "stream",
     "text": [
      "Resampled DataFrame shape: (1293681, 29)\n"
     ]
    }
   ],
   "source": [
    "y_resampled.name = 'is_fraud'  \n",
    "df_resampled_1 = pd.concat([X_resampled, y_resampled], axis=1)  # Combine\n",
    "\n",
    "print(f\"Resampled DataFrame shape: {df_resampled_1.shape}\")"
   ]
  },
  {
   "cell_type": "code",
   "execution_count": 28,
   "metadata": {},
   "outputs": [],
   "source": [
    "df_resampled_1 = df_resampled_1.reset_index(drop=True)\n",
    "df_resampled_1.to_csv(\"data-training-1.csv\", index=False) "
   ]
  },
  {
   "cell_type": "code",
   "execution_count": 36,
   "metadata": {},
   "outputs": [
    {
     "name": "stderr",
     "output_type": "stream",
     "text": [
      "f:\\Anaconda\\Lib\\site-packages\\imblearn\\over_sampling\\_smote\\base.py:370: FutureWarning: The parameter `n_jobs` has been deprecated in 0.10 and will be removed in 0.12. You can pass an nearest neighbors estimator where `n_jobs` is already set instead.\n",
      "  warnings.warn(\n"
     ]
    },
    {
     "name": "stdout",
     "output_type": "stream",
     "text": [
      "Chunk 1 label distribution: Counter({0: 293478, 1: 27235})\n"
     ]
    },
    {
     "name": "stderr",
     "output_type": "stream",
     "text": [
      "f:\\Anaconda\\Lib\\site-packages\\imblearn\\over_sampling\\_smote\\base.py:370: FutureWarning: The parameter `n_jobs` has been deprecated in 0.10 and will be removed in 0.12. You can pass an nearest neighbors estimator where `n_jobs` is already set instead.\n",
      "  warnings.warn(\n"
     ]
    },
    {
     "name": "stdout",
     "output_type": "stream",
     "text": [
      "Chunk 2 label distribution: Counter({0: 293389, 1: 27096})\n"
     ]
    },
    {
     "name": "stderr",
     "output_type": "stream",
     "text": [
      "f:\\Anaconda\\Lib\\site-packages\\imblearn\\over_sampling\\_smote\\base.py:370: FutureWarning: The parameter `n_jobs` has been deprecated in 0.10 and will be removed in 0.12. You can pass an nearest neighbors estimator where `n_jobs` is already set instead.\n",
      "  warnings.warn(\n"
     ]
    },
    {
     "name": "stdout",
     "output_type": "stream",
     "text": [
      "Chunk 3 label distribution: Counter({0: 55113, 1: 5407})\n"
     ]
    }
   ],
   "source": [
    "from imblearn.combine import SMOTEENN\n",
    "from sklearn.model_selection import train_test_split\n",
    "from collections import Counter\n",
    "\n",
    "X = df_resample.drop(columns=['is_fraud'])\n",
    "y = df_resample['is_fraud']\n",
    "\n",
    "def process_in_chunks(X, y, chunk_size=300000): \n",
    "    smote_enn = SMOTEENN(sampling_strategy=0.1, random_state=42, n_jobs=-1)\n",
    "    chunks = []\n",
    "    for i in range(0, len(X), chunk_size):\n",
    "        X_chunk = X.iloc[i:i+chunk_size]\n",
    "        y_chunk = y.iloc[i:i+chunk_size]\n",
    "        X_res, y_res = smote_enn.fit_resample(X_chunk, y_chunk)\n",
    "        chunks.append((X_res, y_res))\n",
    "        print(f\"Chunk {i // chunk_size + 1} label distribution: {Counter(y_res)}\")  \n",
    "\n",
    "    X_resampled = pd.concat([chunk[0] for chunk in chunks], axis=0)\n",
    "    y_resampled = pd.concat([chunk[1] for chunk in chunks], axis=0)\n",
    "    return X_resampled, y_resampled\n",
    "\n",
    "X_resampled, y_resampled = process_in_chunks(X, y)"
   ]
  },
  {
   "cell_type": "code",
   "execution_count": 37,
   "metadata": {},
   "outputs": [
    {
     "name": "stdout",
     "output_type": "stream",
     "text": [
      "Original class distribution: is_fraud\n",
      "0    652957\n",
      "1      3720\n",
      "Name: count, dtype: int64\n",
      "Resampled class distribution: is_fraud\n",
      "0    641980\n",
      "1     59738\n",
      "Name: count, dtype: int64\n"
     ]
    }
   ],
   "source": [
    "print(\"Original class distribution:\", y.value_counts())\n",
    "print(\"Resampled class distribution:\", y_resampled.value_counts())"
   ]
  },
  {
   "cell_type": "code",
   "execution_count": 38,
   "metadata": {},
   "outputs": [
    {
     "name": "stdout",
     "output_type": "stream",
     "text": [
      "Resampled DataFrame shape: (701718, 31)\n"
     ]
    },
    {
     "data": {
      "text/html": [
       "<div>\n",
       "<style scoped>\n",
       "    .dataframe tbody tr th:only-of-type {\n",
       "        vertical-align: middle;\n",
       "    }\n",
       "\n",
       "    .dataframe tbody tr th {\n",
       "        vertical-align: top;\n",
       "    }\n",
       "\n",
       "    .dataframe thead th {\n",
       "        text-align: right;\n",
       "    }\n",
       "</style>\n",
       "<table border=\"1\" class=\"dataframe\">\n",
       "  <thead>\n",
       "    <tr style=\"text-align: right;\">\n",
       "      <th></th>\n",
       "      <th>weekday_sin</th>\n",
       "      <th>weekday_cos</th>\n",
       "      <th>month_sin</th>\n",
       "      <th>month_cos</th>\n",
       "      <th>day_sin</th>\n",
       "      <th>day_cos</th>\n",
       "      <th>hour_sin</th>\n",
       "      <th>hour_cos</th>\n",
       "      <th>category_entertainment</th>\n",
       "      <th>category_food_dining</th>\n",
       "      <th>category_gas_transport</th>\n",
       "      <th>category_grocery_net</th>\n",
       "      <th>category_grocery_pos</th>\n",
       "      <th>category_health_fitness</th>\n",
       "      <th>category_home</th>\n",
       "      <th>category_kids_pets</th>\n",
       "      <th>category_misc_net</th>\n",
       "      <th>category_misc_pos</th>\n",
       "      <th>category_personal_care</th>\n",
       "      <th>category_shopping_net</th>\n",
       "      <th>category_shopping_pos</th>\n",
       "      <th>category_travel</th>\n",
       "      <th>gender_F</th>\n",
       "      <th>gender_M</th>\n",
       "      <th>amt_scaler</th>\n",
       "      <th>cardholder_age_scaler</th>\n",
       "      <th>holder_dens_scaler</th>\n",
       "      <th>merch_dens_scaler</th>\n",
       "      <th>job_encoded</th>\n",
       "      <th>merchant_encoded</th>\n",
       "      <th>is_fraud</th>\n",
       "    </tr>\n",
       "  </thead>\n",
       "  <tbody>\n",
       "    <tr>\n",
       "      <th>0</th>\n",
       "      <td>-0.781831</td>\n",
       "      <td>0.623490</td>\n",
       "      <td>-2.449294e-16</td>\n",
       "      <td>1.000000</td>\n",
       "      <td>0.998717</td>\n",
       "      <td>-0.050649</td>\n",
       "      <td>-0.707107</td>\n",
       "      <td>-0.707107</td>\n",
       "      <td>False</td>\n",
       "      <td>True</td>\n",
       "      <td>False</td>\n",
       "      <td>False</td>\n",
       "      <td>False</td>\n",
       "      <td>False</td>\n",
       "      <td>False</td>\n",
       "      <td>False</td>\n",
       "      <td>False</td>\n",
       "      <td>False</td>\n",
       "      <td>False</td>\n",
       "      <td>False</td>\n",
       "      <td>False</td>\n",
       "      <td>False</td>\n",
       "      <td>False</td>\n",
       "      <td>True</td>\n",
       "      <td>0.004064</td>\n",
       "      <td>0.134146</td>\n",
       "      <td>0.003944</td>\n",
       "      <td>0.000821</td>\n",
       "      <td>0.000000</td>\n",
       "      <td>0.001070</td>\n",
       "      <td>0</td>\n",
       "    </tr>\n",
       "    <tr>\n",
       "      <th>1</th>\n",
       "      <td>-0.974928</td>\n",
       "      <td>-0.222521</td>\n",
       "      <td>-5.000000e-01</td>\n",
       "      <td>-0.866025</td>\n",
       "      <td>0.937752</td>\n",
       "      <td>0.347305</td>\n",
       "      <td>0.707107</td>\n",
       "      <td>-0.707107</td>\n",
       "      <td>False</td>\n",
       "      <td>False</td>\n",
       "      <td>False</td>\n",
       "      <td>False</td>\n",
       "      <td>False</td>\n",
       "      <td>False</td>\n",
       "      <td>False</td>\n",
       "      <td>False</td>\n",
       "      <td>False</td>\n",
       "      <td>False</td>\n",
       "      <td>False</td>\n",
       "      <td>True</td>\n",
       "      <td>False</td>\n",
       "      <td>False</td>\n",
       "      <td>False</td>\n",
       "      <td>True</td>\n",
       "      <td>0.002857</td>\n",
       "      <td>0.231707</td>\n",
       "      <td>0.000688</td>\n",
       "      <td>0.021173</td>\n",
       "      <td>0.010493</td>\n",
       "      <td>0.019666</td>\n",
       "      <td>0</td>\n",
       "    </tr>\n",
       "  </tbody>\n",
       "</table>\n",
       "</div>"
      ],
      "text/plain": [
       "   weekday_sin  weekday_cos     month_sin  month_cos   day_sin   day_cos  \\\n",
       "0    -0.781831     0.623490 -2.449294e-16   1.000000  0.998717 -0.050649   \n",
       "1    -0.974928    -0.222521 -5.000000e-01  -0.866025  0.937752  0.347305   \n",
       "\n",
       "   hour_sin  hour_cos  category_entertainment  category_food_dining  \\\n",
       "0 -0.707107 -0.707107                   False                  True   \n",
       "1  0.707107 -0.707107                   False                 False   \n",
       "\n",
       "   category_gas_transport  category_grocery_net  category_grocery_pos  \\\n",
       "0                   False                 False                 False   \n",
       "1                   False                 False                 False   \n",
       "\n",
       "   category_health_fitness  category_home  category_kids_pets  \\\n",
       "0                    False          False               False   \n",
       "1                    False          False               False   \n",
       "\n",
       "   category_misc_net  category_misc_pos  category_personal_care  \\\n",
       "0              False              False                   False   \n",
       "1              False              False                   False   \n",
       "\n",
       "   category_shopping_net  category_shopping_pos  category_travel  gender_F  \\\n",
       "0                  False                  False            False     False   \n",
       "1                   True                  False            False     False   \n",
       "\n",
       "   gender_M  amt_scaler  cardholder_age_scaler  holder_dens_scaler  \\\n",
       "0      True    0.004064               0.134146            0.003944   \n",
       "1      True    0.002857               0.231707            0.000688   \n",
       "\n",
       "   merch_dens_scaler  job_encoded  merchant_encoded  is_fraud  \n",
       "0           0.000821     0.000000          0.001070         0  \n",
       "1           0.021173     0.010493          0.019666         0  "
      ]
     },
     "execution_count": 38,
     "metadata": {},
     "output_type": "execute_result"
    }
   ],
   "source": [
    "y_resampled.name = 'is_fraud'  \n",
    "df_resampled = pd.concat([X_resampled, y_resampled], axis=1)  # Combine\n",
    "\n",
    "print(f\"Resampled DataFrame shape: {df_resampled.shape}\")\n",
    "df_resampled.head(2)"
   ]
  },
  {
   "cell_type": "code",
   "execution_count": 39,
   "metadata": {},
   "outputs": [],
   "source": [
    "df_resampled = df_resampled.reset_index(drop=True)\n",
    "test_df = test_df.reset_index(drop=True)"
   ]
  },
  {
   "cell_type": "code",
   "execution_count": 40,
   "metadata": {},
   "outputs": [
    {
     "data": {
      "text/html": [
       "<div>\n",
       "<style scoped>\n",
       "    .dataframe tbody tr th:only-of-type {\n",
       "        vertical-align: middle;\n",
       "    }\n",
       "\n",
       "    .dataframe tbody tr th {\n",
       "        vertical-align: top;\n",
       "    }\n",
       "\n",
       "    .dataframe thead th {\n",
       "        text-align: right;\n",
       "    }\n",
       "</style>\n",
       "<table border=\"1\" class=\"dataframe\">\n",
       "  <thead>\n",
       "    <tr style=\"text-align: right;\">\n",
       "      <th></th>\n",
       "      <th>weekday_sin</th>\n",
       "      <th>weekday_cos</th>\n",
       "      <th>month_sin</th>\n",
       "      <th>month_cos</th>\n",
       "      <th>day_sin</th>\n",
       "      <th>day_cos</th>\n",
       "      <th>hour_sin</th>\n",
       "      <th>hour_cos</th>\n",
       "      <th>category_entertainment</th>\n",
       "      <th>category_food_dining</th>\n",
       "      <th>category_gas_transport</th>\n",
       "      <th>category_grocery_net</th>\n",
       "      <th>category_grocery_pos</th>\n",
       "      <th>category_health_fitness</th>\n",
       "      <th>category_home</th>\n",
       "      <th>category_kids_pets</th>\n",
       "      <th>category_misc_net</th>\n",
       "      <th>category_misc_pos</th>\n",
       "      <th>category_personal_care</th>\n",
       "      <th>category_shopping_net</th>\n",
       "      <th>category_shopping_pos</th>\n",
       "      <th>category_travel</th>\n",
       "      <th>gender_F</th>\n",
       "      <th>gender_M</th>\n",
       "      <th>amt_scaler</th>\n",
       "      <th>cardholder_age_scaler</th>\n",
       "      <th>holder_dens_scaler</th>\n",
       "      <th>merch_dens_scaler</th>\n",
       "      <th>job_encoded</th>\n",
       "      <th>merchant_encoded</th>\n",
       "      <th>is_fraud</th>\n",
       "    </tr>\n",
       "  </thead>\n",
       "  <tbody>\n",
       "    <tr>\n",
       "      <th>0</th>\n",
       "      <td>-0.781831</td>\n",
       "      <td>0.623490</td>\n",
       "      <td>-2.449294e-16</td>\n",
       "      <td>1.000000</td>\n",
       "      <td>0.998717</td>\n",
       "      <td>-0.050649</td>\n",
       "      <td>-0.707107</td>\n",
       "      <td>-0.707107</td>\n",
       "      <td>False</td>\n",
       "      <td>True</td>\n",
       "      <td>False</td>\n",
       "      <td>False</td>\n",
       "      <td>False</td>\n",
       "      <td>False</td>\n",
       "      <td>False</td>\n",
       "      <td>False</td>\n",
       "      <td>False</td>\n",
       "      <td>False</td>\n",
       "      <td>False</td>\n",
       "      <td>False</td>\n",
       "      <td>False</td>\n",
       "      <td>False</td>\n",
       "      <td>False</td>\n",
       "      <td>True</td>\n",
       "      <td>0.004064</td>\n",
       "      <td>0.134146</td>\n",
       "      <td>0.003944</td>\n",
       "      <td>0.000821</td>\n",
       "      <td>0.000000</td>\n",
       "      <td>0.001070</td>\n",
       "      <td>0</td>\n",
       "    </tr>\n",
       "    <tr>\n",
       "      <th>1</th>\n",
       "      <td>-0.974928</td>\n",
       "      <td>-0.222521</td>\n",
       "      <td>-5.000000e-01</td>\n",
       "      <td>-0.866025</td>\n",
       "      <td>0.937752</td>\n",
       "      <td>0.347305</td>\n",
       "      <td>0.707107</td>\n",
       "      <td>-0.707107</td>\n",
       "      <td>False</td>\n",
       "      <td>False</td>\n",
       "      <td>False</td>\n",
       "      <td>False</td>\n",
       "      <td>False</td>\n",
       "      <td>False</td>\n",
       "      <td>False</td>\n",
       "      <td>False</td>\n",
       "      <td>False</td>\n",
       "      <td>False</td>\n",
       "      <td>False</td>\n",
       "      <td>True</td>\n",
       "      <td>False</td>\n",
       "      <td>False</td>\n",
       "      <td>False</td>\n",
       "      <td>True</td>\n",
       "      <td>0.002857</td>\n",
       "      <td>0.231707</td>\n",
       "      <td>0.000688</td>\n",
       "      <td>0.021173</td>\n",
       "      <td>0.010493</td>\n",
       "      <td>0.019666</td>\n",
       "      <td>0</td>\n",
       "    </tr>\n",
       "  </tbody>\n",
       "</table>\n",
       "</div>"
      ],
      "text/plain": [
       "   weekday_sin  weekday_cos     month_sin  month_cos   day_sin   day_cos  \\\n",
       "0    -0.781831     0.623490 -2.449294e-16   1.000000  0.998717 -0.050649   \n",
       "1    -0.974928    -0.222521 -5.000000e-01  -0.866025  0.937752  0.347305   \n",
       "\n",
       "   hour_sin  hour_cos  category_entertainment  category_food_dining  \\\n",
       "0 -0.707107 -0.707107                   False                  True   \n",
       "1  0.707107 -0.707107                   False                 False   \n",
       "\n",
       "   category_gas_transport  category_grocery_net  category_grocery_pos  \\\n",
       "0                   False                 False                 False   \n",
       "1                   False                 False                 False   \n",
       "\n",
       "   category_health_fitness  category_home  category_kids_pets  \\\n",
       "0                    False          False               False   \n",
       "1                    False          False               False   \n",
       "\n",
       "   category_misc_net  category_misc_pos  category_personal_care  \\\n",
       "0              False              False                   False   \n",
       "1              False              False                   False   \n",
       "\n",
       "   category_shopping_net  category_shopping_pos  category_travel  gender_F  \\\n",
       "0                  False                  False            False     False   \n",
       "1                   True                  False            False     False   \n",
       "\n",
       "   gender_M  amt_scaler  cardholder_age_scaler  holder_dens_scaler  \\\n",
       "0      True    0.004064               0.134146            0.003944   \n",
       "1      True    0.002857               0.231707            0.000688   \n",
       "\n",
       "   merch_dens_scaler  job_encoded  merchant_encoded  is_fraud  \n",
       "0           0.000821     0.000000          0.001070         0  \n",
       "1           0.021173     0.010493          0.019666         0  "
      ]
     },
     "execution_count": 40,
     "metadata": {},
     "output_type": "execute_result"
    }
   ],
   "source": [
    "df_resampled.head(2)"
   ]
  },
  {
   "cell_type": "code",
   "execution_count": null,
   "metadata": {},
   "outputs": [],
   "source": []
  },
  {
   "cell_type": "markdown",
   "metadata": {},
   "source": [
    "## sampling strategy = 0.2"
   ]
  },
  {
   "cell_type": "code",
   "execution_count": 71,
   "metadata": {},
   "outputs": [
    {
     "name": "stderr",
     "output_type": "stream",
     "text": [
      "f:\\Anaconda\\Lib\\site-packages\\imblearn\\over_sampling\\_smote\\base.py:370: FutureWarning: The parameter `n_jobs` has been deprecated in 0.10 and will be removed in 0.12. You can pass an nearest neighbors estimator where `n_jobs` is already set instead.\n",
      "  warnings.warn(\n"
     ]
    },
    {
     "name": "stdout",
     "output_type": "stream",
     "text": [
      "Chunk 1 label distribution: Counter({0: 293270, 1: 58112})\n"
     ]
    },
    {
     "name": "stderr",
     "output_type": "stream",
     "text": [
      "f:\\Anaconda\\Lib\\site-packages\\imblearn\\over_sampling\\_smote\\base.py:370: FutureWarning: The parameter `n_jobs` has been deprecated in 0.10 and will be removed in 0.12. You can pass an nearest neighbors estimator where `n_jobs` is already set instead.\n",
      "  warnings.warn(\n"
     ]
    },
    {
     "name": "stdout",
     "output_type": "stream",
     "text": [
      "Chunk 2 label distribution: Counter({0: 293143, 1: 58141})\n"
     ]
    },
    {
     "name": "stderr",
     "output_type": "stream",
     "text": [
      "f:\\Anaconda\\Lib\\site-packages\\imblearn\\over_sampling\\_smote\\base.py:370: FutureWarning: The parameter `n_jobs` has been deprecated in 0.10 and will be removed in 0.12. You can pass an nearest neighbors estimator where `n_jobs` is already set instead.\n",
      "  warnings.warn(\n"
     ]
    },
    {
     "name": "stdout",
     "output_type": "stream",
     "text": [
      "Chunk 3 label distribution: Counter({0: 55043, 1: 11181})\n"
     ]
    }
   ],
   "source": [
    "from imblearn.combine import SMOTEENN\n",
    "from sklearn.model_selection import train_test_split\n",
    "from collections import Counter\n",
    "\n",
    "X = df_resample.drop(columns=['is_fraud'])\n",
    "y = df_resample['is_fraud']\n",
    "\n",
    "def process_in_chunks(X, y, chunk_size=300000): \n",
    "    smote_enn = SMOTEENN(sampling_strategy=0.2, random_state=42, n_jobs=-1)\n",
    "    chunks = []\n",
    "    for i in range(0, len(X), chunk_size):\n",
    "        X_chunk = X.iloc[i:i+chunk_size]\n",
    "        y_chunk = y.iloc[i:i+chunk_size]\n",
    "        X_res, y_res = smote_enn.fit_resample(X_chunk, y_chunk)\n",
    "        chunks.append((X_res, y_res))\n",
    "        print(f\"Chunk {i // chunk_size + 1} label distribution: {Counter(y_res)}\")  \n",
    "\n",
    "    X_resampled = pd.concat([chunk[0] for chunk in chunks], axis=0)\n",
    "    y_resampled = pd.concat([chunk[1] for chunk in chunks], axis=0)\n",
    "    return X_resampled, y_resampled\n",
    "\n",
    "X_resampled, y_resampled = process_in_chunks(X, y)"
   ]
  },
  {
   "cell_type": "code",
   "execution_count": 72,
   "metadata": {},
   "outputs": [
    {
     "name": "stdout",
     "output_type": "stream",
     "text": [
      "Original class distribution: is_fraud\n",
      "0    652957\n",
      "1      3720\n",
      "Name: count, dtype: int64\n",
      "Resampled class distribution: is_fraud\n",
      "0    641456\n",
      "1    127434\n",
      "Name: count, dtype: int64\n"
     ]
    }
   ],
   "source": [
    "print(\"Original class distribution:\", y.value_counts())\n",
    "print(\"Resampled class distribution:\", y_resampled.value_counts())"
   ]
  },
  {
   "cell_type": "code",
   "execution_count": 73,
   "metadata": {},
   "outputs": [
    {
     "name": "stdout",
     "output_type": "stream",
     "text": [
      "Resampled DataFrame shape: (768890, 29)\n"
     ]
    },
    {
     "data": {
      "text/html": [
       "<div>\n",
       "<style scoped>\n",
       "    .dataframe tbody tr th:only-of-type {\n",
       "        vertical-align: middle;\n",
       "    }\n",
       "\n",
       "    .dataframe tbody tr th {\n",
       "        vertical-align: top;\n",
       "    }\n",
       "\n",
       "    .dataframe thead th {\n",
       "        text-align: right;\n",
       "    }\n",
       "</style>\n",
       "<table border=\"1\" class=\"dataframe\">\n",
       "  <thead>\n",
       "    <tr style=\"text-align: right;\">\n",
       "      <th></th>\n",
       "      <th>weekday_sin</th>\n",
       "      <th>weekday_cos</th>\n",
       "      <th>month_sin</th>\n",
       "      <th>month_cos</th>\n",
       "      <th>day_sin</th>\n",
       "      <th>day_cos</th>\n",
       "      <th>hour_sin</th>\n",
       "      <th>hour_cos</th>\n",
       "      <th>category_entertainment</th>\n",
       "      <th>category_food_dining</th>\n",
       "      <th>category_gas_transport</th>\n",
       "      <th>category_grocery_net</th>\n",
       "      <th>category_grocery_pos</th>\n",
       "      <th>category_health_fitness</th>\n",
       "      <th>category_home</th>\n",
       "      <th>category_kids_pets</th>\n",
       "      <th>category_misc_net</th>\n",
       "      <th>category_misc_pos</th>\n",
       "      <th>category_personal_care</th>\n",
       "      <th>category_shopping_net</th>\n",
       "      <th>category_shopping_pos</th>\n",
       "      <th>category_travel</th>\n",
       "      <th>gender_F</th>\n",
       "      <th>gender_M</th>\n",
       "      <th>amt_scaler</th>\n",
       "      <th>cardholder_age_scaler</th>\n",
       "      <th>job_encoded</th>\n",
       "      <th>merchant_encoded</th>\n",
       "      <th>is_fraud</th>\n",
       "    </tr>\n",
       "  </thead>\n",
       "  <tbody>\n",
       "    <tr>\n",
       "      <th>0</th>\n",
       "      <td>-0.781831</td>\n",
       "      <td>0.623490</td>\n",
       "      <td>-2.449294e-16</td>\n",
       "      <td>1.000000</td>\n",
       "      <td>0.998717</td>\n",
       "      <td>-0.050649</td>\n",
       "      <td>-0.707107</td>\n",
       "      <td>-0.707107</td>\n",
       "      <td>False</td>\n",
       "      <td>True</td>\n",
       "      <td>False</td>\n",
       "      <td>False</td>\n",
       "      <td>False</td>\n",
       "      <td>False</td>\n",
       "      <td>False</td>\n",
       "      <td>False</td>\n",
       "      <td>False</td>\n",
       "      <td>False</td>\n",
       "      <td>False</td>\n",
       "      <td>False</td>\n",
       "      <td>False</td>\n",
       "      <td>False</td>\n",
       "      <td>False</td>\n",
       "      <td>True</td>\n",
       "      <td>0.004064</td>\n",
       "      <td>0.134146</td>\n",
       "      <td>0.000000</td>\n",
       "      <td>0.001070</td>\n",
       "      <td>0</td>\n",
       "    </tr>\n",
       "    <tr>\n",
       "      <th>1</th>\n",
       "      <td>-0.974928</td>\n",
       "      <td>-0.222521</td>\n",
       "      <td>-5.000000e-01</td>\n",
       "      <td>-0.866025</td>\n",
       "      <td>0.937752</td>\n",
       "      <td>0.347305</td>\n",
       "      <td>0.707107</td>\n",
       "      <td>-0.707107</td>\n",
       "      <td>False</td>\n",
       "      <td>False</td>\n",
       "      <td>False</td>\n",
       "      <td>False</td>\n",
       "      <td>False</td>\n",
       "      <td>False</td>\n",
       "      <td>False</td>\n",
       "      <td>False</td>\n",
       "      <td>False</td>\n",
       "      <td>False</td>\n",
       "      <td>False</td>\n",
       "      <td>True</td>\n",
       "      <td>False</td>\n",
       "      <td>False</td>\n",
       "      <td>False</td>\n",
       "      <td>True</td>\n",
       "      <td>0.002857</td>\n",
       "      <td>0.231707</td>\n",
       "      <td>0.010493</td>\n",
       "      <td>0.019666</td>\n",
       "      <td>0</td>\n",
       "    </tr>\n",
       "  </tbody>\n",
       "</table>\n",
       "</div>"
      ],
      "text/plain": [
       "   weekday_sin  weekday_cos     month_sin  month_cos   day_sin   day_cos  \\\n",
       "0    -0.781831     0.623490 -2.449294e-16   1.000000  0.998717 -0.050649   \n",
       "1    -0.974928    -0.222521 -5.000000e-01  -0.866025  0.937752  0.347305   \n",
       "\n",
       "   hour_sin  hour_cos  category_entertainment  category_food_dining  \\\n",
       "0 -0.707107 -0.707107                   False                  True   \n",
       "1  0.707107 -0.707107                   False                 False   \n",
       "\n",
       "   category_gas_transport  category_grocery_net  category_grocery_pos  \\\n",
       "0                   False                 False                 False   \n",
       "1                   False                 False                 False   \n",
       "\n",
       "   category_health_fitness  category_home  category_kids_pets  \\\n",
       "0                    False          False               False   \n",
       "1                    False          False               False   \n",
       "\n",
       "   category_misc_net  category_misc_pos  category_personal_care  \\\n",
       "0              False              False                   False   \n",
       "1              False              False                   False   \n",
       "\n",
       "   category_shopping_net  category_shopping_pos  category_travel  gender_F  \\\n",
       "0                  False                  False            False     False   \n",
       "1                   True                  False            False     False   \n",
       "\n",
       "   gender_M  amt_scaler  cardholder_age_scaler  job_encoded  merchant_encoded  \\\n",
       "0      True    0.004064               0.134146     0.000000          0.001070   \n",
       "1      True    0.002857               0.231707     0.010493          0.019666   \n",
       "\n",
       "   is_fraud  \n",
       "0         0  \n",
       "1         0  "
      ]
     },
     "execution_count": 73,
     "metadata": {},
     "output_type": "execute_result"
    }
   ],
   "source": [
    "y_resampled.name = 'is_fraud'  \n",
    "df_resampled = pd.concat([X_resampled, y_resampled], axis=1)  # Combine\n",
    "\n",
    "print(f\"Resampled DataFrame shape: {df_resampled.shape}\")\n",
    "df_resampled.head(2)"
   ]
  },
  {
   "cell_type": "code",
   "execution_count": 74,
   "metadata": {},
   "outputs": [],
   "source": [
    "df_resampled = df_resampled.reset_index(drop=True)\n",
    "test_df = test_df.reset_index(drop=True)"
   ]
  },
  {
   "cell_type": "code",
   "execution_count": null,
   "metadata": {},
   "outputs": [],
   "source": []
  },
  {
   "cell_type": "code",
   "execution_count": 77,
   "metadata": {},
   "outputs": [
    {
     "data": {
      "text/html": [
       "<div>\n",
       "<style scoped>\n",
       "    .dataframe tbody tr th:only-of-type {\n",
       "        vertical-align: middle;\n",
       "    }\n",
       "\n",
       "    .dataframe tbody tr th {\n",
       "        vertical-align: top;\n",
       "    }\n",
       "\n",
       "    .dataframe thead th {\n",
       "        text-align: right;\n",
       "    }\n",
       "</style>\n",
       "<table border=\"1\" class=\"dataframe\">\n",
       "  <thead>\n",
       "    <tr style=\"text-align: right;\">\n",
       "      <th></th>\n",
       "      <th>is_fraud</th>\n",
       "      <th>weekday_sin</th>\n",
       "      <th>weekday_cos</th>\n",
       "      <th>month_sin</th>\n",
       "      <th>month_cos</th>\n",
       "      <th>day_sin</th>\n",
       "      <th>day_cos</th>\n",
       "      <th>hour_sin</th>\n",
       "      <th>hour_cos</th>\n",
       "      <th>year_2019</th>\n",
       "      <th>year_2020</th>\n",
       "      <th>category_entertainment</th>\n",
       "      <th>category_food_dining</th>\n",
       "      <th>category_gas_transport</th>\n",
       "      <th>category_grocery_net</th>\n",
       "      <th>category_grocery_pos</th>\n",
       "      <th>category_health_fitness</th>\n",
       "      <th>category_home</th>\n",
       "      <th>category_kids_pets</th>\n",
       "      <th>category_misc_net</th>\n",
       "      <th>category_misc_pos</th>\n",
       "      <th>category_personal_care</th>\n",
       "      <th>category_shopping_net</th>\n",
       "      <th>category_shopping_pos</th>\n",
       "      <th>category_travel</th>\n",
       "      <th>gender_F</th>\n",
       "      <th>gender_M</th>\n",
       "      <th>amt_scaler</th>\n",
       "      <th>distance_scaler</th>\n",
       "      <th>cardholder_age_scaler</th>\n",
       "      <th>holder_pop_scaler</th>\n",
       "      <th>holder_dens_scaler</th>\n",
       "      <th>merch_pop_scaler</th>\n",
       "      <th>merch_dens_scaler</th>\n",
       "      <th>job_encoded</th>\n",
       "      <th>holder_state_encoded</th>\n",
       "      <th>holder_city_encoded</th>\n",
       "      <th>merchant_encoded</th>\n",
       "      <th>merch_state_encoded</th>\n",
       "      <th>merch_city_encoded</th>\n",
       "    </tr>\n",
       "  </thead>\n",
       "  <tbody>\n",
       "    <tr>\n",
       "      <th>0</th>\n",
       "      <td>0</td>\n",
       "      <td>0.781831</td>\n",
       "      <td>0.623490</td>\n",
       "      <td>-0.500000</td>\n",
       "      <td>-0.866025</td>\n",
       "      <td>0.394356</td>\n",
       "      <td>0.918958</td>\n",
       "      <td>1.224647e-16</td>\n",
       "      <td>-1.000000</td>\n",
       "      <td>True</td>\n",
       "      <td>False</td>\n",
       "      <td>False</td>\n",
       "      <td>False</td>\n",
       "      <td>False</td>\n",
       "      <td>False</td>\n",
       "      <td>False</td>\n",
       "      <td>False</td>\n",
       "      <td>False</td>\n",
       "      <td>False</td>\n",
       "      <td>False</td>\n",
       "      <td>False</td>\n",
       "      <td>True</td>\n",
       "      <td>False</td>\n",
       "      <td>False</td>\n",
       "      <td>False</td>\n",
       "      <td>True</td>\n",
       "      <td>False</td>\n",
       "      <td>0.004469</td>\n",
       "      <td>0.702163</td>\n",
       "      <td>0.536585</td>\n",
       "      <td>0.002422</td>\n",
       "      <td>0.000109</td>\n",
       "      <td>0.002475</td>\n",
       "      <td>0.000069</td>\n",
       "      <td>0.0</td>\n",
       "      <td>0.006659</td>\n",
       "      <td>0.000000</td>\n",
       "      <td>0.003198</td>\n",
       "      <td>0.006409</td>\n",
       "      <td>0.000000</td>\n",
       "    </tr>\n",
       "    <tr>\n",
       "      <th>1</th>\n",
       "      <td>0</td>\n",
       "      <td>0.974928</td>\n",
       "      <td>-0.222521</td>\n",
       "      <td>0.866025</td>\n",
       "      <td>0.500000</td>\n",
       "      <td>0.651372</td>\n",
       "      <td>-0.758758</td>\n",
       "      <td>-2.588190e-01</td>\n",
       "      <td>0.965926</td>\n",
       "      <td>False</td>\n",
       "      <td>True</td>\n",
       "      <td>True</td>\n",
       "      <td>False</td>\n",
       "      <td>False</td>\n",
       "      <td>False</td>\n",
       "      <td>False</td>\n",
       "      <td>False</td>\n",
       "      <td>False</td>\n",
       "      <td>False</td>\n",
       "      <td>False</td>\n",
       "      <td>False</td>\n",
       "      <td>False</td>\n",
       "      <td>False</td>\n",
       "      <td>False</td>\n",
       "      <td>False</td>\n",
       "      <td>True</td>\n",
       "      <td>False</td>\n",
       "      <td>0.007933</td>\n",
       "      <td>0.691644</td>\n",
       "      <td>0.426829</td>\n",
       "      <td>0.713884</td>\n",
       "      <td>0.022427</td>\n",
       "      <td>0.007600</td>\n",
       "      <td>0.000013</td>\n",
       "      <td>0.0</td>\n",
       "      <td>0.002614</td>\n",
       "      <td>0.005012</td>\n",
       "      <td>0.003161</td>\n",
       "      <td>0.004615</td>\n",
       "      <td>0.012232</td>\n",
       "    </tr>\n",
       "  </tbody>\n",
       "</table>\n",
       "</div>"
      ],
      "text/plain": [
       "   is_fraud  weekday_sin  weekday_cos  month_sin  month_cos   day_sin  \\\n",
       "0         0     0.781831     0.623490  -0.500000  -0.866025  0.394356   \n",
       "1         0     0.974928    -0.222521   0.866025   0.500000  0.651372   \n",
       "\n",
       "    day_cos      hour_sin  hour_cos  year_2019  year_2020  \\\n",
       "0  0.918958  1.224647e-16 -1.000000       True      False   \n",
       "1 -0.758758 -2.588190e-01  0.965926      False       True   \n",
       "\n",
       "   category_entertainment  category_food_dining  category_gas_transport  \\\n",
       "0                   False                 False                   False   \n",
       "1                    True                 False                   False   \n",
       "\n",
       "   category_grocery_net  category_grocery_pos  category_health_fitness  \\\n",
       "0                 False                 False                    False   \n",
       "1                 False                 False                    False   \n",
       "\n",
       "   category_home  category_kids_pets  category_misc_net  category_misc_pos  \\\n",
       "0          False               False              False              False   \n",
       "1          False               False              False              False   \n",
       "\n",
       "   category_personal_care  category_shopping_net  category_shopping_pos  \\\n",
       "0                    True                  False                  False   \n",
       "1                   False                  False                  False   \n",
       "\n",
       "   category_travel  gender_F  gender_M  amt_scaler  distance_scaler  \\\n",
       "0            False      True     False    0.004469         0.702163   \n",
       "1            False      True     False    0.007933         0.691644   \n",
       "\n",
       "   cardholder_age_scaler  holder_pop_scaler  holder_dens_scaler  \\\n",
       "0               0.536585           0.002422            0.000109   \n",
       "1               0.426829           0.713884            0.022427   \n",
       "\n",
       "   merch_pop_scaler  merch_dens_scaler  job_encoded  holder_state_encoded  \\\n",
       "0          0.002475           0.000069          0.0              0.006659   \n",
       "1          0.007600           0.000013          0.0              0.002614   \n",
       "\n",
       "   holder_city_encoded  merchant_encoded  merch_state_encoded  \\\n",
       "0             0.000000          0.003198             0.006409   \n",
       "1             0.005012          0.003161             0.004615   \n",
       "\n",
       "   merch_city_encoded  \n",
       "0            0.000000  \n",
       "1            0.012232  "
      ]
     },
     "execution_count": 77,
     "metadata": {},
     "output_type": "execute_result"
    }
   ],
   "source": [
    "test_df=test_df.drop(columns=['month','day','hour','weekday','amt','distance','cardholder_age','job','holder_state',\n",
    "                         'holder_city','holder_pop','holder_dens','merchant','merch_state','merch_city','merch_pop','merch_dens'])"
   ]
  },
  {
   "cell_type": "code",
   "execution_count": 78,
   "metadata": {},
   "outputs": [
    {
     "data": {
      "text/html": [
       "<div>\n",
       "<style scoped>\n",
       "    .dataframe tbody tr th:only-of-type {\n",
       "        vertical-align: middle;\n",
       "    }\n",
       "\n",
       "    .dataframe tbody tr th {\n",
       "        vertical-align: top;\n",
       "    }\n",
       "\n",
       "    .dataframe thead th {\n",
       "        text-align: right;\n",
       "    }\n",
       "</style>\n",
       "<table border=\"1\" class=\"dataframe\">\n",
       "  <thead>\n",
       "    <tr style=\"text-align: right;\">\n",
       "      <th></th>\n",
       "      <th>is_fraud</th>\n",
       "      <th>weekday_sin</th>\n",
       "      <th>weekday_cos</th>\n",
       "      <th>month_sin</th>\n",
       "      <th>month_cos</th>\n",
       "      <th>day_sin</th>\n",
       "      <th>day_cos</th>\n",
       "      <th>hour_sin</th>\n",
       "      <th>hour_cos</th>\n",
       "      <th>category_entertainment</th>\n",
       "      <th>category_food_dining</th>\n",
       "      <th>category_gas_transport</th>\n",
       "      <th>category_grocery_net</th>\n",
       "      <th>category_grocery_pos</th>\n",
       "      <th>category_health_fitness</th>\n",
       "      <th>category_home</th>\n",
       "      <th>category_kids_pets</th>\n",
       "      <th>category_misc_net</th>\n",
       "      <th>category_misc_pos</th>\n",
       "      <th>category_personal_care</th>\n",
       "      <th>category_shopping_net</th>\n",
       "      <th>category_shopping_pos</th>\n",
       "      <th>category_travel</th>\n",
       "      <th>gender_F</th>\n",
       "      <th>gender_M</th>\n",
       "      <th>amt_scaler</th>\n",
       "      <th>cardholder_age_scaler</th>\n",
       "      <th>holder_dens_scaler</th>\n",
       "      <th>merch_dens_scaler</th>\n",
       "      <th>job_encoded</th>\n",
       "      <th>merchant_encoded</th>\n",
       "    </tr>\n",
       "  </thead>\n",
       "  <tbody>\n",
       "    <tr>\n",
       "      <th>0</th>\n",
       "      <td>0</td>\n",
       "      <td>0.781831</td>\n",
       "      <td>0.623490</td>\n",
       "      <td>-0.500000</td>\n",
       "      <td>-0.866025</td>\n",
       "      <td>0.394356</td>\n",
       "      <td>0.918958</td>\n",
       "      <td>1.224647e-16</td>\n",
       "      <td>-1.000000</td>\n",
       "      <td>False</td>\n",
       "      <td>False</td>\n",
       "      <td>False</td>\n",
       "      <td>False</td>\n",
       "      <td>False</td>\n",
       "      <td>False</td>\n",
       "      <td>False</td>\n",
       "      <td>False</td>\n",
       "      <td>False</td>\n",
       "      <td>False</td>\n",
       "      <td>True</td>\n",
       "      <td>False</td>\n",
       "      <td>False</td>\n",
       "      <td>False</td>\n",
       "      <td>True</td>\n",
       "      <td>False</td>\n",
       "      <td>0.004469</td>\n",
       "      <td>0.536585</td>\n",
       "      <td>0.000109</td>\n",
       "      <td>0.000069</td>\n",
       "      <td>0.0</td>\n",
       "      <td>0.003198</td>\n",
       "    </tr>\n",
       "    <tr>\n",
       "      <th>1</th>\n",
       "      <td>0</td>\n",
       "      <td>0.974928</td>\n",
       "      <td>-0.222521</td>\n",
       "      <td>0.866025</td>\n",
       "      <td>0.500000</td>\n",
       "      <td>0.651372</td>\n",
       "      <td>-0.758758</td>\n",
       "      <td>-2.588190e-01</td>\n",
       "      <td>0.965926</td>\n",
       "      <td>True</td>\n",
       "      <td>False</td>\n",
       "      <td>False</td>\n",
       "      <td>False</td>\n",
       "      <td>False</td>\n",
       "      <td>False</td>\n",
       "      <td>False</td>\n",
       "      <td>False</td>\n",
       "      <td>False</td>\n",
       "      <td>False</td>\n",
       "      <td>False</td>\n",
       "      <td>False</td>\n",
       "      <td>False</td>\n",
       "      <td>False</td>\n",
       "      <td>True</td>\n",
       "      <td>False</td>\n",
       "      <td>0.007933</td>\n",
       "      <td>0.426829</td>\n",
       "      <td>0.022427</td>\n",
       "      <td>0.000013</td>\n",
       "      <td>0.0</td>\n",
       "      <td>0.003161</td>\n",
       "    </tr>\n",
       "  </tbody>\n",
       "</table>\n",
       "</div>"
      ],
      "text/plain": [
       "   is_fraud  weekday_sin  weekday_cos  month_sin  month_cos   day_sin  \\\n",
       "0         0     0.781831     0.623490  -0.500000  -0.866025  0.394356   \n",
       "1         0     0.974928    -0.222521   0.866025   0.500000  0.651372   \n",
       "\n",
       "    day_cos      hour_sin  hour_cos  category_entertainment  \\\n",
       "0  0.918958  1.224647e-16 -1.000000                   False   \n",
       "1 -0.758758 -2.588190e-01  0.965926                    True   \n",
       "\n",
       "   category_food_dining  category_gas_transport  category_grocery_net  \\\n",
       "0                 False                   False                 False   \n",
       "1                 False                   False                 False   \n",
       "\n",
       "   category_grocery_pos  category_health_fitness  category_home  \\\n",
       "0                 False                    False          False   \n",
       "1                 False                    False          False   \n",
       "\n",
       "   category_kids_pets  category_misc_net  category_misc_pos  \\\n",
       "0               False              False              False   \n",
       "1               False              False              False   \n",
       "\n",
       "   category_personal_care  category_shopping_net  category_shopping_pos  \\\n",
       "0                    True                  False                  False   \n",
       "1                   False                  False                  False   \n",
       "\n",
       "   category_travel  gender_F  gender_M  amt_scaler  cardholder_age_scaler  \\\n",
       "0            False      True     False    0.004469               0.536585   \n",
       "1            False      True     False    0.007933               0.426829   \n",
       "\n",
       "   holder_dens_scaler  merch_dens_scaler  job_encoded  merchant_encoded  \n",
       "0            0.000109           0.000069          0.0          0.003198  \n",
       "1            0.022427           0.000013          0.0          0.003161  "
      ]
     },
     "execution_count": 78,
     "metadata": {},
     "output_type": "execute_result"
    }
   ],
   "source": [
    "test_df=test_df.drop(columns=['year_2019','year_2020','distance_scaler','holder_pop_scaler','merch_pop_scaler',\n",
    "                         'holder_state_encoded','holder_city_encoded','merch_state_encoded','merch_city_encoded'])"
   ]
  },
  {
   "cell_type": "code",
   "execution_count": 80,
   "metadata": {},
   "outputs": [],
   "source": [
    "test_df=test_df.drop(columns=['holder_dens_scaler','merch_dens_scaler'])"
   ]
  },
  {
   "cell_type": "code",
   "execution_count": 75,
   "metadata": {},
   "outputs": [
    {
     "data": {
      "text/plain": [
       "(768890, 29)"
      ]
     },
     "execution_count": 75,
     "metadata": {},
     "output_type": "execute_result"
    }
   ],
   "source": [
    "df_resampled.shape"
   ]
  },
  {
   "cell_type": "code",
   "execution_count": 81,
   "metadata": {},
   "outputs": [
    {
     "data": {
      "text/plain": [
       "(164170, 29)"
      ]
     },
     "execution_count": 81,
     "metadata": {},
     "output_type": "execute_result"
    }
   ],
   "source": [
    "test_df.shape"
   ]
  },
  {
   "cell_type": "code",
   "execution_count": 82,
   "metadata": {},
   "outputs": [],
   "source": [
    "df_resampled.to_csv(\"data-training-02.csv\", index=False) "
   ]
  },
  {
   "cell_type": "code",
   "execution_count": 84,
   "metadata": {},
   "outputs": [],
   "source": [
    "test_df.to_csv(\"data-testing-02.csv\", index=False) "
   ]
  },
  {
   "cell_type": "code",
   "execution_count": 47,
   "metadata": {},
   "outputs": [],
   "source": [
    "#df_resampled.to_csv(\"data-training-new.csv\", index=False) "
   ]
  },
  {
   "cell_type": "code",
   "execution_count": 48,
   "metadata": {},
   "outputs": [],
   "source": [
    "#test_df.to_csv(\"data-testing-new.csv\", index=False) "
   ]
  },
  {
   "cell_type": "markdown",
   "metadata": {},
   "source": [
    "## test best rate"
   ]
  },
  {
   "cell_type": "code",
   "execution_count": 28,
   "metadata": {},
   "outputs": [
    {
     "data": {
      "text/plain": [
       "(656677, 29)"
      ]
     },
     "execution_count": 28,
     "metadata": {},
     "output_type": "execute_result"
    }
   ],
   "source": [
    "df_resample.shape"
   ]
  },
  {
   "cell_type": "code",
   "execution_count": 60,
   "metadata": {},
   "outputs": [
    {
     "data": {
      "text/plain": [
       "(131335, 29)"
      ]
     },
     "execution_count": 60,
     "metadata": {},
     "output_type": "execute_result"
    }
   ],
   "source": [
    "df_testrate=df_resample.sample(frac = 0.2, random_state=42)\n",
    "df_testrate.shape"
   ]
  },
  {
   "cell_type": "code",
   "execution_count": 61,
   "metadata": {},
   "outputs": [
    {
     "data": {
      "text/plain": [
       "is_fraud\n",
       "0    130542\n",
       "1       793\n",
       "Name: count, dtype: int64"
      ]
     },
     "execution_count": 61,
     "metadata": {},
     "output_type": "execute_result"
    }
   ],
   "source": [
    "df_testrate['is_fraud'].value_counts()"
   ]
  },
  {
   "cell_type": "markdown",
   "metadata": {},
   "source": [
    "#### RandomForestClassifier"
   ]
  },
  {
   "cell_type": "code",
   "execution_count": 51,
   "metadata": {},
   "outputs": [
    {
     "name": "stdout",
     "output_type": "stream",
     "text": [
      "Testing sampling_strategy=0.10\n"
     ]
    },
    {
     "name": "stderr",
     "output_type": "stream",
     "text": [
      "f:\\Anaconda\\Lib\\site-packages\\imblearn\\over_sampling\\_smote\\base.py:370: FutureWarning: The parameter `n_jobs` has been deprecated in 0.10 and will be removed in 0.12. You can pass an nearest neighbors estimator where `n_jobs` is already set instead.\n",
      "  warnings.warn(\n"
     ]
    },
    {
     "name": "stdout",
     "output_type": "stream",
     "text": [
      "Chunk 1 label distribution: Counter({0: 29026, 1: 2850})\n"
     ]
    },
    {
     "name": "stderr",
     "output_type": "stream",
     "text": [
      "f:\\Anaconda\\Lib\\site-packages\\imblearn\\over_sampling\\_smote\\base.py:370: FutureWarning: The parameter `n_jobs` has been deprecated in 0.10 and will be removed in 0.12. You can pass an nearest neighbors estimator where `n_jobs` is already set instead.\n",
      "  warnings.warn(\n"
     ]
    },
    {
     "name": "stdout",
     "output_type": "stream",
     "text": [
      "Chunk 2 label distribution: Counter({0: 29037, 1: 2850})\n"
     ]
    },
    {
     "name": "stderr",
     "output_type": "stream",
     "text": [
      "f:\\Anaconda\\Lib\\site-packages\\imblearn\\over_sampling\\_smote\\base.py:370: FutureWarning: The parameter `n_jobs` has been deprecated in 0.10 and will be removed in 0.12. You can pass an nearest neighbors estimator where `n_jobs` is already set instead.\n",
      "  warnings.warn(\n"
     ]
    },
    {
     "name": "stdout",
     "output_type": "stream",
     "text": [
      "Chunk 3 label distribution: Counter({0: 29190, 1: 2896})\n"
     ]
    },
    {
     "name": "stderr",
     "output_type": "stream",
     "text": [
      "f:\\Anaconda\\Lib\\site-packages\\imblearn\\over_sampling\\_smote\\base.py:370: FutureWarning: The parameter `n_jobs` has been deprecated in 0.10 and will be removed in 0.12. You can pass an nearest neighbors estimator where `n_jobs` is already set instead.\n",
      "  warnings.warn(\n"
     ]
    },
    {
     "name": "stdout",
     "output_type": "stream",
     "text": [
      "Chunk 4 label distribution: Counter({0: 14575, 1: 1469})\n",
      "Precision for sampling_strategy=0.10: 0.8623\n",
      "Recall for sampling_strategy=0.10: 0.7041\n",
      "F2 Score for sampling_strategy=0.10: 0.7310\n",
      "Testing sampling_strategy=0.20\n"
     ]
    },
    {
     "name": "stderr",
     "output_type": "stream",
     "text": [
      "f:\\Anaconda\\Lib\\site-packages\\imblearn\\over_sampling\\_smote\\base.py:370: FutureWarning: The parameter `n_jobs` has been deprecated in 0.10 and will be removed in 0.12. You can pass an nearest neighbors estimator where `n_jobs` is already set instead.\n",
      "  warnings.warn(\n"
     ]
    },
    {
     "name": "stdout",
     "output_type": "stream",
     "text": [
      "Chunk 1 label distribution: Counter({0: 28980, 1: 5918})\n"
     ]
    },
    {
     "name": "stderr",
     "output_type": "stream",
     "text": [
      "f:\\Anaconda\\Lib\\site-packages\\imblearn\\over_sampling\\_smote\\base.py:370: FutureWarning: The parameter `n_jobs` has been deprecated in 0.10 and will be removed in 0.12. You can pass an nearest neighbors estimator where `n_jobs` is already set instead.\n",
      "  warnings.warn(\n"
     ]
    },
    {
     "name": "stdout",
     "output_type": "stream",
     "text": [
      "Chunk 2 label distribution: Counter({0: 28983, 1: 5913})\n"
     ]
    },
    {
     "name": "stderr",
     "output_type": "stream",
     "text": [
      "f:\\Anaconda\\Lib\\site-packages\\imblearn\\over_sampling\\_smote\\base.py:370: FutureWarning: The parameter `n_jobs` has been deprecated in 0.10 and will be removed in 0.12. You can pass an nearest neighbors estimator where `n_jobs` is already set instead.\n",
      "  warnings.warn(\n"
     ]
    },
    {
     "name": "stdout",
     "output_type": "stream",
     "text": [
      "Chunk 3 label distribution: Counter({0: 29151, 1: 5936})\n"
     ]
    },
    {
     "name": "stderr",
     "output_type": "stream",
     "text": [
      "f:\\Anaconda\\Lib\\site-packages\\imblearn\\over_sampling\\_smote\\base.py:370: FutureWarning: The parameter `n_jobs` has been deprecated in 0.10 and will be removed in 0.12. You can pass an nearest neighbors estimator where `n_jobs` is already set instead.\n",
      "  warnings.warn(\n"
     ]
    },
    {
     "name": "stdout",
     "output_type": "stream",
     "text": [
      "Chunk 4 label distribution: Counter({0: 14540, 1: 2979})\n",
      "Precision for sampling_strategy=0.20: 0.8299\n",
      "Recall for sampling_strategy=0.20: 0.7219\n",
      "F2 Score for sampling_strategy=0.20: 0.7412\n",
      "Testing sampling_strategy=0.30\n"
     ]
    },
    {
     "name": "stderr",
     "output_type": "stream",
     "text": [
      "f:\\Anaconda\\Lib\\site-packages\\imblearn\\over_sampling\\_smote\\base.py:370: FutureWarning: The parameter `n_jobs` has been deprecated in 0.10 and will be removed in 0.12. You can pass an nearest neighbors estimator where `n_jobs` is already set instead.\n",
      "  warnings.warn(\n"
     ]
    },
    {
     "name": "stdout",
     "output_type": "stream",
     "text": [
      "Chunk 1 label distribution: Counter({0: 28944, 1: 8920})\n"
     ]
    },
    {
     "name": "stderr",
     "output_type": "stream",
     "text": [
      "f:\\Anaconda\\Lib\\site-packages\\imblearn\\over_sampling\\_smote\\base.py:370: FutureWarning: The parameter `n_jobs` has been deprecated in 0.10 and will be removed in 0.12. You can pass an nearest neighbors estimator where `n_jobs` is already set instead.\n",
      "  warnings.warn(\n"
     ]
    },
    {
     "name": "stdout",
     "output_type": "stream",
     "text": [
      "Chunk 2 label distribution: Counter({0: 28967, 1: 8924})\n"
     ]
    },
    {
     "name": "stderr",
     "output_type": "stream",
     "text": [
      "f:\\Anaconda\\Lib\\site-packages\\imblearn\\over_sampling\\_smote\\base.py:370: FutureWarning: The parameter `n_jobs` has been deprecated in 0.10 and will be removed in 0.12. You can pass an nearest neighbors estimator where `n_jobs` is already set instead.\n",
      "  warnings.warn(\n"
     ]
    },
    {
     "name": "stdout",
     "output_type": "stream",
     "text": [
      "Chunk 3 label distribution: Counter({0: 29138, 1: 8944})\n"
     ]
    },
    {
     "name": "stderr",
     "output_type": "stream",
     "text": [
      "f:\\Anaconda\\Lib\\site-packages\\imblearn\\over_sampling\\_smote\\base.py:370: FutureWarning: The parameter `n_jobs` has been deprecated in 0.10 and will be removed in 0.12. You can pass an nearest neighbors estimator where `n_jobs` is already set instead.\n",
      "  warnings.warn(\n"
     ]
    },
    {
     "name": "stdout",
     "output_type": "stream",
     "text": [
      "Chunk 4 label distribution: Counter({0: 14531, 1: 4487})\n",
      "Precision for sampling_strategy=0.30: 0.8188\n",
      "Recall for sampling_strategy=0.30: 0.7219\n",
      "F2 Score for sampling_strategy=0.30: 0.7394\n",
      "Testing sampling_strategy=0.40\n"
     ]
    },
    {
     "name": "stderr",
     "output_type": "stream",
     "text": [
      "f:\\Anaconda\\Lib\\site-packages\\imblearn\\over_sampling\\_smote\\base.py:370: FutureWarning: The parameter `n_jobs` has been deprecated in 0.10 and will be removed in 0.12. You can pass an nearest neighbors estimator where `n_jobs` is already set instead.\n",
      "  warnings.warn(\n"
     ]
    },
    {
     "name": "stdout",
     "output_type": "stream",
     "text": [
      "Chunk 1 label distribution: Counter({0: 28932, 1: 11906})\n"
     ]
    },
    {
     "name": "stderr",
     "output_type": "stream",
     "text": [
      "f:\\Anaconda\\Lib\\site-packages\\imblearn\\over_sampling\\_smote\\base.py:370: FutureWarning: The parameter `n_jobs` has been deprecated in 0.10 and will be removed in 0.12. You can pass an nearest neighbors estimator where `n_jobs` is already set instead.\n",
      "  warnings.warn(\n"
     ]
    },
    {
     "name": "stdout",
     "output_type": "stream",
     "text": [
      "Chunk 2 label distribution: Counter({0: 28954, 1: 11910})\n"
     ]
    },
    {
     "name": "stderr",
     "output_type": "stream",
     "text": [
      "f:\\Anaconda\\Lib\\site-packages\\imblearn\\over_sampling\\_smote\\base.py:370: FutureWarning: The parameter `n_jobs` has been deprecated in 0.10 and will be removed in 0.12. You can pass an nearest neighbors estimator where `n_jobs` is already set instead.\n",
      "  warnings.warn(\n"
     ]
    },
    {
     "name": "stdout",
     "output_type": "stream",
     "text": [
      "Chunk 3 label distribution: Counter({0: 29135, 1: 11929})\n"
     ]
    },
    {
     "name": "stderr",
     "output_type": "stream",
     "text": [
      "f:\\Anaconda\\Lib\\site-packages\\imblearn\\over_sampling\\_smote\\base.py:370: FutureWarning: The parameter `n_jobs` has been deprecated in 0.10 and will be removed in 0.12. You can pass an nearest neighbors estimator where `n_jobs` is already set instead.\n",
      "  warnings.warn(\n"
     ]
    },
    {
     "name": "stdout",
     "output_type": "stream",
     "text": [
      "Chunk 4 label distribution: Counter({0: 14527, 1: 5985})\n",
      "Precision for sampling_strategy=0.40: 0.7919\n",
      "Recall for sampling_strategy=0.40: 0.6982\n",
      "F2 Score for sampling_strategy=0.40: 0.7152\n",
      "Testing sampling_strategy=0.50\n"
     ]
    },
    {
     "name": "stderr",
     "output_type": "stream",
     "text": [
      "f:\\Anaconda\\Lib\\site-packages\\imblearn\\over_sampling\\_smote\\base.py:370: FutureWarning: The parameter `n_jobs` has been deprecated in 0.10 and will be removed in 0.12. You can pass an nearest neighbors estimator where `n_jobs` is already set instead.\n",
      "  warnings.warn(\n"
     ]
    },
    {
     "name": "stdout",
     "output_type": "stream",
     "text": [
      "Chunk 1 label distribution: Counter({0: 28926, 1: 14894})\n"
     ]
    },
    {
     "name": "stderr",
     "output_type": "stream",
     "text": [
      "f:\\Anaconda\\Lib\\site-packages\\imblearn\\over_sampling\\_smote\\base.py:370: FutureWarning: The parameter `n_jobs` has been deprecated in 0.10 and will be removed in 0.12. You can pass an nearest neighbors estimator where `n_jobs` is already set instead.\n",
      "  warnings.warn(\n"
     ]
    },
    {
     "name": "stdout",
     "output_type": "stream",
     "text": [
      "Chunk 2 label distribution: Counter({0: 28957, 1: 14901})\n"
     ]
    },
    {
     "name": "stderr",
     "output_type": "stream",
     "text": [
      "f:\\Anaconda\\Lib\\site-packages\\imblearn\\over_sampling\\_smote\\base.py:370: FutureWarning: The parameter `n_jobs` has been deprecated in 0.10 and will be removed in 0.12. You can pass an nearest neighbors estimator where `n_jobs` is already set instead.\n",
      "  warnings.warn(\n"
     ]
    },
    {
     "name": "stdout",
     "output_type": "stream",
     "text": [
      "Chunk 3 label distribution: Counter({0: 29127, 1: 14916})\n"
     ]
    },
    {
     "name": "stderr",
     "output_type": "stream",
     "text": [
      "f:\\Anaconda\\Lib\\site-packages\\imblearn\\over_sampling\\_smote\\base.py:370: FutureWarning: The parameter `n_jobs` has been deprecated in 0.10 and will be removed in 0.12. You can pass an nearest neighbors estimator where `n_jobs` is already set instead.\n",
      "  warnings.warn(\n"
     ]
    },
    {
     "name": "stdout",
     "output_type": "stream",
     "text": [
      "Chunk 4 label distribution: Counter({0: 14521, 1: 7486})\n",
      "Precision for sampling_strategy=0.50: 0.7742\n",
      "Recall for sampling_strategy=0.50: 0.7101\n",
      "F2 Score for sampling_strategy=0.50: 0.7220\n",
      "Testing sampling_strategy=0.60\n"
     ]
    },
    {
     "name": "stderr",
     "output_type": "stream",
     "text": [
      "f:\\Anaconda\\Lib\\site-packages\\imblearn\\over_sampling\\_smote\\base.py:370: FutureWarning: The parameter `n_jobs` has been deprecated in 0.10 and will be removed in 0.12. You can pass an nearest neighbors estimator where `n_jobs` is already set instead.\n",
      "  warnings.warn(\n"
     ]
    },
    {
     "name": "stdout",
     "output_type": "stream",
     "text": [
      "Chunk 1 label distribution: Counter({0: 28930, 1: 17878})\n"
     ]
    },
    {
     "name": "stderr",
     "output_type": "stream",
     "text": [
      "f:\\Anaconda\\Lib\\site-packages\\imblearn\\over_sampling\\_smote\\base.py:370: FutureWarning: The parameter `n_jobs` has been deprecated in 0.10 and will be removed in 0.12. You can pass an nearest neighbors estimator where `n_jobs` is already set instead.\n",
      "  warnings.warn(\n"
     ]
    },
    {
     "name": "stdout",
     "output_type": "stream",
     "text": [
      "Chunk 2 label distribution: Counter({0: 28950, 1: 17878})\n"
     ]
    },
    {
     "name": "stderr",
     "output_type": "stream",
     "text": [
      "f:\\Anaconda\\Lib\\site-packages\\imblearn\\over_sampling\\_smote\\base.py:370: FutureWarning: The parameter `n_jobs` has been deprecated in 0.10 and will be removed in 0.12. You can pass an nearest neighbors estimator where `n_jobs` is already set instead.\n",
      "  warnings.warn(\n"
     ]
    },
    {
     "name": "stdout",
     "output_type": "stream",
     "text": [
      "Chunk 3 label distribution: Counter({0: 29123, 1: 17901})\n"
     ]
    },
    {
     "name": "stderr",
     "output_type": "stream",
     "text": [
      "f:\\Anaconda\\Lib\\site-packages\\imblearn\\over_sampling\\_smote\\base.py:370: FutureWarning: The parameter `n_jobs` has been deprecated in 0.10 and will be removed in 0.12. You can pass an nearest neighbors estimator where `n_jobs` is already set instead.\n",
      "  warnings.warn(\n"
     ]
    },
    {
     "name": "stdout",
     "output_type": "stream",
     "text": [
      "Chunk 4 label distribution: Counter({0: 14525, 1: 8985})\n",
      "Precision for sampling_strategy=0.60: 0.7838\n",
      "Recall for sampling_strategy=0.60: 0.6864\n",
      "F2 Score for sampling_strategy=0.60: 0.7039\n",
      "Testing sampling_strategy=0.70\n"
     ]
    },
    {
     "name": "stderr",
     "output_type": "stream",
     "text": [
      "f:\\Anaconda\\Lib\\site-packages\\imblearn\\over_sampling\\_smote\\base.py:370: FutureWarning: The parameter `n_jobs` has been deprecated in 0.10 and will be removed in 0.12. You can pass an nearest neighbors estimator where `n_jobs` is already set instead.\n",
      "  warnings.warn(\n"
     ]
    },
    {
     "name": "stdout",
     "output_type": "stream",
     "text": [
      "Chunk 1 label distribution: Counter({0: 28921, 1: 20856})\n"
     ]
    },
    {
     "name": "stderr",
     "output_type": "stream",
     "text": [
      "f:\\Anaconda\\Lib\\site-packages\\imblearn\\over_sampling\\_smote\\base.py:370: FutureWarning: The parameter `n_jobs` has been deprecated in 0.10 and will be removed in 0.12. You can pass an nearest neighbors estimator where `n_jobs` is already set instead.\n",
      "  warnings.warn(\n"
     ]
    },
    {
     "name": "stdout",
     "output_type": "stream",
     "text": [
      "Chunk 2 label distribution: Counter({0: 28946, 1: 20861})\n"
     ]
    },
    {
     "name": "stderr",
     "output_type": "stream",
     "text": [
      "f:\\Anaconda\\Lib\\site-packages\\imblearn\\over_sampling\\_smote\\base.py:370: FutureWarning: The parameter `n_jobs` has been deprecated in 0.10 and will be removed in 0.12. You can pass an nearest neighbors estimator where `n_jobs` is already set instead.\n",
      "  warnings.warn(\n"
     ]
    },
    {
     "name": "stdout",
     "output_type": "stream",
     "text": [
      "Chunk 3 label distribution: Counter({0: 29125, 1: 20891})\n"
     ]
    },
    {
     "name": "stderr",
     "output_type": "stream",
     "text": [
      "f:\\Anaconda\\Lib\\site-packages\\imblearn\\over_sampling\\_smote\\base.py:370: FutureWarning: The parameter `n_jobs` has been deprecated in 0.10 and will be removed in 0.12. You can pass an nearest neighbors estimator where `n_jobs` is already set instead.\n",
      "  warnings.warn(\n"
     ]
    },
    {
     "name": "stdout",
     "output_type": "stream",
     "text": [
      "Chunk 4 label distribution: Counter({0: 14521, 1: 10482})\n",
      "Precision for sampling_strategy=0.70: 0.7815\n",
      "Recall for sampling_strategy=0.70: 0.6982\n",
      "F2 Score for sampling_strategy=0.70: 0.7134\n",
      "Testing sampling_strategy=0.80\n"
     ]
    },
    {
     "name": "stderr",
     "output_type": "stream",
     "text": [
      "f:\\Anaconda\\Lib\\site-packages\\imblearn\\over_sampling\\_smote\\base.py:370: FutureWarning: The parameter `n_jobs` has been deprecated in 0.10 and will be removed in 0.12. You can pass an nearest neighbors estimator where `n_jobs` is already set instead.\n",
      "  warnings.warn(\n"
     ]
    },
    {
     "name": "stdout",
     "output_type": "stream",
     "text": [
      "Chunk 1 label distribution: Counter({0: 28925, 1: 23847})\n"
     ]
    },
    {
     "name": "stderr",
     "output_type": "stream",
     "text": [
      "f:\\Anaconda\\Lib\\site-packages\\imblearn\\over_sampling\\_smote\\base.py:370: FutureWarning: The parameter `n_jobs` has been deprecated in 0.10 and will be removed in 0.12. You can pass an nearest neighbors estimator where `n_jobs` is already set instead.\n",
      "  warnings.warn(\n"
     ]
    },
    {
     "name": "stdout",
     "output_type": "stream",
     "text": [
      "Chunk 2 label distribution: Counter({0: 28948, 1: 23843})\n"
     ]
    },
    {
     "name": "stderr",
     "output_type": "stream",
     "text": [
      "f:\\Anaconda\\Lib\\site-packages\\imblearn\\over_sampling\\_smote\\base.py:370: FutureWarning: The parameter `n_jobs` has been deprecated in 0.10 and will be removed in 0.12. You can pass an nearest neighbors estimator where `n_jobs` is already set instead.\n",
      "  warnings.warn(\n"
     ]
    },
    {
     "name": "stdout",
     "output_type": "stream",
     "text": [
      "Chunk 3 label distribution: Counter({0: 29125, 1: 23876})\n"
     ]
    },
    {
     "name": "stderr",
     "output_type": "stream",
     "text": [
      "f:\\Anaconda\\Lib\\site-packages\\imblearn\\over_sampling\\_smote\\base.py:370: FutureWarning: The parameter `n_jobs` has been deprecated in 0.10 and will be removed in 0.12. You can pass an nearest neighbors estimator where `n_jobs` is already set instead.\n",
      "  warnings.warn(\n"
     ]
    },
    {
     "name": "stdout",
     "output_type": "stream",
     "text": [
      "Chunk 4 label distribution: Counter({0: 14518, 1: 11982})\n",
      "Precision for sampling_strategy=0.80: 0.7616\n",
      "Recall for sampling_strategy=0.80: 0.6805\n",
      "F2 Score for sampling_strategy=0.80: 0.6953\n",
      "Testing sampling_strategy=0.90\n"
     ]
    },
    {
     "name": "stderr",
     "output_type": "stream",
     "text": [
      "f:\\Anaconda\\Lib\\site-packages\\imblearn\\over_sampling\\_smote\\base.py:370: FutureWarning: The parameter `n_jobs` has been deprecated in 0.10 and will be removed in 0.12. You can pass an nearest neighbors estimator where `n_jobs` is already set instead.\n",
      "  warnings.warn(\n"
     ]
    },
    {
     "name": "stdout",
     "output_type": "stream",
     "text": [
      "Chunk 1 label distribution: Counter({0: 28921, 1: 26825})\n"
     ]
    },
    {
     "name": "stderr",
     "output_type": "stream",
     "text": [
      "f:\\Anaconda\\Lib\\site-packages\\imblearn\\over_sampling\\_smote\\base.py:370: FutureWarning: The parameter `n_jobs` has been deprecated in 0.10 and will be removed in 0.12. You can pass an nearest neighbors estimator where `n_jobs` is already set instead.\n",
      "  warnings.warn(\n"
     ]
    },
    {
     "name": "stdout",
     "output_type": "stream",
     "text": [
      "Chunk 2 label distribution: Counter({0: 28947, 1: 26827})\n"
     ]
    },
    {
     "name": "stderr",
     "output_type": "stream",
     "text": [
      "f:\\Anaconda\\Lib\\site-packages\\imblearn\\over_sampling\\_smote\\base.py:370: FutureWarning: The parameter `n_jobs` has been deprecated in 0.10 and will be removed in 0.12. You can pass an nearest neighbors estimator where `n_jobs` is already set instead.\n",
      "  warnings.warn(\n"
     ]
    },
    {
     "name": "stdout",
     "output_type": "stream",
     "text": [
      "Chunk 3 label distribution: Counter({0: 29124, 1: 26860})\n"
     ]
    },
    {
     "name": "stderr",
     "output_type": "stream",
     "text": [
      "f:\\Anaconda\\Lib\\site-packages\\imblearn\\over_sampling\\_smote\\base.py:370: FutureWarning: The parameter `n_jobs` has been deprecated in 0.10 and will be removed in 0.12. You can pass an nearest neighbors estimator where `n_jobs` is already set instead.\n",
      "  warnings.warn(\n"
     ]
    },
    {
     "name": "stdout",
     "output_type": "stream",
     "text": [
      "Chunk 4 label distribution: Counter({0: 14519, 1: 13479})\n",
      "Precision for sampling_strategy=0.90: 0.7655\n",
      "Recall for sampling_strategy=0.90: 0.6568\n",
      "F2 Score for sampling_strategy=0.90: 0.6760\n",
      "Testing sampling_strategy=1.00\n"
     ]
    },
    {
     "name": "stderr",
     "output_type": "stream",
     "text": [
      "f:\\Anaconda\\Lib\\site-packages\\imblearn\\over_sampling\\_smote\\base.py:370: FutureWarning: The parameter `n_jobs` has been deprecated in 0.10 and will be removed in 0.12. You can pass an nearest neighbors estimator where `n_jobs` is already set instead.\n",
      "  warnings.warn(\n"
     ]
    },
    {
     "name": "stdout",
     "output_type": "stream",
     "text": [
      "Chunk 1 label distribution: Counter({1: 29808, 0: 28921})\n"
     ]
    },
    {
     "name": "stderr",
     "output_type": "stream",
     "text": [
      "f:\\Anaconda\\Lib\\site-packages\\imblearn\\over_sampling\\_smote\\base.py:370: FutureWarning: The parameter `n_jobs` has been deprecated in 0.10 and will be removed in 0.12. You can pass an nearest neighbors estimator where `n_jobs` is already set instead.\n",
      "  warnings.warn(\n"
     ]
    },
    {
     "name": "stdout",
     "output_type": "stream",
     "text": [
      "Chunk 2 label distribution: Counter({1: 29811, 0: 28943})\n"
     ]
    },
    {
     "name": "stderr",
     "output_type": "stream",
     "text": [
      "f:\\Anaconda\\Lib\\site-packages\\imblearn\\over_sampling\\_smote\\base.py:370: FutureWarning: The parameter `n_jobs` has been deprecated in 0.10 and will be removed in 0.12. You can pass an nearest neighbors estimator where `n_jobs` is already set instead.\n",
      "  warnings.warn(\n"
     ]
    },
    {
     "name": "stdout",
     "output_type": "stream",
     "text": [
      "Chunk 3 label distribution: Counter({1: 29844, 0: 29125})\n"
     ]
    },
    {
     "name": "stderr",
     "output_type": "stream",
     "text": [
      "f:\\Anaconda\\Lib\\site-packages\\imblearn\\over_sampling\\_smote\\base.py:370: FutureWarning: The parameter `n_jobs` has been deprecated in 0.10 and will be removed in 0.12. You can pass an nearest neighbors estimator where `n_jobs` is already set instead.\n",
      "  warnings.warn(\n"
     ]
    },
    {
     "name": "stdout",
     "output_type": "stream",
     "text": [
      "Chunk 4 label distribution: Counter({1: 14978, 0: 14522})\n",
      "Precision for sampling_strategy=1.00: 0.7972\n",
      "Recall for sampling_strategy=1.00: 0.6746\n",
      "F2 Score for sampling_strategy=1.00: 0.6960\n",
      "Best Sampling Strategy: 0.20 with Precision: 0.8299, Recall: 0.7219, F2 Score: 0.7412\n"
     ]
    }
   ],
   "source": [
    "#RandomForestClassifier\n",
    "\n",
    "X = df_testrate.drop(columns=['is_fraud'])\n",
    "y = df_testrate['is_fraud']\n",
    "\n",
    "def process_in_chunks(X, y, sampling_strategy, chunk_size=30000): \n",
    "    smote_enn = SMOTEENN(sampling_strategy=sampling_strategy, random_state=42, n_jobs=-1)\n",
    "    chunks = []\n",
    "    for i in range(0, len(X), chunk_size):\n",
    "        X_chunk = X.iloc[i:i+chunk_size]\n",
    "        y_chunk = y.iloc[i:i+chunk_size]\n",
    "        X_res, y_res = smote_enn.fit_resample(X_chunk, y_chunk)\n",
    "        chunks.append((X_res, y_res))\n",
    "        print(f\"Chunk {i // chunk_size + 1} label distribution: {Counter(y_res)}\")  \n",
    "\n",
    "    X_resampled = pd.concat([chunk[0] for chunk in chunks], axis=0)\n",
    "    y_resampled = pd.concat([chunk[1] for chunk in chunks], axis=0)\n",
    "    return X_resampled, y_resampled\n",
    "\n",
    "def pipeline_with_sampling(sampling_strategy):\n",
    "\n",
    "    X_train, X_test, y_train, y_test = train_test_split(X, y, test_size=0.2, random_state=42)\n",
    "    X_resampled, y_resampled = process_in_chunks(X_train, y_train, sampling_strategy=sampling_strategy)\n",
    "\n",
    "    model = RandomForestClassifier(random_state=42, n_jobs=-1)\n",
    "    model.fit(X_resampled, y_resampled)\n",
    "    y_pred = model.predict(X_test)\n",
    "\n",
    "    precision = precision_score(y_test, y_pred)\n",
    "    recall = recall_score(y_test, y_pred)\n",
    "    f2_score = fbeta_score(y_test, y_pred, beta=2)\n",
    "\n",
    "    return precision, recall, f2_score\n",
    "\n",
    "def random_search_sampling():\n",
    "    param_distributions = {\n",
    "        'sampling_strategy': np.linspace(0.1, 1.0, 10)  # 不同采样率\n",
    "    }\n",
    "    scorer = make_scorer(fbeta_score, beta=2)\n",
    "\n",
    "    results = []\n",
    "    for sampling_rate in param_distributions['sampling_strategy']:\n",
    "        print(f\"Testing sampling_strategy={sampling_rate:.2f}\")\n",
    "        precision, recall, f2 = pipeline_with_sampling(sampling_rate)\n",
    "        results.append((sampling_rate, precision, recall, f2))\n",
    "        print(f\"Precision for sampling_strategy={sampling_rate:.2f}: {precision:.4f}\")\n",
    "        print(f\"Recall for sampling_strategy={sampling_rate:.2f}: {recall:.4f}\")\n",
    "        print(f\"F2 Score for sampling_strategy={sampling_rate:.2f}: {f2:.4f}\")\n",
    "\n",
    "    best_sampling_strategy, best_precision, best_recall, best_f2 = max(results, key=lambda x: x[3])\n",
    "    print(f\"Best Sampling Strategy: {best_sampling_strategy:.2f} with Precision: {best_precision:.4f}, Recall: {best_recall:.4f}, F2 Score: {best_f2:.4f}\")\n",
    "    return best_sampling_strategy, best_precision, best_recall, best_f2\n",
    "\n",
    "best_sampling_strategy, best_precision, best_recall, best_f2 = random_search_sampling()"
   ]
  },
  {
   "cell_type": "markdown",
   "metadata": {},
   "source": [
    "#### XGBClassifier"
   ]
  },
  {
   "cell_type": "code",
   "execution_count": 69,
   "metadata": {},
   "outputs": [
    {
     "name": "stdout",
     "output_type": "stream",
     "text": [
      "Testing sampling_strategy=0.00\n",
      "Precision for sampling_strategy=0.00: 0.9565\n",
      "Recall for sampling_strategy=0.00: 0.7811\n",
      "F2 Score for sampling_strategy=0.00: 0.8108\n",
      "Best Sampling Strategy: 0.00 with Precision: 0.9565, Recall: 0.7811, F2 Score: 0.8108\n"
     ]
    }
   ],
   "source": [
    "#XGBClassifier\n",
    "\n",
    "X = df_testrate.drop(columns=['is_fraud'])\n",
    "y = df_testrate['is_fraud']\n",
    "\n",
    "def pipeline_with_sampling(sampling_strategy):\n",
    "\n",
    "    X_resampled, X_test, y_resampled, y_test = train_test_split(X, y, test_size=0.2, random_state=42)\n",
    "\n",
    "    model = XGBClassifier(random_state = 42)\n",
    "    model.fit(X_resampled, y_resampled)\n",
    "    y_pred = model.predict(X_test)\n",
    "\n",
    "    precision = precision_score(y_test, y_pred)\n",
    "    recall = recall_score(y_test, y_pred)\n",
    "    f2_score = fbeta_score(y_test, y_pred, beta=2)\n",
    "\n",
    "    return precision, recall, f2_score\n",
    "\n",
    "def random_search_sampling():\n",
    "    param_distributions = {\n",
    "        'sampling_strategy': [0.0]  \n",
    "    }\n",
    "\n",
    "    scorer = make_scorer(fbeta_score, beta=2)\n",
    "\n",
    "    results = []\n",
    "    for sampling_rate in param_distributions['sampling_strategy']:\n",
    "        print(f\"Testing sampling_strategy={sampling_rate:.2f}\")\n",
    "        precision, recall, f2 = pipeline_with_sampling(sampling_rate)\n",
    "        results.append((sampling_rate, precision, recall, f2))\n",
    "        print(f\"Precision for sampling_strategy={sampling_rate:.2f}: {precision:.4f}\")\n",
    "        print(f\"Recall for sampling_strategy={sampling_rate:.2f}: {recall:.4f}\")\n",
    "        print(f\"F2 Score for sampling_strategy={sampling_rate:.2f}: {f2:.4f}\")\n",
    "\n",
    "    best_sampling_strategy, best_precision, best_recall, best_f2 = max(results, key=lambda x: x[3])\n",
    "    print(f\"Best Sampling Strategy: {best_sampling_strategy:.2f} with Precision: {best_precision:.4f}, Recall: {best_recall:.4f}, F2 Score: {best_f2:.4f}\")\n",
    "    return best_sampling_strategy, best_precision, best_recall, best_f2\n",
    "\n",
    "best_sampling_strategy, best_precision, best_recall, best_f2 = random_search_sampling()"
   ]
  },
  {
   "cell_type": "markdown",
   "metadata": {},
   "source": [
    "#### LogisticRegression"
   ]
  },
  {
   "cell_type": "code",
   "execution_count": 52,
   "metadata": {},
   "outputs": [
    {
     "name": "stdout",
     "output_type": "stream",
     "text": [
      "Testing sampling_strategy=0.10\n"
     ]
    },
    {
     "name": "stderr",
     "output_type": "stream",
     "text": [
      "f:\\Anaconda\\Lib\\site-packages\\imblearn\\over_sampling\\_smote\\base.py:370: FutureWarning: The parameter `n_jobs` has been deprecated in 0.10 and will be removed in 0.12. You can pass an nearest neighbors estimator where `n_jobs` is already set instead.\n",
      "  warnings.warn(\n"
     ]
    },
    {
     "name": "stdout",
     "output_type": "stream",
     "text": [
      "Chunk 1 label distribution: Counter({0: 29026, 1: 2850})\n"
     ]
    },
    {
     "name": "stderr",
     "output_type": "stream",
     "text": [
      "f:\\Anaconda\\Lib\\site-packages\\imblearn\\over_sampling\\_smote\\base.py:370: FutureWarning: The parameter `n_jobs` has been deprecated in 0.10 and will be removed in 0.12. You can pass an nearest neighbors estimator where `n_jobs` is already set instead.\n",
      "  warnings.warn(\n"
     ]
    },
    {
     "name": "stdout",
     "output_type": "stream",
     "text": [
      "Chunk 2 label distribution: Counter({0: 29037, 1: 2850})\n"
     ]
    },
    {
     "name": "stderr",
     "output_type": "stream",
     "text": [
      "f:\\Anaconda\\Lib\\site-packages\\imblearn\\over_sampling\\_smote\\base.py:370: FutureWarning: The parameter `n_jobs` has been deprecated in 0.10 and will be removed in 0.12. You can pass an nearest neighbors estimator where `n_jobs` is already set instead.\n",
      "  warnings.warn(\n"
     ]
    },
    {
     "name": "stdout",
     "output_type": "stream",
     "text": [
      "Chunk 3 label distribution: Counter({0: 29190, 1: 2896})\n"
     ]
    },
    {
     "name": "stderr",
     "output_type": "stream",
     "text": [
      "f:\\Anaconda\\Lib\\site-packages\\imblearn\\over_sampling\\_smote\\base.py:370: FutureWarning: The parameter `n_jobs` has been deprecated in 0.10 and will be removed in 0.12. You can pass an nearest neighbors estimator where `n_jobs` is already set instead.\n",
      "  warnings.warn(\n"
     ]
    },
    {
     "name": "stdout",
     "output_type": "stream",
     "text": [
      "Chunk 4 label distribution: Counter({0: 14575, 1: 1469})\n",
      "Precision for sampling_strategy=0.10: 0.5618\n",
      "Recall for sampling_strategy=0.10: 0.2959\n",
      "F2 Score for sampling_strategy=0.10: 0.3268\n",
      "Testing sampling_strategy=0.20\n"
     ]
    },
    {
     "name": "stderr",
     "output_type": "stream",
     "text": [
      "f:\\Anaconda\\Lib\\site-packages\\imblearn\\over_sampling\\_smote\\base.py:370: FutureWarning: The parameter `n_jobs` has been deprecated in 0.10 and will be removed in 0.12. You can pass an nearest neighbors estimator where `n_jobs` is already set instead.\n",
      "  warnings.warn(\n"
     ]
    },
    {
     "name": "stdout",
     "output_type": "stream",
     "text": [
      "Chunk 1 label distribution: Counter({0: 28980, 1: 5918})\n"
     ]
    },
    {
     "name": "stderr",
     "output_type": "stream",
     "text": [
      "f:\\Anaconda\\Lib\\site-packages\\imblearn\\over_sampling\\_smote\\base.py:370: FutureWarning: The parameter `n_jobs` has been deprecated in 0.10 and will be removed in 0.12. You can pass an nearest neighbors estimator where `n_jobs` is already set instead.\n",
      "  warnings.warn(\n"
     ]
    },
    {
     "name": "stdout",
     "output_type": "stream",
     "text": [
      "Chunk 2 label distribution: Counter({0: 28983, 1: 5913})\n"
     ]
    },
    {
     "name": "stderr",
     "output_type": "stream",
     "text": [
      "f:\\Anaconda\\Lib\\site-packages\\imblearn\\over_sampling\\_smote\\base.py:370: FutureWarning: The parameter `n_jobs` has been deprecated in 0.10 and will be removed in 0.12. You can pass an nearest neighbors estimator where `n_jobs` is already set instead.\n",
      "  warnings.warn(\n"
     ]
    },
    {
     "name": "stdout",
     "output_type": "stream",
     "text": [
      "Chunk 3 label distribution: Counter({0: 29151, 1: 5936})\n"
     ]
    },
    {
     "name": "stderr",
     "output_type": "stream",
     "text": [
      "f:\\Anaconda\\Lib\\site-packages\\imblearn\\over_sampling\\_smote\\base.py:370: FutureWarning: The parameter `n_jobs` has been deprecated in 0.10 and will be removed in 0.12. You can pass an nearest neighbors estimator where `n_jobs` is already set instead.\n",
      "  warnings.warn(\n"
     ]
    },
    {
     "name": "stdout",
     "output_type": "stream",
     "text": [
      "Chunk 4 label distribution: Counter({0: 14540, 1: 2979})\n",
      "Precision for sampling_strategy=0.20: 0.3238\n",
      "Recall for sampling_strategy=0.20: 0.5385\n",
      "F2 Score for sampling_strategy=0.20: 0.4754\n",
      "Testing sampling_strategy=0.30\n"
     ]
    },
    {
     "name": "stderr",
     "output_type": "stream",
     "text": [
      "f:\\Anaconda\\Lib\\site-packages\\imblearn\\over_sampling\\_smote\\base.py:370: FutureWarning: The parameter `n_jobs` has been deprecated in 0.10 and will be removed in 0.12. You can pass an nearest neighbors estimator where `n_jobs` is already set instead.\n",
      "  warnings.warn(\n"
     ]
    },
    {
     "name": "stdout",
     "output_type": "stream",
     "text": [
      "Chunk 1 label distribution: Counter({0: 28944, 1: 8920})\n"
     ]
    },
    {
     "name": "stderr",
     "output_type": "stream",
     "text": [
      "f:\\Anaconda\\Lib\\site-packages\\imblearn\\over_sampling\\_smote\\base.py:370: FutureWarning: The parameter `n_jobs` has been deprecated in 0.10 and will be removed in 0.12. You can pass an nearest neighbors estimator where `n_jobs` is already set instead.\n",
      "  warnings.warn(\n"
     ]
    },
    {
     "name": "stdout",
     "output_type": "stream",
     "text": [
      "Chunk 2 label distribution: Counter({0: 28967, 1: 8924})\n"
     ]
    },
    {
     "name": "stderr",
     "output_type": "stream",
     "text": [
      "f:\\Anaconda\\Lib\\site-packages\\imblearn\\over_sampling\\_smote\\base.py:370: FutureWarning: The parameter `n_jobs` has been deprecated in 0.10 and will be removed in 0.12. You can pass an nearest neighbors estimator where `n_jobs` is already set instead.\n",
      "  warnings.warn(\n"
     ]
    },
    {
     "name": "stdout",
     "output_type": "stream",
     "text": [
      "Chunk 3 label distribution: Counter({0: 29138, 1: 8944})\n"
     ]
    },
    {
     "name": "stderr",
     "output_type": "stream",
     "text": [
      "f:\\Anaconda\\Lib\\site-packages\\imblearn\\over_sampling\\_smote\\base.py:370: FutureWarning: The parameter `n_jobs` has been deprecated in 0.10 and will be removed in 0.12. You can pass an nearest neighbors estimator where `n_jobs` is already set instead.\n",
      "  warnings.warn(\n"
     ]
    },
    {
     "name": "stdout",
     "output_type": "stream",
     "text": [
      "Chunk 4 label distribution: Counter({0: 14531, 1: 4487})\n",
      "Precision for sampling_strategy=0.30: 0.1996\n",
      "Recall for sampling_strategy=0.30: 0.6036\n",
      "F2 Score for sampling_strategy=0.30: 0.4297\n",
      "Testing sampling_strategy=0.40\n"
     ]
    },
    {
     "name": "stderr",
     "output_type": "stream",
     "text": [
      "f:\\Anaconda\\Lib\\site-packages\\imblearn\\over_sampling\\_smote\\base.py:370: FutureWarning: The parameter `n_jobs` has been deprecated in 0.10 and will be removed in 0.12. You can pass an nearest neighbors estimator where `n_jobs` is already set instead.\n",
      "  warnings.warn(\n"
     ]
    },
    {
     "name": "stdout",
     "output_type": "stream",
     "text": [
      "Chunk 1 label distribution: Counter({0: 28932, 1: 11906})\n"
     ]
    },
    {
     "name": "stderr",
     "output_type": "stream",
     "text": [
      "f:\\Anaconda\\Lib\\site-packages\\imblearn\\over_sampling\\_smote\\base.py:370: FutureWarning: The parameter `n_jobs` has been deprecated in 0.10 and will be removed in 0.12. You can pass an nearest neighbors estimator where `n_jobs` is already set instead.\n",
      "  warnings.warn(\n"
     ]
    },
    {
     "name": "stdout",
     "output_type": "stream",
     "text": [
      "Chunk 2 label distribution: Counter({0: 28954, 1: 11910})\n"
     ]
    },
    {
     "name": "stderr",
     "output_type": "stream",
     "text": [
      "f:\\Anaconda\\Lib\\site-packages\\imblearn\\over_sampling\\_smote\\base.py:370: FutureWarning: The parameter `n_jobs` has been deprecated in 0.10 and will be removed in 0.12. You can pass an nearest neighbors estimator where `n_jobs` is already set instead.\n",
      "  warnings.warn(\n"
     ]
    },
    {
     "name": "stdout",
     "output_type": "stream",
     "text": [
      "Chunk 3 label distribution: Counter({0: 29135, 1: 11929})\n"
     ]
    },
    {
     "name": "stderr",
     "output_type": "stream",
     "text": [
      "f:\\Anaconda\\Lib\\site-packages\\imblearn\\over_sampling\\_smote\\base.py:370: FutureWarning: The parameter `n_jobs` has been deprecated in 0.10 and will be removed in 0.12. You can pass an nearest neighbors estimator where `n_jobs` is already set instead.\n",
      "  warnings.warn(\n"
     ]
    },
    {
     "name": "stdout",
     "output_type": "stream",
     "text": [
      "Chunk 4 label distribution: Counter({0: 14527, 1: 5985})\n",
      "Precision for sampling_strategy=0.40: 0.1531\n",
      "Recall for sampling_strategy=0.40: 0.6331\n",
      "F2 Score for sampling_strategy=0.40: 0.3891\n",
      "Testing sampling_strategy=0.50\n"
     ]
    },
    {
     "name": "stderr",
     "output_type": "stream",
     "text": [
      "f:\\Anaconda\\Lib\\site-packages\\imblearn\\over_sampling\\_smote\\base.py:370: FutureWarning: The parameter `n_jobs` has been deprecated in 0.10 and will be removed in 0.12. You can pass an nearest neighbors estimator where `n_jobs` is already set instead.\n",
      "  warnings.warn(\n"
     ]
    },
    {
     "name": "stdout",
     "output_type": "stream",
     "text": [
      "Chunk 1 label distribution: Counter({0: 28926, 1: 14894})\n"
     ]
    },
    {
     "name": "stderr",
     "output_type": "stream",
     "text": [
      "f:\\Anaconda\\Lib\\site-packages\\imblearn\\over_sampling\\_smote\\base.py:370: FutureWarning: The parameter `n_jobs` has been deprecated in 0.10 and will be removed in 0.12. You can pass an nearest neighbors estimator where `n_jobs` is already set instead.\n",
      "  warnings.warn(\n"
     ]
    },
    {
     "name": "stdout",
     "output_type": "stream",
     "text": [
      "Chunk 2 label distribution: Counter({0: 28957, 1: 14901})\n"
     ]
    },
    {
     "name": "stderr",
     "output_type": "stream",
     "text": [
      "f:\\Anaconda\\Lib\\site-packages\\imblearn\\over_sampling\\_smote\\base.py:370: FutureWarning: The parameter `n_jobs` has been deprecated in 0.10 and will be removed in 0.12. You can pass an nearest neighbors estimator where `n_jobs` is already set instead.\n",
      "  warnings.warn(\n"
     ]
    },
    {
     "name": "stdout",
     "output_type": "stream",
     "text": [
      "Chunk 3 label distribution: Counter({0: 29127, 1: 14916})\n"
     ]
    },
    {
     "name": "stderr",
     "output_type": "stream",
     "text": [
      "f:\\Anaconda\\Lib\\site-packages\\imblearn\\over_sampling\\_smote\\base.py:370: FutureWarning: The parameter `n_jobs` has been deprecated in 0.10 and will be removed in 0.12. You can pass an nearest neighbors estimator where `n_jobs` is already set instead.\n",
      "  warnings.warn(\n"
     ]
    },
    {
     "name": "stdout",
     "output_type": "stream",
     "text": [
      "Chunk 4 label distribution: Counter({0: 14521, 1: 7486})\n",
      "Precision for sampling_strategy=0.50: 0.1356\n",
      "Recall for sampling_strategy=0.50: 0.6509\n",
      "F2 Score for sampling_strategy=0.50: 0.3699\n",
      "Testing sampling_strategy=0.60\n"
     ]
    },
    {
     "name": "stderr",
     "output_type": "stream",
     "text": [
      "f:\\Anaconda\\Lib\\site-packages\\imblearn\\over_sampling\\_smote\\base.py:370: FutureWarning: The parameter `n_jobs` has been deprecated in 0.10 and will be removed in 0.12. You can pass an nearest neighbors estimator where `n_jobs` is already set instead.\n",
      "  warnings.warn(\n"
     ]
    },
    {
     "name": "stdout",
     "output_type": "stream",
     "text": [
      "Chunk 1 label distribution: Counter({0: 28930, 1: 17878})\n"
     ]
    },
    {
     "name": "stderr",
     "output_type": "stream",
     "text": [
      "f:\\Anaconda\\Lib\\site-packages\\imblearn\\over_sampling\\_smote\\base.py:370: FutureWarning: The parameter `n_jobs` has been deprecated in 0.10 and will be removed in 0.12. You can pass an nearest neighbors estimator where `n_jobs` is already set instead.\n",
      "  warnings.warn(\n"
     ]
    },
    {
     "name": "stdout",
     "output_type": "stream",
     "text": [
      "Chunk 2 label distribution: Counter({0: 28950, 1: 17878})\n"
     ]
    },
    {
     "name": "stderr",
     "output_type": "stream",
     "text": [
      "f:\\Anaconda\\Lib\\site-packages\\imblearn\\over_sampling\\_smote\\base.py:370: FutureWarning: The parameter `n_jobs` has been deprecated in 0.10 and will be removed in 0.12. You can pass an nearest neighbors estimator where `n_jobs` is already set instead.\n",
      "  warnings.warn(\n"
     ]
    },
    {
     "name": "stdout",
     "output_type": "stream",
     "text": [
      "Chunk 3 label distribution: Counter({0: 29123, 1: 17901})\n"
     ]
    },
    {
     "name": "stderr",
     "output_type": "stream",
     "text": [
      "f:\\Anaconda\\Lib\\site-packages\\imblearn\\over_sampling\\_smote\\base.py:370: FutureWarning: The parameter `n_jobs` has been deprecated in 0.10 and will be removed in 0.12. You can pass an nearest neighbors estimator where `n_jobs` is already set instead.\n",
      "  warnings.warn(\n"
     ]
    },
    {
     "name": "stdout",
     "output_type": "stream",
     "text": [
      "Chunk 4 label distribution: Counter({0: 14525, 1: 8985})\n",
      "Precision for sampling_strategy=0.60: 0.1228\n",
      "Recall for sampling_strategy=0.60: 0.6627\n",
      "F2 Score for sampling_strategy=0.60: 0.3526\n",
      "Testing sampling_strategy=0.70\n"
     ]
    },
    {
     "name": "stderr",
     "output_type": "stream",
     "text": [
      "f:\\Anaconda\\Lib\\site-packages\\imblearn\\over_sampling\\_smote\\base.py:370: FutureWarning: The parameter `n_jobs` has been deprecated in 0.10 and will be removed in 0.12. You can pass an nearest neighbors estimator where `n_jobs` is already set instead.\n",
      "  warnings.warn(\n"
     ]
    },
    {
     "name": "stdout",
     "output_type": "stream",
     "text": [
      "Chunk 1 label distribution: Counter({0: 28921, 1: 20856})\n"
     ]
    },
    {
     "name": "stderr",
     "output_type": "stream",
     "text": [
      "f:\\Anaconda\\Lib\\site-packages\\imblearn\\over_sampling\\_smote\\base.py:370: FutureWarning: The parameter `n_jobs` has been deprecated in 0.10 and will be removed in 0.12. You can pass an nearest neighbors estimator where `n_jobs` is already set instead.\n",
      "  warnings.warn(\n"
     ]
    },
    {
     "name": "stdout",
     "output_type": "stream",
     "text": [
      "Chunk 2 label distribution: Counter({0: 28946, 1: 20861})\n"
     ]
    },
    {
     "name": "stderr",
     "output_type": "stream",
     "text": [
      "f:\\Anaconda\\Lib\\site-packages\\imblearn\\over_sampling\\_smote\\base.py:370: FutureWarning: The parameter `n_jobs` has been deprecated in 0.10 and will be removed in 0.12. You can pass an nearest neighbors estimator where `n_jobs` is already set instead.\n",
      "  warnings.warn(\n"
     ]
    },
    {
     "name": "stdout",
     "output_type": "stream",
     "text": [
      "Chunk 3 label distribution: Counter({0: 29125, 1: 20891})\n"
     ]
    },
    {
     "name": "stderr",
     "output_type": "stream",
     "text": [
      "f:\\Anaconda\\Lib\\site-packages\\imblearn\\over_sampling\\_smote\\base.py:370: FutureWarning: The parameter `n_jobs` has been deprecated in 0.10 and will be removed in 0.12. You can pass an nearest neighbors estimator where `n_jobs` is already set instead.\n",
      "  warnings.warn(\n"
     ]
    },
    {
     "name": "stdout",
     "output_type": "stream",
     "text": [
      "Chunk 4 label distribution: Counter({0: 14521, 1: 10482})\n",
      "Precision for sampling_strategy=0.70: 0.1132\n",
      "Recall for sampling_strategy=0.70: 0.6686\n",
      "F2 Score for sampling_strategy=0.70: 0.3375\n",
      "Testing sampling_strategy=0.80\n"
     ]
    },
    {
     "name": "stderr",
     "output_type": "stream",
     "text": [
      "f:\\Anaconda\\Lib\\site-packages\\imblearn\\over_sampling\\_smote\\base.py:370: FutureWarning: The parameter `n_jobs` has been deprecated in 0.10 and will be removed in 0.12. You can pass an nearest neighbors estimator where `n_jobs` is already set instead.\n",
      "  warnings.warn(\n"
     ]
    },
    {
     "name": "stdout",
     "output_type": "stream",
     "text": [
      "Chunk 1 label distribution: Counter({0: 28925, 1: 23847})\n"
     ]
    },
    {
     "name": "stderr",
     "output_type": "stream",
     "text": [
      "f:\\Anaconda\\Lib\\site-packages\\imblearn\\over_sampling\\_smote\\base.py:370: FutureWarning: The parameter `n_jobs` has been deprecated in 0.10 and will be removed in 0.12. You can pass an nearest neighbors estimator where `n_jobs` is already set instead.\n",
      "  warnings.warn(\n"
     ]
    },
    {
     "name": "stdout",
     "output_type": "stream",
     "text": [
      "Chunk 2 label distribution: Counter({0: 28948, 1: 23843})\n"
     ]
    },
    {
     "name": "stderr",
     "output_type": "stream",
     "text": [
      "f:\\Anaconda\\Lib\\site-packages\\imblearn\\over_sampling\\_smote\\base.py:370: FutureWarning: The parameter `n_jobs` has been deprecated in 0.10 and will be removed in 0.12. You can pass an nearest neighbors estimator where `n_jobs` is already set instead.\n",
      "  warnings.warn(\n"
     ]
    },
    {
     "name": "stdout",
     "output_type": "stream",
     "text": [
      "Chunk 3 label distribution: Counter({0: 29125, 1: 23876})\n"
     ]
    },
    {
     "name": "stderr",
     "output_type": "stream",
     "text": [
      "f:\\Anaconda\\Lib\\site-packages\\imblearn\\over_sampling\\_smote\\base.py:370: FutureWarning: The parameter `n_jobs` has been deprecated in 0.10 and will be removed in 0.12. You can pass an nearest neighbors estimator where `n_jobs` is already set instead.\n",
      "  warnings.warn(\n"
     ]
    },
    {
     "name": "stdout",
     "output_type": "stream",
     "text": [
      "Chunk 4 label distribution: Counter({0: 14518, 1: 11982})\n",
      "Precision for sampling_strategy=0.80: 0.1074\n",
      "Recall for sampling_strategy=0.80: 0.6805\n",
      "F2 Score for sampling_strategy=0.80: 0.3291\n",
      "Testing sampling_strategy=0.90\n"
     ]
    },
    {
     "name": "stderr",
     "output_type": "stream",
     "text": [
      "f:\\Anaconda\\Lib\\site-packages\\imblearn\\over_sampling\\_smote\\base.py:370: FutureWarning: The parameter `n_jobs` has been deprecated in 0.10 and will be removed in 0.12. You can pass an nearest neighbors estimator where `n_jobs` is already set instead.\n",
      "  warnings.warn(\n"
     ]
    },
    {
     "name": "stdout",
     "output_type": "stream",
     "text": [
      "Chunk 1 label distribution: Counter({0: 28921, 1: 26825})\n"
     ]
    },
    {
     "name": "stderr",
     "output_type": "stream",
     "text": [
      "f:\\Anaconda\\Lib\\site-packages\\imblearn\\over_sampling\\_smote\\base.py:370: FutureWarning: The parameter `n_jobs` has been deprecated in 0.10 and will be removed in 0.12. You can pass an nearest neighbors estimator where `n_jobs` is already set instead.\n",
      "  warnings.warn(\n"
     ]
    },
    {
     "name": "stdout",
     "output_type": "stream",
     "text": [
      "Chunk 2 label distribution: Counter({0: 28947, 1: 26827})\n"
     ]
    },
    {
     "name": "stderr",
     "output_type": "stream",
     "text": [
      "f:\\Anaconda\\Lib\\site-packages\\imblearn\\over_sampling\\_smote\\base.py:370: FutureWarning: The parameter `n_jobs` has been deprecated in 0.10 and will be removed in 0.12. You can pass an nearest neighbors estimator where `n_jobs` is already set instead.\n",
      "  warnings.warn(\n"
     ]
    },
    {
     "name": "stdout",
     "output_type": "stream",
     "text": [
      "Chunk 3 label distribution: Counter({0: 29124, 1: 26860})\n"
     ]
    },
    {
     "name": "stderr",
     "output_type": "stream",
     "text": [
      "f:\\Anaconda\\Lib\\site-packages\\imblearn\\over_sampling\\_smote\\base.py:370: FutureWarning: The parameter `n_jobs` has been deprecated in 0.10 and will be removed in 0.12. You can pass an nearest neighbors estimator where `n_jobs` is already set instead.\n",
      "  warnings.warn(\n"
     ]
    },
    {
     "name": "stdout",
     "output_type": "stream",
     "text": [
      "Chunk 4 label distribution: Counter({0: 14519, 1: 13479})\n",
      "Precision for sampling_strategy=0.90: 0.0912\n",
      "Recall for sampling_strategy=0.90: 0.6864\n",
      "F2 Score for sampling_strategy=0.90: 0.2977\n",
      "Testing sampling_strategy=1.00\n"
     ]
    },
    {
     "name": "stderr",
     "output_type": "stream",
     "text": [
      "f:\\Anaconda\\Lib\\site-packages\\imblearn\\over_sampling\\_smote\\base.py:370: FutureWarning: The parameter `n_jobs` has been deprecated in 0.10 and will be removed in 0.12. You can pass an nearest neighbors estimator where `n_jobs` is already set instead.\n",
      "  warnings.warn(\n"
     ]
    },
    {
     "name": "stdout",
     "output_type": "stream",
     "text": [
      "Chunk 1 label distribution: Counter({1: 29808, 0: 28921})\n"
     ]
    },
    {
     "name": "stderr",
     "output_type": "stream",
     "text": [
      "f:\\Anaconda\\Lib\\site-packages\\imblearn\\over_sampling\\_smote\\base.py:370: FutureWarning: The parameter `n_jobs` has been deprecated in 0.10 and will be removed in 0.12. You can pass an nearest neighbors estimator where `n_jobs` is already set instead.\n",
      "  warnings.warn(\n"
     ]
    },
    {
     "name": "stdout",
     "output_type": "stream",
     "text": [
      "Chunk 2 label distribution: Counter({1: 29811, 0: 28943})\n"
     ]
    },
    {
     "name": "stderr",
     "output_type": "stream",
     "text": [
      "f:\\Anaconda\\Lib\\site-packages\\imblearn\\over_sampling\\_smote\\base.py:370: FutureWarning: The parameter `n_jobs` has been deprecated in 0.10 and will be removed in 0.12. You can pass an nearest neighbors estimator where `n_jobs` is already set instead.\n",
      "  warnings.warn(\n"
     ]
    },
    {
     "name": "stdout",
     "output_type": "stream",
     "text": [
      "Chunk 3 label distribution: Counter({1: 29844, 0: 29125})\n"
     ]
    },
    {
     "name": "stderr",
     "output_type": "stream",
     "text": [
      "f:\\Anaconda\\Lib\\site-packages\\imblearn\\over_sampling\\_smote\\base.py:370: FutureWarning: The parameter `n_jobs` has been deprecated in 0.10 and will be removed in 0.12. You can pass an nearest neighbors estimator where `n_jobs` is already set instead.\n",
      "  warnings.warn(\n"
     ]
    },
    {
     "name": "stdout",
     "output_type": "stream",
     "text": [
      "Chunk 4 label distribution: Counter({1: 14978, 0: 14522})\n",
      "Precision for sampling_strategy=1.00: 0.0875\n",
      "Recall for sampling_strategy=1.00: 0.6864\n",
      "F2 Score for sampling_strategy=1.00: 0.2897\n",
      "Best Sampling Strategy: 0.20 with Precision: 0.3238, Recall: 0.5385, F2 Score: 0.4754\n"
     ]
    }
   ],
   "source": [
    "#LogisticRegression\n",
    "\n",
    "from sklearn.linear_model import LogisticRegression\n",
    "\n",
    "X = df_testrate.drop(columns=['is_fraud'])\n",
    "y = df_testrate['is_fraud']\n",
    "\n",
    "def process_in_chunks(X, y, sampling_strategy, chunk_size=30000): \n",
    "    smote_enn = SMOTEENN(sampling_strategy=sampling_strategy, random_state=42, n_jobs=-1)\n",
    "    chunks = []\n",
    "    for i in range(0, len(X), chunk_size):\n",
    "        X_chunk = X.iloc[i:i+chunk_size]\n",
    "        y_chunk = y.iloc[i:i+chunk_size]\n",
    "        X_res, y_res = smote_enn.fit_resample(X_chunk, y_chunk)\n",
    "        chunks.append((X_res, y_res))\n",
    "        print(f\"Chunk {i // chunk_size + 1} label distribution: {Counter(y_res)}\")  \n",
    "\n",
    "    X_resampled = pd.concat([chunk[0] for chunk in chunks], axis=0)\n",
    "    y_resampled = pd.concat([chunk[1] for chunk in chunks], axis=0)\n",
    "    return X_resampled, y_resampled\n",
    "\n",
    "def pipeline_with_sampling(sampling_strategy):\n",
    "\n",
    "    X_train, X_test, y_train, y_test = train_test_split(X, y, test_size=0.2, random_state=42)\n",
    "\n",
    "    X_resampled, y_resampled = process_in_chunks(X_train, y_train, sampling_strategy=sampling_strategy)\n",
    "\n",
    "    model = LogisticRegression(random_state=42, n_jobs=-1)\n",
    "    model.fit(X_resampled, y_resampled)\n",
    "    y_pred = model.predict(X_test)\n",
    "\n",
    "    precision = precision_score(y_test, y_pred)\n",
    "    recall = recall_score(y_test, y_pred)\n",
    "    f2_score = fbeta_score(y_test, y_pred, beta=2)\n",
    "\n",
    "    return precision, recall, f2_score\n",
    "\n",
    "def random_search_sampling():\n",
    "    param_distributions = {\n",
    "        'sampling_strategy': np.linspace(0.1, 1.0, 10)  \n",
    "    }\n",
    "    scorer = make_scorer(fbeta_score, beta=2)\n",
    "\n",
    "    results = []\n",
    "    for sampling_rate in param_distributions['sampling_strategy']:\n",
    "        print(f\"Testing sampling_strategy={sampling_rate:.2f}\")\n",
    "        precision, recall, f2 = pipeline_with_sampling(sampling_rate)\n",
    "        results.append((sampling_rate, precision, recall, f2))\n",
    "        print(f\"Precision for sampling_strategy={sampling_rate:.2f}: {precision:.4f}\")\n",
    "        print(f\"Recall for sampling_strategy={sampling_rate:.2f}: {recall:.4f}\")\n",
    "        print(f\"F2 Score for sampling_strategy={sampling_rate:.2f}: {f2:.4f}\")\n",
    "\n",
    "    best_sampling_strategy, best_precision, best_recall, best_f2 = max(results, key=lambda x: x[3])\n",
    "    print(f\"Best Sampling Strategy: {best_sampling_strategy:.2f} with Precision: {best_precision:.4f}, Recall: {best_recall:.4f}, F2 Score: {best_f2:.4f}\")\n",
    "    return best_sampling_strategy, best_precision, best_recall, best_f2\n",
    "\n",
    "best_sampling_strategy, best_precision, best_recall, best_f2 = random_search_sampling()"
   ]
  },
  {
   "cell_type": "markdown",
   "metadata": {},
   "source": [
    "#### SVM"
   ]
  },
  {
   "cell_type": "code",
   "execution_count": 53,
   "metadata": {},
   "outputs": [
    {
     "name": "stdout",
     "output_type": "stream",
     "text": [
      "Testing sampling_strategy=0.10\n"
     ]
    },
    {
     "name": "stderr",
     "output_type": "stream",
     "text": [
      "f:\\Anaconda\\Lib\\site-packages\\imblearn\\over_sampling\\_smote\\base.py:370: FutureWarning: The parameter `n_jobs` has been deprecated in 0.10 and will be removed in 0.12. You can pass an nearest neighbors estimator where `n_jobs` is already set instead.\n",
      "  warnings.warn(\n"
     ]
    },
    {
     "name": "stdout",
     "output_type": "stream",
     "text": [
      "Chunk 1 label distribution: Counter({0: 29026, 1: 2850})\n"
     ]
    },
    {
     "name": "stderr",
     "output_type": "stream",
     "text": [
      "f:\\Anaconda\\Lib\\site-packages\\imblearn\\over_sampling\\_smote\\base.py:370: FutureWarning: The parameter `n_jobs` has been deprecated in 0.10 and will be removed in 0.12. You can pass an nearest neighbors estimator where `n_jobs` is already set instead.\n",
      "  warnings.warn(\n"
     ]
    },
    {
     "name": "stdout",
     "output_type": "stream",
     "text": [
      "Chunk 2 label distribution: Counter({0: 29037, 1: 2850})\n"
     ]
    },
    {
     "name": "stderr",
     "output_type": "stream",
     "text": [
      "f:\\Anaconda\\Lib\\site-packages\\imblearn\\over_sampling\\_smote\\base.py:370: FutureWarning: The parameter `n_jobs` has been deprecated in 0.10 and will be removed in 0.12. You can pass an nearest neighbors estimator where `n_jobs` is already set instead.\n",
      "  warnings.warn(\n"
     ]
    },
    {
     "name": "stdout",
     "output_type": "stream",
     "text": [
      "Chunk 3 label distribution: Counter({0: 29190, 1: 2896})\n"
     ]
    },
    {
     "name": "stderr",
     "output_type": "stream",
     "text": [
      "f:\\Anaconda\\Lib\\site-packages\\imblearn\\over_sampling\\_smote\\base.py:370: FutureWarning: The parameter `n_jobs` has been deprecated in 0.10 and will be removed in 0.12. You can pass an nearest neighbors estimator where `n_jobs` is already set instead.\n",
      "  warnings.warn(\n"
     ]
    },
    {
     "name": "stdout",
     "output_type": "stream",
     "text": [
      "Chunk 4 label distribution: Counter({0: 14575, 1: 1469})\n",
      "Precision for sampling_strategy=0.10: 0.3148\n",
      "Recall for sampling_strategy=0.10: 0.1006\n",
      "F2 Score for sampling_strategy=0.10: 0.1164\n",
      "Testing sampling_strategy=0.20\n"
     ]
    },
    {
     "name": "stderr",
     "output_type": "stream",
     "text": [
      "f:\\Anaconda\\Lib\\site-packages\\imblearn\\over_sampling\\_smote\\base.py:370: FutureWarning: The parameter `n_jobs` has been deprecated in 0.10 and will be removed in 0.12. You can pass an nearest neighbors estimator where `n_jobs` is already set instead.\n",
      "  warnings.warn(\n"
     ]
    },
    {
     "name": "stdout",
     "output_type": "stream",
     "text": [
      "Chunk 1 label distribution: Counter({0: 28980, 1: 5918})\n"
     ]
    },
    {
     "name": "stderr",
     "output_type": "stream",
     "text": [
      "f:\\Anaconda\\Lib\\site-packages\\imblearn\\over_sampling\\_smote\\base.py:370: FutureWarning: The parameter `n_jobs` has been deprecated in 0.10 and will be removed in 0.12. You can pass an nearest neighbors estimator where `n_jobs` is already set instead.\n",
      "  warnings.warn(\n"
     ]
    },
    {
     "name": "stdout",
     "output_type": "stream",
     "text": [
      "Chunk 2 label distribution: Counter({0: 28983, 1: 5913})\n"
     ]
    },
    {
     "name": "stderr",
     "output_type": "stream",
     "text": [
      "f:\\Anaconda\\Lib\\site-packages\\imblearn\\over_sampling\\_smote\\base.py:370: FutureWarning: The parameter `n_jobs` has been deprecated in 0.10 and will be removed in 0.12. You can pass an nearest neighbors estimator where `n_jobs` is already set instead.\n",
      "  warnings.warn(\n"
     ]
    },
    {
     "name": "stdout",
     "output_type": "stream",
     "text": [
      "Chunk 3 label distribution: Counter({0: 29151, 1: 5936})\n"
     ]
    },
    {
     "name": "stderr",
     "output_type": "stream",
     "text": [
      "f:\\Anaconda\\Lib\\site-packages\\imblearn\\over_sampling\\_smote\\base.py:370: FutureWarning: The parameter `n_jobs` has been deprecated in 0.10 and will be removed in 0.12. You can pass an nearest neighbors estimator where `n_jobs` is already set instead.\n",
      "  warnings.warn(\n"
     ]
    },
    {
     "name": "stdout",
     "output_type": "stream",
     "text": [
      "Chunk 4 label distribution: Counter({0: 14540, 1: 2979})\n",
      "Precision for sampling_strategy=0.20: 0.2710\n",
      "Recall for sampling_strategy=0.20: 0.1716\n",
      "F2 Score for sampling_strategy=0.20: 0.1852\n",
      "Testing sampling_strategy=0.30\n"
     ]
    },
    {
     "name": "stderr",
     "output_type": "stream",
     "text": [
      "f:\\Anaconda\\Lib\\site-packages\\imblearn\\over_sampling\\_smote\\base.py:370: FutureWarning: The parameter `n_jobs` has been deprecated in 0.10 and will be removed in 0.12. You can pass an nearest neighbors estimator where `n_jobs` is already set instead.\n",
      "  warnings.warn(\n"
     ]
    },
    {
     "name": "stdout",
     "output_type": "stream",
     "text": [
      "Chunk 1 label distribution: Counter({0: 28944, 1: 8920})\n"
     ]
    },
    {
     "name": "stderr",
     "output_type": "stream",
     "text": [
      "f:\\Anaconda\\Lib\\site-packages\\imblearn\\over_sampling\\_smote\\base.py:370: FutureWarning: The parameter `n_jobs` has been deprecated in 0.10 and will be removed in 0.12. You can pass an nearest neighbors estimator where `n_jobs` is already set instead.\n",
      "  warnings.warn(\n"
     ]
    },
    {
     "name": "stdout",
     "output_type": "stream",
     "text": [
      "Chunk 2 label distribution: Counter({0: 28967, 1: 8924})\n"
     ]
    },
    {
     "name": "stderr",
     "output_type": "stream",
     "text": [
      "f:\\Anaconda\\Lib\\site-packages\\imblearn\\over_sampling\\_smote\\base.py:370: FutureWarning: The parameter `n_jobs` has been deprecated in 0.10 and will be removed in 0.12. You can pass an nearest neighbors estimator where `n_jobs` is already set instead.\n",
      "  warnings.warn(\n"
     ]
    },
    {
     "name": "stdout",
     "output_type": "stream",
     "text": [
      "Chunk 3 label distribution: Counter({0: 29138, 1: 8944})\n"
     ]
    },
    {
     "name": "stderr",
     "output_type": "stream",
     "text": [
      "f:\\Anaconda\\Lib\\site-packages\\imblearn\\over_sampling\\_smote\\base.py:370: FutureWarning: The parameter `n_jobs` has been deprecated in 0.10 and will be removed in 0.12. You can pass an nearest neighbors estimator where `n_jobs` is already set instead.\n",
      "  warnings.warn(\n"
     ]
    },
    {
     "name": "stdout",
     "output_type": "stream",
     "text": [
      "Chunk 4 label distribution: Counter({0: 14531, 1: 4487})\n",
      "Precision for sampling_strategy=0.30: 0.2303\n",
      "Recall for sampling_strategy=0.30: 0.2071\n",
      "F2 Score for sampling_strategy=0.30: 0.2114\n",
      "Testing sampling_strategy=0.40\n"
     ]
    },
    {
     "name": "stderr",
     "output_type": "stream",
     "text": [
      "f:\\Anaconda\\Lib\\site-packages\\imblearn\\over_sampling\\_smote\\base.py:370: FutureWarning: The parameter `n_jobs` has been deprecated in 0.10 and will be removed in 0.12. You can pass an nearest neighbors estimator where `n_jobs` is already set instead.\n",
      "  warnings.warn(\n"
     ]
    },
    {
     "name": "stdout",
     "output_type": "stream",
     "text": [
      "Chunk 1 label distribution: Counter({0: 28932, 1: 11906})\n"
     ]
    },
    {
     "name": "stderr",
     "output_type": "stream",
     "text": [
      "f:\\Anaconda\\Lib\\site-packages\\imblearn\\over_sampling\\_smote\\base.py:370: FutureWarning: The parameter `n_jobs` has been deprecated in 0.10 and will be removed in 0.12. You can pass an nearest neighbors estimator where `n_jobs` is already set instead.\n",
      "  warnings.warn(\n"
     ]
    },
    {
     "name": "stdout",
     "output_type": "stream",
     "text": [
      "Chunk 2 label distribution: Counter({0: 28954, 1: 11910})\n"
     ]
    },
    {
     "name": "stderr",
     "output_type": "stream",
     "text": [
      "f:\\Anaconda\\Lib\\site-packages\\imblearn\\over_sampling\\_smote\\base.py:370: FutureWarning: The parameter `n_jobs` has been deprecated in 0.10 and will be removed in 0.12. You can pass an nearest neighbors estimator where `n_jobs` is already set instead.\n",
      "  warnings.warn(\n"
     ]
    },
    {
     "name": "stdout",
     "output_type": "stream",
     "text": [
      "Chunk 3 label distribution: Counter({0: 29135, 1: 11929})\n"
     ]
    },
    {
     "name": "stderr",
     "output_type": "stream",
     "text": [
      "f:\\Anaconda\\Lib\\site-packages\\imblearn\\over_sampling\\_smote\\base.py:370: FutureWarning: The parameter `n_jobs` has been deprecated in 0.10 and will be removed in 0.12. You can pass an nearest neighbors estimator where `n_jobs` is already set instead.\n",
      "  warnings.warn(\n"
     ]
    },
    {
     "name": "stdout",
     "output_type": "stream",
     "text": [
      "Chunk 4 label distribution: Counter({0: 14527, 1: 5985})\n",
      "Precision for sampling_strategy=0.40: 0.2113\n",
      "Recall for sampling_strategy=0.40: 0.2426\n",
      "F2 Score for sampling_strategy=0.40: 0.2356\n",
      "Testing sampling_strategy=0.50\n"
     ]
    },
    {
     "name": "stderr",
     "output_type": "stream",
     "text": [
      "f:\\Anaconda\\Lib\\site-packages\\imblearn\\over_sampling\\_smote\\base.py:370: FutureWarning: The parameter `n_jobs` has been deprecated in 0.10 and will be removed in 0.12. You can pass an nearest neighbors estimator where `n_jobs` is already set instead.\n",
      "  warnings.warn(\n"
     ]
    },
    {
     "name": "stdout",
     "output_type": "stream",
     "text": [
      "Chunk 1 label distribution: Counter({0: 28926, 1: 14894})\n"
     ]
    },
    {
     "name": "stderr",
     "output_type": "stream",
     "text": [
      "f:\\Anaconda\\Lib\\site-packages\\imblearn\\over_sampling\\_smote\\base.py:370: FutureWarning: The parameter `n_jobs` has been deprecated in 0.10 and will be removed in 0.12. You can pass an nearest neighbors estimator where `n_jobs` is already set instead.\n",
      "  warnings.warn(\n"
     ]
    },
    {
     "name": "stdout",
     "output_type": "stream",
     "text": [
      "Chunk 2 label distribution: Counter({0: 28957, 1: 14901})\n"
     ]
    },
    {
     "name": "stderr",
     "output_type": "stream",
     "text": [
      "f:\\Anaconda\\Lib\\site-packages\\imblearn\\over_sampling\\_smote\\base.py:370: FutureWarning: The parameter `n_jobs` has been deprecated in 0.10 and will be removed in 0.12. You can pass an nearest neighbors estimator where `n_jobs` is already set instead.\n",
      "  warnings.warn(\n"
     ]
    },
    {
     "name": "stdout",
     "output_type": "stream",
     "text": [
      "Chunk 3 label distribution: Counter({0: 29127, 1: 14916})\n"
     ]
    },
    {
     "name": "stderr",
     "output_type": "stream",
     "text": [
      "f:\\Anaconda\\Lib\\site-packages\\imblearn\\over_sampling\\_smote\\base.py:370: FutureWarning: The parameter `n_jobs` has been deprecated in 0.10 and will be removed in 0.12. You can pass an nearest neighbors estimator where `n_jobs` is already set instead.\n",
      "  warnings.warn(\n"
     ]
    },
    {
     "name": "stdout",
     "output_type": "stream",
     "text": [
      "Chunk 4 label distribution: Counter({0: 14521, 1: 7486})\n",
      "Precision for sampling_strategy=0.50: 0.1694\n",
      "Recall for sampling_strategy=0.50: 0.2426\n",
      "F2 Score for sampling_strategy=0.50: 0.2233\n",
      "Testing sampling_strategy=0.60\n"
     ]
    },
    {
     "name": "stderr",
     "output_type": "stream",
     "text": [
      "f:\\Anaconda\\Lib\\site-packages\\imblearn\\over_sampling\\_smote\\base.py:370: FutureWarning: The parameter `n_jobs` has been deprecated in 0.10 and will be removed in 0.12. You can pass an nearest neighbors estimator where `n_jobs` is already set instead.\n",
      "  warnings.warn(\n"
     ]
    },
    {
     "name": "stdout",
     "output_type": "stream",
     "text": [
      "Chunk 1 label distribution: Counter({0: 28930, 1: 17878})\n"
     ]
    },
    {
     "name": "stderr",
     "output_type": "stream",
     "text": [
      "f:\\Anaconda\\Lib\\site-packages\\imblearn\\over_sampling\\_smote\\base.py:370: FutureWarning: The parameter `n_jobs` has been deprecated in 0.10 and will be removed in 0.12. You can pass an nearest neighbors estimator where `n_jobs` is already set instead.\n",
      "  warnings.warn(\n"
     ]
    },
    {
     "name": "stdout",
     "output_type": "stream",
     "text": [
      "Chunk 2 label distribution: Counter({0: 28950, 1: 17878})\n"
     ]
    },
    {
     "name": "stderr",
     "output_type": "stream",
     "text": [
      "f:\\Anaconda\\Lib\\site-packages\\imblearn\\over_sampling\\_smote\\base.py:370: FutureWarning: The parameter `n_jobs` has been deprecated in 0.10 and will be removed in 0.12. You can pass an nearest neighbors estimator where `n_jobs` is already set instead.\n",
      "  warnings.warn(\n"
     ]
    },
    {
     "name": "stdout",
     "output_type": "stream",
     "text": [
      "Chunk 3 label distribution: Counter({0: 29123, 1: 17901})\n"
     ]
    },
    {
     "name": "stderr",
     "output_type": "stream",
     "text": [
      "f:\\Anaconda\\Lib\\site-packages\\imblearn\\over_sampling\\_smote\\base.py:370: FutureWarning: The parameter `n_jobs` has been deprecated in 0.10 and will be removed in 0.12. You can pass an nearest neighbors estimator where `n_jobs` is already set instead.\n",
      "  warnings.warn(\n"
     ]
    },
    {
     "name": "stdout",
     "output_type": "stream",
     "text": [
      "Chunk 4 label distribution: Counter({0: 14525, 1: 8985})\n",
      "Precision for sampling_strategy=0.60: 0.1619\n",
      "Recall for sampling_strategy=0.60: 0.2663\n",
      "F2 Score for sampling_strategy=0.60: 0.2358\n",
      "Testing sampling_strategy=0.70\n"
     ]
    },
    {
     "name": "stderr",
     "output_type": "stream",
     "text": [
      "f:\\Anaconda\\Lib\\site-packages\\imblearn\\over_sampling\\_smote\\base.py:370: FutureWarning: The parameter `n_jobs` has been deprecated in 0.10 and will be removed in 0.12. You can pass an nearest neighbors estimator where `n_jobs` is already set instead.\n",
      "  warnings.warn(\n"
     ]
    },
    {
     "name": "stdout",
     "output_type": "stream",
     "text": [
      "Chunk 1 label distribution: Counter({0: 28921, 1: 20856})\n"
     ]
    },
    {
     "name": "stderr",
     "output_type": "stream",
     "text": [
      "f:\\Anaconda\\Lib\\site-packages\\imblearn\\over_sampling\\_smote\\base.py:370: FutureWarning: The parameter `n_jobs` has been deprecated in 0.10 and will be removed in 0.12. You can pass an nearest neighbors estimator where `n_jobs` is already set instead.\n",
      "  warnings.warn(\n"
     ]
    },
    {
     "name": "stdout",
     "output_type": "stream",
     "text": [
      "Chunk 2 label distribution: Counter({0: 28946, 1: 20861})\n"
     ]
    },
    {
     "name": "stderr",
     "output_type": "stream",
     "text": [
      "f:\\Anaconda\\Lib\\site-packages\\imblearn\\over_sampling\\_smote\\base.py:370: FutureWarning: The parameter `n_jobs` has been deprecated in 0.10 and will be removed in 0.12. You can pass an nearest neighbors estimator where `n_jobs` is already set instead.\n",
      "  warnings.warn(\n"
     ]
    },
    {
     "name": "stdout",
     "output_type": "stream",
     "text": [
      "Chunk 3 label distribution: Counter({0: 29125, 1: 20891})\n"
     ]
    },
    {
     "name": "stderr",
     "output_type": "stream",
     "text": [
      "f:\\Anaconda\\Lib\\site-packages\\imblearn\\over_sampling\\_smote\\base.py:370: FutureWarning: The parameter `n_jobs` has been deprecated in 0.10 and will be removed in 0.12. You can pass an nearest neighbors estimator where `n_jobs` is already set instead.\n",
      "  warnings.warn(\n"
     ]
    },
    {
     "name": "stdout",
     "output_type": "stream",
     "text": [
      "Chunk 4 label distribution: Counter({0: 14521, 1: 10482})\n",
      "Precision for sampling_strategy=0.70: 0.1607\n",
      "Recall for sampling_strategy=0.70: 0.2899\n",
      "F2 Score for sampling_strategy=0.70: 0.2497\n",
      "Testing sampling_strategy=0.80\n"
     ]
    },
    {
     "name": "stderr",
     "output_type": "stream",
     "text": [
      "f:\\Anaconda\\Lib\\site-packages\\imblearn\\over_sampling\\_smote\\base.py:370: FutureWarning: The parameter `n_jobs` has been deprecated in 0.10 and will be removed in 0.12. You can pass an nearest neighbors estimator where `n_jobs` is already set instead.\n",
      "  warnings.warn(\n"
     ]
    },
    {
     "name": "stdout",
     "output_type": "stream",
     "text": [
      "Chunk 1 label distribution: Counter({0: 28925, 1: 23847})\n"
     ]
    },
    {
     "name": "stderr",
     "output_type": "stream",
     "text": [
      "f:\\Anaconda\\Lib\\site-packages\\imblearn\\over_sampling\\_smote\\base.py:370: FutureWarning: The parameter `n_jobs` has been deprecated in 0.10 and will be removed in 0.12. You can pass an nearest neighbors estimator where `n_jobs` is already set instead.\n",
      "  warnings.warn(\n"
     ]
    },
    {
     "name": "stdout",
     "output_type": "stream",
     "text": [
      "Chunk 2 label distribution: Counter({0: 28948, 1: 23843})\n"
     ]
    },
    {
     "name": "stderr",
     "output_type": "stream",
     "text": [
      "f:\\Anaconda\\Lib\\site-packages\\imblearn\\over_sampling\\_smote\\base.py:370: FutureWarning: The parameter `n_jobs` has been deprecated in 0.10 and will be removed in 0.12. You can pass an nearest neighbors estimator where `n_jobs` is already set instead.\n",
      "  warnings.warn(\n"
     ]
    },
    {
     "name": "stdout",
     "output_type": "stream",
     "text": [
      "Chunk 3 label distribution: Counter({0: 29125, 1: 23876})\n"
     ]
    },
    {
     "name": "stderr",
     "output_type": "stream",
     "text": [
      "f:\\Anaconda\\Lib\\site-packages\\imblearn\\over_sampling\\_smote\\base.py:370: FutureWarning: The parameter `n_jobs` has been deprecated in 0.10 and will be removed in 0.12. You can pass an nearest neighbors estimator where `n_jobs` is already set instead.\n",
      "  warnings.warn(\n"
     ]
    },
    {
     "name": "stdout",
     "output_type": "stream",
     "text": [
      "Chunk 4 label distribution: Counter({0: 14518, 1: 11982})\n",
      "Precision for sampling_strategy=0.80: 0.1545\n",
      "Recall for sampling_strategy=0.80: 0.3018\n",
      "F2 Score for sampling_strategy=0.80: 0.2535\n",
      "Testing sampling_strategy=0.90\n"
     ]
    },
    {
     "name": "stderr",
     "output_type": "stream",
     "text": [
      "f:\\Anaconda\\Lib\\site-packages\\imblearn\\over_sampling\\_smote\\base.py:370: FutureWarning: The parameter `n_jobs` has been deprecated in 0.10 and will be removed in 0.12. You can pass an nearest neighbors estimator where `n_jobs` is already set instead.\n",
      "  warnings.warn(\n"
     ]
    },
    {
     "name": "stdout",
     "output_type": "stream",
     "text": [
      "Chunk 1 label distribution: Counter({0: 28921, 1: 26825})\n"
     ]
    },
    {
     "name": "stderr",
     "output_type": "stream",
     "text": [
      "f:\\Anaconda\\Lib\\site-packages\\imblearn\\over_sampling\\_smote\\base.py:370: FutureWarning: The parameter `n_jobs` has been deprecated in 0.10 and will be removed in 0.12. You can pass an nearest neighbors estimator where `n_jobs` is already set instead.\n",
      "  warnings.warn(\n"
     ]
    },
    {
     "name": "stdout",
     "output_type": "stream",
     "text": [
      "Chunk 2 label distribution: Counter({0: 28947, 1: 26827})\n"
     ]
    },
    {
     "name": "stderr",
     "output_type": "stream",
     "text": [
      "f:\\Anaconda\\Lib\\site-packages\\imblearn\\over_sampling\\_smote\\base.py:370: FutureWarning: The parameter `n_jobs` has been deprecated in 0.10 and will be removed in 0.12. You can pass an nearest neighbors estimator where `n_jobs` is already set instead.\n",
      "  warnings.warn(\n"
     ]
    },
    {
     "name": "stdout",
     "output_type": "stream",
     "text": [
      "Chunk 3 label distribution: Counter({0: 29124, 1: 26860})\n"
     ]
    },
    {
     "name": "stderr",
     "output_type": "stream",
     "text": [
      "f:\\Anaconda\\Lib\\site-packages\\imblearn\\over_sampling\\_smote\\base.py:370: FutureWarning: The parameter `n_jobs` has been deprecated in 0.10 and will be removed in 0.12. You can pass an nearest neighbors estimator where `n_jobs` is already set instead.\n",
      "  warnings.warn(\n"
     ]
    },
    {
     "name": "stdout",
     "output_type": "stream",
     "text": [
      "Chunk 4 label distribution: Counter({0: 14519, 1: 13479})\n",
      "Precision for sampling_strategy=0.90: 0.1441\n",
      "Recall for sampling_strategy=0.90: 0.3018\n",
      "F2 Score for sampling_strategy=0.90: 0.2476\n",
      "Testing sampling_strategy=1.00\n"
     ]
    },
    {
     "name": "stderr",
     "output_type": "stream",
     "text": [
      "f:\\Anaconda\\Lib\\site-packages\\imblearn\\over_sampling\\_smote\\base.py:370: FutureWarning: The parameter `n_jobs` has been deprecated in 0.10 and will be removed in 0.12. You can pass an nearest neighbors estimator where `n_jobs` is already set instead.\n",
      "  warnings.warn(\n"
     ]
    },
    {
     "name": "stdout",
     "output_type": "stream",
     "text": [
      "Chunk 1 label distribution: Counter({1: 29808, 0: 28921})\n"
     ]
    },
    {
     "name": "stderr",
     "output_type": "stream",
     "text": [
      "f:\\Anaconda\\Lib\\site-packages\\imblearn\\over_sampling\\_smote\\base.py:370: FutureWarning: The parameter `n_jobs` has been deprecated in 0.10 and will be removed in 0.12. You can pass an nearest neighbors estimator where `n_jobs` is already set instead.\n",
      "  warnings.warn(\n"
     ]
    },
    {
     "name": "stdout",
     "output_type": "stream",
     "text": [
      "Chunk 2 label distribution: Counter({1: 29811, 0: 28943})\n"
     ]
    },
    {
     "name": "stderr",
     "output_type": "stream",
     "text": [
      "f:\\Anaconda\\Lib\\site-packages\\imblearn\\over_sampling\\_smote\\base.py:370: FutureWarning: The parameter `n_jobs` has been deprecated in 0.10 and will be removed in 0.12. You can pass an nearest neighbors estimator where `n_jobs` is already set instead.\n",
      "  warnings.warn(\n"
     ]
    },
    {
     "name": "stdout",
     "output_type": "stream",
     "text": [
      "Chunk 3 label distribution: Counter({1: 29844, 0: 29125})\n"
     ]
    },
    {
     "name": "stderr",
     "output_type": "stream",
     "text": [
      "f:\\Anaconda\\Lib\\site-packages\\imblearn\\over_sampling\\_smote\\base.py:370: FutureWarning: The parameter `n_jobs` has been deprecated in 0.10 and will be removed in 0.12. You can pass an nearest neighbors estimator where `n_jobs` is already set instead.\n",
      "  warnings.warn(\n"
     ]
    },
    {
     "name": "stdout",
     "output_type": "stream",
     "text": [
      "Chunk 4 label distribution: Counter({1: 14978, 0: 14522})\n",
      "Precision for sampling_strategy=1.00: 0.1432\n",
      "Recall for sampling_strategy=1.00: 0.3254\n",
      "F2 Score for sampling_strategy=1.00: 0.2594\n",
      "Best Sampling Strategy: 1.00 with Precision: 0.1432, Recall: 0.3254, F2 Score: 0.2594\n"
     ]
    }
   ],
   "source": [
    "#SVM\n",
    "\n",
    "from sklearn.svm import LinearSVC, SVC\n",
    "\n",
    "X = df_testrate.drop(columns=['is_fraud'])\n",
    "y = df_testrate['is_fraud']\n",
    "\n",
    "def process_in_chunks(X, y, sampling_strategy, chunk_size=30000): \n",
    "    smote_enn = SMOTEENN(sampling_strategy=sampling_strategy, random_state=42, n_jobs=-1)\n",
    "    chunks = []\n",
    "    for i in range(0, len(X), chunk_size):\n",
    "        X_chunk = X.iloc[i:i+chunk_size]\n",
    "        y_chunk = y.iloc[i:i+chunk_size]\n",
    "        X_res, y_res = smote_enn.fit_resample(X_chunk, y_chunk)\n",
    "        chunks.append((X_res, y_res))\n",
    "        print(f\"Chunk {i // chunk_size + 1} label distribution: {Counter(y_res)}\")  \n",
    "\n",
    "    X_resampled = pd.concat([chunk[0] for chunk in chunks], axis=0)\n",
    "    y_resampled = pd.concat([chunk[1] for chunk in chunks], axis=0)\n",
    "    return X_resampled, y_resampled\n",
    "\n",
    "def pipeline_with_sampling(sampling_strategy):\n",
    "    X_train, X_test, y_train, y_test = train_test_split(X, y, test_size=0.2, random_state=42)\n",
    "    X_resampled, y_resampled = process_in_chunks(X_train, y_train, sampling_strategy=sampling_strategy)\n",
    "\n",
    "    model = SVC(random_state = 42)\n",
    "    model.fit(X_resampled, y_resampled)\n",
    "    y_pred = model.predict(X_test)\n",
    "\n",
    "    precision = precision_score(y_test, y_pred)\n",
    "    recall = recall_score(y_test, y_pred)\n",
    "    f2_score = fbeta_score(y_test, y_pred, beta=2)\n",
    "\n",
    "    return precision, recall, f2_score\n",
    "\n",
    "def random_search_sampling():\n",
    "    param_distributions = {\n",
    "        'sampling_strategy': np.linspace(0.1, 1.0, 10) \n",
    "    }\n",
    "\n",
    "    scorer = make_scorer(fbeta_score, beta=2)\n",
    "\n",
    "    results = []\n",
    "    for sampling_rate in param_distributions['sampling_strategy']:\n",
    "        print(f\"Testing sampling_strategy={sampling_rate:.2f}\")\n",
    "        precision, recall, f2 = pipeline_with_sampling(sampling_rate)\n",
    "        results.append((sampling_rate, precision, recall, f2))\n",
    "        print(f\"Precision for sampling_strategy={sampling_rate:.2f}: {precision:.4f}\")\n",
    "        print(f\"Recall for sampling_strategy={sampling_rate:.2f}: {recall:.4f}\")\n",
    "        print(f\"F2 Score for sampling_strategy={sampling_rate:.2f}: {f2:.4f}\")\n",
    "\n",
    "    best_sampling_strategy, best_precision, best_recall, best_f2 = max(results, key=lambda x: x[3])\n",
    "    print(f\"Best Sampling Strategy: {best_sampling_strategy:.2f} with Precision: {best_precision:.4f}, Recall: {best_recall:.4f}, F2 Score: {best_f2:.4f}\")\n",
    "    return best_sampling_strategy, best_precision, best_recall, best_f2\n",
    "\n",
    "best_sampling_strategy, best_precision, best_recall, best_f2 = random_search_sampling()"
   ]
  },
  {
   "cell_type": "markdown",
   "metadata": {},
   "source": [
    "#### MLPClassifier"
   ]
  },
  {
   "cell_type": "code",
   "execution_count": 54,
   "metadata": {},
   "outputs": [
    {
     "name": "stdout",
     "output_type": "stream",
     "text": [
      "Testing sampling_strategy=0.10\n"
     ]
    },
    {
     "name": "stderr",
     "output_type": "stream",
     "text": [
      "f:\\Anaconda\\Lib\\site-packages\\imblearn\\over_sampling\\_smote\\base.py:370: FutureWarning: The parameter `n_jobs` has been deprecated in 0.10 and will be removed in 0.12. You can pass an nearest neighbors estimator where `n_jobs` is already set instead.\n",
      "  warnings.warn(\n"
     ]
    },
    {
     "name": "stdout",
     "output_type": "stream",
     "text": [
      "Chunk 1 label distribution: Counter({0: 29026, 1: 2850})\n"
     ]
    },
    {
     "name": "stderr",
     "output_type": "stream",
     "text": [
      "f:\\Anaconda\\Lib\\site-packages\\imblearn\\over_sampling\\_smote\\base.py:370: FutureWarning: The parameter `n_jobs` has been deprecated in 0.10 and will be removed in 0.12. You can pass an nearest neighbors estimator where `n_jobs` is already set instead.\n",
      "  warnings.warn(\n"
     ]
    },
    {
     "name": "stdout",
     "output_type": "stream",
     "text": [
      "Chunk 2 label distribution: Counter({0: 29037, 1: 2850})\n"
     ]
    },
    {
     "name": "stderr",
     "output_type": "stream",
     "text": [
      "f:\\Anaconda\\Lib\\site-packages\\imblearn\\over_sampling\\_smote\\base.py:370: FutureWarning: The parameter `n_jobs` has been deprecated in 0.10 and will be removed in 0.12. You can pass an nearest neighbors estimator where `n_jobs` is already set instead.\n",
      "  warnings.warn(\n"
     ]
    },
    {
     "name": "stdout",
     "output_type": "stream",
     "text": [
      "Chunk 3 label distribution: Counter({0: 29190, 1: 2896})\n"
     ]
    },
    {
     "name": "stderr",
     "output_type": "stream",
     "text": [
      "f:\\Anaconda\\Lib\\site-packages\\imblearn\\over_sampling\\_smote\\base.py:370: FutureWarning: The parameter `n_jobs` has been deprecated in 0.10 and will be removed in 0.12. You can pass an nearest neighbors estimator where `n_jobs` is already set instead.\n",
      "  warnings.warn(\n"
     ]
    },
    {
     "name": "stdout",
     "output_type": "stream",
     "text": [
      "Chunk 4 label distribution: Counter({0: 14575, 1: 1469})\n",
      "Precision for sampling_strategy=0.10: 0.6623\n",
      "Recall for sampling_strategy=0.10: 0.5917\n",
      "F2 Score for sampling_strategy=0.10: 0.6046\n",
      "Testing sampling_strategy=0.20\n"
     ]
    },
    {
     "name": "stderr",
     "output_type": "stream",
     "text": [
      "f:\\Anaconda\\Lib\\site-packages\\imblearn\\over_sampling\\_smote\\base.py:370: FutureWarning: The parameter `n_jobs` has been deprecated in 0.10 and will be removed in 0.12. You can pass an nearest neighbors estimator where `n_jobs` is already set instead.\n",
      "  warnings.warn(\n"
     ]
    },
    {
     "name": "stdout",
     "output_type": "stream",
     "text": [
      "Chunk 1 label distribution: Counter({0: 28980, 1: 5918})\n"
     ]
    },
    {
     "name": "stderr",
     "output_type": "stream",
     "text": [
      "f:\\Anaconda\\Lib\\site-packages\\imblearn\\over_sampling\\_smote\\base.py:370: FutureWarning: The parameter `n_jobs` has been deprecated in 0.10 and will be removed in 0.12. You can pass an nearest neighbors estimator where `n_jobs` is already set instead.\n",
      "  warnings.warn(\n"
     ]
    },
    {
     "name": "stdout",
     "output_type": "stream",
     "text": [
      "Chunk 2 label distribution: Counter({0: 28983, 1: 5913})\n"
     ]
    },
    {
     "name": "stderr",
     "output_type": "stream",
     "text": [
      "f:\\Anaconda\\Lib\\site-packages\\imblearn\\over_sampling\\_smote\\base.py:370: FutureWarning: The parameter `n_jobs` has been deprecated in 0.10 and will be removed in 0.12. You can pass an nearest neighbors estimator where `n_jobs` is already set instead.\n",
      "  warnings.warn(\n"
     ]
    },
    {
     "name": "stdout",
     "output_type": "stream",
     "text": [
      "Chunk 3 label distribution: Counter({0: 29151, 1: 5936})\n"
     ]
    },
    {
     "name": "stderr",
     "output_type": "stream",
     "text": [
      "f:\\Anaconda\\Lib\\site-packages\\imblearn\\over_sampling\\_smote\\base.py:370: FutureWarning: The parameter `n_jobs` has been deprecated in 0.10 and will be removed in 0.12. You can pass an nearest neighbors estimator where `n_jobs` is already set instead.\n",
      "  warnings.warn(\n"
     ]
    },
    {
     "name": "stdout",
     "output_type": "stream",
     "text": [
      "Chunk 4 label distribution: Counter({0: 14540, 1: 2979})\n",
      "Precision for sampling_strategy=0.20: 0.5632\n",
      "Recall for sampling_strategy=0.20: 0.5799\n",
      "F2 Score for sampling_strategy=0.20: 0.5765\n",
      "Testing sampling_strategy=0.30\n"
     ]
    },
    {
     "name": "stderr",
     "output_type": "stream",
     "text": [
      "f:\\Anaconda\\Lib\\site-packages\\imblearn\\over_sampling\\_smote\\base.py:370: FutureWarning: The parameter `n_jobs` has been deprecated in 0.10 and will be removed in 0.12. You can pass an nearest neighbors estimator where `n_jobs` is already set instead.\n",
      "  warnings.warn(\n"
     ]
    },
    {
     "name": "stdout",
     "output_type": "stream",
     "text": [
      "Chunk 1 label distribution: Counter({0: 28944, 1: 8920})\n"
     ]
    },
    {
     "name": "stderr",
     "output_type": "stream",
     "text": [
      "f:\\Anaconda\\Lib\\site-packages\\imblearn\\over_sampling\\_smote\\base.py:370: FutureWarning: The parameter `n_jobs` has been deprecated in 0.10 and will be removed in 0.12. You can pass an nearest neighbors estimator where `n_jobs` is already set instead.\n",
      "  warnings.warn(\n"
     ]
    },
    {
     "name": "stdout",
     "output_type": "stream",
     "text": [
      "Chunk 2 label distribution: Counter({0: 28967, 1: 8924})\n"
     ]
    },
    {
     "name": "stderr",
     "output_type": "stream",
     "text": [
      "f:\\Anaconda\\Lib\\site-packages\\imblearn\\over_sampling\\_smote\\base.py:370: FutureWarning: The parameter `n_jobs` has been deprecated in 0.10 and will be removed in 0.12. You can pass an nearest neighbors estimator where `n_jobs` is already set instead.\n",
      "  warnings.warn(\n"
     ]
    },
    {
     "name": "stdout",
     "output_type": "stream",
     "text": [
      "Chunk 3 label distribution: Counter({0: 29138, 1: 8944})\n"
     ]
    },
    {
     "name": "stderr",
     "output_type": "stream",
     "text": [
      "f:\\Anaconda\\Lib\\site-packages\\imblearn\\over_sampling\\_smote\\base.py:370: FutureWarning: The parameter `n_jobs` has been deprecated in 0.10 and will be removed in 0.12. You can pass an nearest neighbors estimator where `n_jobs` is already set instead.\n",
      "  warnings.warn(\n"
     ]
    },
    {
     "name": "stdout",
     "output_type": "stream",
     "text": [
      "Chunk 4 label distribution: Counter({0: 14531, 1: 4487})\n",
      "Precision for sampling_strategy=0.30: 0.6291\n",
      "Recall for sampling_strategy=0.30: 0.5621\n",
      "F2 Score for sampling_strategy=0.30: 0.5744\n",
      "Testing sampling_strategy=0.40\n"
     ]
    },
    {
     "name": "stderr",
     "output_type": "stream",
     "text": [
      "f:\\Anaconda\\Lib\\site-packages\\imblearn\\over_sampling\\_smote\\base.py:370: FutureWarning: The parameter `n_jobs` has been deprecated in 0.10 and will be removed in 0.12. You can pass an nearest neighbors estimator where `n_jobs` is already set instead.\n",
      "  warnings.warn(\n"
     ]
    },
    {
     "name": "stdout",
     "output_type": "stream",
     "text": [
      "Chunk 1 label distribution: Counter({0: 28932, 1: 11906})\n"
     ]
    },
    {
     "name": "stderr",
     "output_type": "stream",
     "text": [
      "f:\\Anaconda\\Lib\\site-packages\\imblearn\\over_sampling\\_smote\\base.py:370: FutureWarning: The parameter `n_jobs` has been deprecated in 0.10 and will be removed in 0.12. You can pass an nearest neighbors estimator where `n_jobs` is already set instead.\n",
      "  warnings.warn(\n"
     ]
    },
    {
     "name": "stdout",
     "output_type": "stream",
     "text": [
      "Chunk 2 label distribution: Counter({0: 28954, 1: 11910})\n"
     ]
    },
    {
     "name": "stderr",
     "output_type": "stream",
     "text": [
      "f:\\Anaconda\\Lib\\site-packages\\imblearn\\over_sampling\\_smote\\base.py:370: FutureWarning: The parameter `n_jobs` has been deprecated in 0.10 and will be removed in 0.12. You can pass an nearest neighbors estimator where `n_jobs` is already set instead.\n",
      "  warnings.warn(\n"
     ]
    },
    {
     "name": "stdout",
     "output_type": "stream",
     "text": [
      "Chunk 3 label distribution: Counter({0: 29135, 1: 11929})\n"
     ]
    },
    {
     "name": "stderr",
     "output_type": "stream",
     "text": [
      "f:\\Anaconda\\Lib\\site-packages\\imblearn\\over_sampling\\_smote\\base.py:370: FutureWarning: The parameter `n_jobs` has been deprecated in 0.10 and will be removed in 0.12. You can pass an nearest neighbors estimator where `n_jobs` is already set instead.\n",
      "  warnings.warn(\n"
     ]
    },
    {
     "name": "stdout",
     "output_type": "stream",
     "text": [
      "Chunk 4 label distribution: Counter({0: 14527, 1: 5985})\n",
      "Precision for sampling_strategy=0.40: 0.6478\n",
      "Recall for sampling_strategy=0.40: 0.6095\n",
      "F2 Score for sampling_strategy=0.40: 0.6168\n",
      "Testing sampling_strategy=0.50\n"
     ]
    },
    {
     "name": "stderr",
     "output_type": "stream",
     "text": [
      "f:\\Anaconda\\Lib\\site-packages\\imblearn\\over_sampling\\_smote\\base.py:370: FutureWarning: The parameter `n_jobs` has been deprecated in 0.10 and will be removed in 0.12. You can pass an nearest neighbors estimator where `n_jobs` is already set instead.\n",
      "  warnings.warn(\n"
     ]
    },
    {
     "name": "stdout",
     "output_type": "stream",
     "text": [
      "Chunk 1 label distribution: Counter({0: 28926, 1: 14894})\n"
     ]
    },
    {
     "name": "stderr",
     "output_type": "stream",
     "text": [
      "f:\\Anaconda\\Lib\\site-packages\\imblearn\\over_sampling\\_smote\\base.py:370: FutureWarning: The parameter `n_jobs` has been deprecated in 0.10 and will be removed in 0.12. You can pass an nearest neighbors estimator where `n_jobs` is already set instead.\n",
      "  warnings.warn(\n"
     ]
    },
    {
     "name": "stdout",
     "output_type": "stream",
     "text": [
      "Chunk 2 label distribution: Counter({0: 28957, 1: 14901})\n"
     ]
    },
    {
     "name": "stderr",
     "output_type": "stream",
     "text": [
      "f:\\Anaconda\\Lib\\site-packages\\imblearn\\over_sampling\\_smote\\base.py:370: FutureWarning: The parameter `n_jobs` has been deprecated in 0.10 and will be removed in 0.12. You can pass an nearest neighbors estimator where `n_jobs` is already set instead.\n",
      "  warnings.warn(\n"
     ]
    },
    {
     "name": "stdout",
     "output_type": "stream",
     "text": [
      "Chunk 3 label distribution: Counter({0: 29127, 1: 14916})\n"
     ]
    },
    {
     "name": "stderr",
     "output_type": "stream",
     "text": [
      "f:\\Anaconda\\Lib\\site-packages\\imblearn\\over_sampling\\_smote\\base.py:370: FutureWarning: The parameter `n_jobs` has been deprecated in 0.10 and will be removed in 0.12. You can pass an nearest neighbors estimator where `n_jobs` is already set instead.\n",
      "  warnings.warn(\n"
     ]
    },
    {
     "name": "stdout",
     "output_type": "stream",
     "text": [
      "Chunk 4 label distribution: Counter({0: 14521, 1: 7486})\n",
      "Precision for sampling_strategy=0.50: 0.6591\n",
      "Recall for sampling_strategy=0.50: 0.5148\n",
      "F2 Score for sampling_strategy=0.50: 0.5384\n",
      "Testing sampling_strategy=0.60\n"
     ]
    },
    {
     "name": "stderr",
     "output_type": "stream",
     "text": [
      "f:\\Anaconda\\Lib\\site-packages\\imblearn\\over_sampling\\_smote\\base.py:370: FutureWarning: The parameter `n_jobs` has been deprecated in 0.10 and will be removed in 0.12. You can pass an nearest neighbors estimator where `n_jobs` is already set instead.\n",
      "  warnings.warn(\n"
     ]
    },
    {
     "name": "stdout",
     "output_type": "stream",
     "text": [
      "Chunk 1 label distribution: Counter({0: 28930, 1: 17878})\n"
     ]
    },
    {
     "name": "stderr",
     "output_type": "stream",
     "text": [
      "f:\\Anaconda\\Lib\\site-packages\\imblearn\\over_sampling\\_smote\\base.py:370: FutureWarning: The parameter `n_jobs` has been deprecated in 0.10 and will be removed in 0.12. You can pass an nearest neighbors estimator where `n_jobs` is already set instead.\n",
      "  warnings.warn(\n"
     ]
    },
    {
     "name": "stdout",
     "output_type": "stream",
     "text": [
      "Chunk 2 label distribution: Counter({0: 28950, 1: 17878})\n"
     ]
    },
    {
     "name": "stderr",
     "output_type": "stream",
     "text": [
      "f:\\Anaconda\\Lib\\site-packages\\imblearn\\over_sampling\\_smote\\base.py:370: FutureWarning: The parameter `n_jobs` has been deprecated in 0.10 and will be removed in 0.12. You can pass an nearest neighbors estimator where `n_jobs` is already set instead.\n",
      "  warnings.warn(\n"
     ]
    },
    {
     "name": "stdout",
     "output_type": "stream",
     "text": [
      "Chunk 3 label distribution: Counter({0: 29123, 1: 17901})\n"
     ]
    },
    {
     "name": "stderr",
     "output_type": "stream",
     "text": [
      "f:\\Anaconda\\Lib\\site-packages\\imblearn\\over_sampling\\_smote\\base.py:370: FutureWarning: The parameter `n_jobs` has been deprecated in 0.10 and will be removed in 0.12. You can pass an nearest neighbors estimator where `n_jobs` is already set instead.\n",
      "  warnings.warn(\n"
     ]
    },
    {
     "name": "stdout",
     "output_type": "stream",
     "text": [
      "Chunk 4 label distribution: Counter({0: 14525, 1: 8985})\n",
      "Precision for sampling_strategy=0.60: 0.5943\n",
      "Recall for sampling_strategy=0.60: 0.6154\n",
      "F2 Score for sampling_strategy=0.60: 0.6110\n",
      "Testing sampling_strategy=0.70\n"
     ]
    },
    {
     "name": "stderr",
     "output_type": "stream",
     "text": [
      "f:\\Anaconda\\Lib\\site-packages\\imblearn\\over_sampling\\_smote\\base.py:370: FutureWarning: The parameter `n_jobs` has been deprecated in 0.10 and will be removed in 0.12. You can pass an nearest neighbors estimator where `n_jobs` is already set instead.\n",
      "  warnings.warn(\n"
     ]
    },
    {
     "name": "stdout",
     "output_type": "stream",
     "text": [
      "Chunk 1 label distribution: Counter({0: 28921, 1: 20856})\n"
     ]
    },
    {
     "name": "stderr",
     "output_type": "stream",
     "text": [
      "f:\\Anaconda\\Lib\\site-packages\\imblearn\\over_sampling\\_smote\\base.py:370: FutureWarning: The parameter `n_jobs` has been deprecated in 0.10 and will be removed in 0.12. You can pass an nearest neighbors estimator where `n_jobs` is already set instead.\n",
      "  warnings.warn(\n"
     ]
    },
    {
     "name": "stdout",
     "output_type": "stream",
     "text": [
      "Chunk 2 label distribution: Counter({0: 28946, 1: 20861})\n"
     ]
    },
    {
     "name": "stderr",
     "output_type": "stream",
     "text": [
      "f:\\Anaconda\\Lib\\site-packages\\imblearn\\over_sampling\\_smote\\base.py:370: FutureWarning: The parameter `n_jobs` has been deprecated in 0.10 and will be removed in 0.12. You can pass an nearest neighbors estimator where `n_jobs` is already set instead.\n",
      "  warnings.warn(\n"
     ]
    },
    {
     "name": "stdout",
     "output_type": "stream",
     "text": [
      "Chunk 3 label distribution: Counter({0: 29125, 1: 20891})\n"
     ]
    },
    {
     "name": "stderr",
     "output_type": "stream",
     "text": [
      "f:\\Anaconda\\Lib\\site-packages\\imblearn\\over_sampling\\_smote\\base.py:370: FutureWarning: The parameter `n_jobs` has been deprecated in 0.10 and will be removed in 0.12. You can pass an nearest neighbors estimator where `n_jobs` is already set instead.\n",
      "  warnings.warn(\n"
     ]
    },
    {
     "name": "stdout",
     "output_type": "stream",
     "text": [
      "Chunk 4 label distribution: Counter({0: 14521, 1: 10482})\n",
      "Precision for sampling_strategy=0.70: 0.5578\n",
      "Recall for sampling_strategy=0.70: 0.4852\n",
      "F2 Score for sampling_strategy=0.70: 0.4982\n",
      "Testing sampling_strategy=0.80\n"
     ]
    },
    {
     "name": "stderr",
     "output_type": "stream",
     "text": [
      "f:\\Anaconda\\Lib\\site-packages\\imblearn\\over_sampling\\_smote\\base.py:370: FutureWarning: The parameter `n_jobs` has been deprecated in 0.10 and will be removed in 0.12. You can pass an nearest neighbors estimator where `n_jobs` is already set instead.\n",
      "  warnings.warn(\n"
     ]
    },
    {
     "name": "stdout",
     "output_type": "stream",
     "text": [
      "Chunk 1 label distribution: Counter({0: 28925, 1: 23847})\n"
     ]
    },
    {
     "name": "stderr",
     "output_type": "stream",
     "text": [
      "f:\\Anaconda\\Lib\\site-packages\\imblearn\\over_sampling\\_smote\\base.py:370: FutureWarning: The parameter `n_jobs` has been deprecated in 0.10 and will be removed in 0.12. You can pass an nearest neighbors estimator where `n_jobs` is already set instead.\n",
      "  warnings.warn(\n"
     ]
    },
    {
     "name": "stdout",
     "output_type": "stream",
     "text": [
      "Chunk 2 label distribution: Counter({0: 28948, 1: 23843})\n"
     ]
    },
    {
     "name": "stderr",
     "output_type": "stream",
     "text": [
      "f:\\Anaconda\\Lib\\site-packages\\imblearn\\over_sampling\\_smote\\base.py:370: FutureWarning: The parameter `n_jobs` has been deprecated in 0.10 and will be removed in 0.12. You can pass an nearest neighbors estimator where `n_jobs` is already set instead.\n",
      "  warnings.warn(\n"
     ]
    },
    {
     "name": "stdout",
     "output_type": "stream",
     "text": [
      "Chunk 3 label distribution: Counter({0: 29125, 1: 23876})\n"
     ]
    },
    {
     "name": "stderr",
     "output_type": "stream",
     "text": [
      "f:\\Anaconda\\Lib\\site-packages\\imblearn\\over_sampling\\_smote\\base.py:370: FutureWarning: The parameter `n_jobs` has been deprecated in 0.10 and will be removed in 0.12. You can pass an nearest neighbors estimator where `n_jobs` is already set instead.\n",
      "  warnings.warn(\n"
     ]
    },
    {
     "name": "stdout",
     "output_type": "stream",
     "text": [
      "Chunk 4 label distribution: Counter({0: 14518, 1: 11982})\n",
      "Precision for sampling_strategy=0.80: 0.6934\n",
      "Recall for sampling_strategy=0.80: 0.5621\n",
      "F2 Score for sampling_strategy=0.80: 0.5843\n",
      "Testing sampling_strategy=0.90\n"
     ]
    },
    {
     "name": "stderr",
     "output_type": "stream",
     "text": [
      "f:\\Anaconda\\Lib\\site-packages\\imblearn\\over_sampling\\_smote\\base.py:370: FutureWarning: The parameter `n_jobs` has been deprecated in 0.10 and will be removed in 0.12. You can pass an nearest neighbors estimator where `n_jobs` is already set instead.\n",
      "  warnings.warn(\n"
     ]
    },
    {
     "name": "stdout",
     "output_type": "stream",
     "text": [
      "Chunk 1 label distribution: Counter({0: 28921, 1: 26825})\n"
     ]
    },
    {
     "name": "stderr",
     "output_type": "stream",
     "text": [
      "f:\\Anaconda\\Lib\\site-packages\\imblearn\\over_sampling\\_smote\\base.py:370: FutureWarning: The parameter `n_jobs` has been deprecated in 0.10 and will be removed in 0.12. You can pass an nearest neighbors estimator where `n_jobs` is already set instead.\n",
      "  warnings.warn(\n"
     ]
    },
    {
     "name": "stdout",
     "output_type": "stream",
     "text": [
      "Chunk 2 label distribution: Counter({0: 28947, 1: 26827})\n"
     ]
    },
    {
     "name": "stderr",
     "output_type": "stream",
     "text": [
      "f:\\Anaconda\\Lib\\site-packages\\imblearn\\over_sampling\\_smote\\base.py:370: FutureWarning: The parameter `n_jobs` has been deprecated in 0.10 and will be removed in 0.12. You can pass an nearest neighbors estimator where `n_jobs` is already set instead.\n",
      "  warnings.warn(\n"
     ]
    },
    {
     "name": "stdout",
     "output_type": "stream",
     "text": [
      "Chunk 3 label distribution: Counter({0: 29124, 1: 26860})\n"
     ]
    },
    {
     "name": "stderr",
     "output_type": "stream",
     "text": [
      "f:\\Anaconda\\Lib\\site-packages\\imblearn\\over_sampling\\_smote\\base.py:370: FutureWarning: The parameter `n_jobs` has been deprecated in 0.10 and will be removed in 0.12. You can pass an nearest neighbors estimator where `n_jobs` is already set instead.\n",
      "  warnings.warn(\n"
     ]
    },
    {
     "name": "stdout",
     "output_type": "stream",
     "text": [
      "Chunk 4 label distribution: Counter({0: 14519, 1: 13479})\n",
      "Precision for sampling_strategy=0.90: 0.6622\n",
      "Recall for sampling_strategy=0.90: 0.5799\n",
      "F2 Score for sampling_strategy=0.90: 0.5947\n",
      "Testing sampling_strategy=1.00\n"
     ]
    },
    {
     "name": "stderr",
     "output_type": "stream",
     "text": [
      "f:\\Anaconda\\Lib\\site-packages\\imblearn\\over_sampling\\_smote\\base.py:370: FutureWarning: The parameter `n_jobs` has been deprecated in 0.10 and will be removed in 0.12. You can pass an nearest neighbors estimator where `n_jobs` is already set instead.\n",
      "  warnings.warn(\n"
     ]
    },
    {
     "name": "stdout",
     "output_type": "stream",
     "text": [
      "Chunk 1 label distribution: Counter({1: 29808, 0: 28921})\n"
     ]
    },
    {
     "name": "stderr",
     "output_type": "stream",
     "text": [
      "f:\\Anaconda\\Lib\\site-packages\\imblearn\\over_sampling\\_smote\\base.py:370: FutureWarning: The parameter `n_jobs` has been deprecated in 0.10 and will be removed in 0.12. You can pass an nearest neighbors estimator where `n_jobs` is already set instead.\n",
      "  warnings.warn(\n"
     ]
    },
    {
     "name": "stdout",
     "output_type": "stream",
     "text": [
      "Chunk 2 label distribution: Counter({1: 29811, 0: 28943})\n"
     ]
    },
    {
     "name": "stderr",
     "output_type": "stream",
     "text": [
      "f:\\Anaconda\\Lib\\site-packages\\imblearn\\over_sampling\\_smote\\base.py:370: FutureWarning: The parameter `n_jobs` has been deprecated in 0.10 and will be removed in 0.12. You can pass an nearest neighbors estimator where `n_jobs` is already set instead.\n",
      "  warnings.warn(\n"
     ]
    },
    {
     "name": "stdout",
     "output_type": "stream",
     "text": [
      "Chunk 3 label distribution: Counter({1: 29844, 0: 29125})\n"
     ]
    },
    {
     "name": "stderr",
     "output_type": "stream",
     "text": [
      "f:\\Anaconda\\Lib\\site-packages\\imblearn\\over_sampling\\_smote\\base.py:370: FutureWarning: The parameter `n_jobs` has been deprecated in 0.10 and will be removed in 0.12. You can pass an nearest neighbors estimator where `n_jobs` is already set instead.\n",
      "  warnings.warn(\n"
     ]
    },
    {
     "name": "stdout",
     "output_type": "stream",
     "text": [
      "Chunk 4 label distribution: Counter({1: 14978, 0: 14522})\n",
      "Precision for sampling_strategy=1.00: 0.5333\n",
      "Recall for sampling_strategy=1.00: 0.5680\n",
      "F2 Score for sampling_strategy=1.00: 0.5607\n",
      "Best Sampling Strategy: 0.40 with Precision: 0.6478, Recall: 0.6095, F2 Score: 0.6168\n"
     ]
    }
   ],
   "source": [
    "#MLPClassifier\n",
    "\n",
    "from sklearn.neural_network import MLPClassifier\n",
    "\n",
    "X = df_testrate.drop(columns=['is_fraud'])\n",
    "y = df_testrate['is_fraud']\n",
    "\n",
    "def process_in_chunks(X, y, sampling_strategy, chunk_size=30000): \n",
    "    smote_enn = SMOTEENN(sampling_strategy=sampling_strategy, random_state=42, n_jobs=-1)\n",
    "    chunks = []\n",
    "    for i in range(0, len(X), chunk_size):\n",
    "        X_chunk = X.iloc[i:i+chunk_size]\n",
    "        y_chunk = y.iloc[i:i+chunk_size]\n",
    "        X_res, y_res = smote_enn.fit_resample(X_chunk, y_chunk)\n",
    "        chunks.append((X_res, y_res))\n",
    "        print(f\"Chunk {i // chunk_size + 1} label distribution: {Counter(y_res)}\")  \n",
    "\n",
    "    X_resampled = pd.concat([chunk[0] for chunk in chunks], axis=0)\n",
    "    y_resampled = pd.concat([chunk[1] for chunk in chunks], axis=0)\n",
    "    return X_resampled, y_resampled\n",
    "\n",
    "def pipeline_with_sampling(sampling_strategy):\n",
    "\n",
    "    X_train, X_test, y_train, y_test = train_test_split(X, y, test_size=0.2, random_state=42)\n",
    "    X_resampled, y_resampled = process_in_chunks(X_train, y_train, sampling_strategy=sampling_strategy)\n",
    "\n",
    "    model = MLPClassifier(random_state = 42)\n",
    "    model.fit(X_resampled, y_resampled)\n",
    "    y_pred = model.predict(X_test)\n",
    "\n",
    "    precision = precision_score(y_test, y_pred)\n",
    "    recall = recall_score(y_test, y_pred)\n",
    "    f2_score = fbeta_score(y_test, y_pred, beta=2)\n",
    "\n",
    "    return precision, recall, f2_score\n",
    "\n",
    "def random_search_sampling():\n",
    "    param_distributions = {\n",
    "        'sampling_strategy': np.linspace(0.1, 1.0, 10)  \n",
    "    }\n",
    "\n",
    "    scorer = make_scorer(fbeta_score, beta=2)\n",
    "\n",
    "    results = []\n",
    "    for sampling_rate in param_distributions['sampling_strategy']:\n",
    "        print(f\"Testing sampling_strategy={sampling_rate:.2f}\")\n",
    "        precision, recall, f2 = pipeline_with_sampling(sampling_rate)\n",
    "        results.append((sampling_rate, precision, recall, f2))\n",
    "        print(f\"Precision for sampling_strategy={sampling_rate:.2f}: {precision:.4f}\")\n",
    "        print(f\"Recall for sampling_strategy={sampling_rate:.2f}: {recall:.4f}\")\n",
    "        print(f\"F2 Score for sampling_strategy={sampling_rate:.2f}: {f2:.4f}\")\n",
    "\n",
    "    best_sampling_strategy, best_precision, best_recall, best_f2 = max(results, key=lambda x: x[3])\n",
    "    print(f\"Best Sampling Strategy: {best_sampling_strategy:.2f} with Precision: {best_precision:.4f}, Recall: {best_recall:.4f}, F2 Score: {best_f2:.4f}\")\n",
    "    return best_sampling_strategy, best_precision, best_recall, best_f2\n",
    "\n",
    "best_sampling_strategy, best_precision, best_recall, best_f2 = random_search_sampling()"
   ]
  },
  {
   "cell_type": "markdown",
   "metadata": {},
   "source": [
    "#### XGBClassifier"
   ]
  },
  {
   "cell_type": "code",
   "execution_count": 57,
   "metadata": {},
   "outputs": [
    {
     "name": "stdout",
     "output_type": "stream",
     "text": [
      "Testing sampling_strategy=0.10\n"
     ]
    },
    {
     "name": "stderr",
     "output_type": "stream",
     "text": [
      "f:\\Anaconda\\Lib\\site-packages\\imblearn\\over_sampling\\_smote\\base.py:370: FutureWarning: The parameter `n_jobs` has been deprecated in 0.10 and will be removed in 0.12. You can pass an nearest neighbors estimator where `n_jobs` is already set instead.\n",
      "  warnings.warn(\n"
     ]
    },
    {
     "name": "stdout",
     "output_type": "stream",
     "text": [
      "Chunk 1 label distribution: Counter({0: 29026, 1: 2850})\n"
     ]
    },
    {
     "name": "stderr",
     "output_type": "stream",
     "text": [
      "f:\\Anaconda\\Lib\\site-packages\\imblearn\\over_sampling\\_smote\\base.py:370: FutureWarning: The parameter `n_jobs` has been deprecated in 0.10 and will be removed in 0.12. You can pass an nearest neighbors estimator where `n_jobs` is already set instead.\n",
      "  warnings.warn(\n"
     ]
    },
    {
     "name": "stdout",
     "output_type": "stream",
     "text": [
      "Chunk 2 label distribution: Counter({0: 29037, 1: 2850})\n"
     ]
    },
    {
     "name": "stderr",
     "output_type": "stream",
     "text": [
      "f:\\Anaconda\\Lib\\site-packages\\imblearn\\over_sampling\\_smote\\base.py:370: FutureWarning: The parameter `n_jobs` has been deprecated in 0.10 and will be removed in 0.12. You can pass an nearest neighbors estimator where `n_jobs` is already set instead.\n",
      "  warnings.warn(\n"
     ]
    },
    {
     "name": "stdout",
     "output_type": "stream",
     "text": [
      "Chunk 3 label distribution: Counter({0: 29190, 1: 2896})\n"
     ]
    },
    {
     "name": "stderr",
     "output_type": "stream",
     "text": [
      "f:\\Anaconda\\Lib\\site-packages\\imblearn\\over_sampling\\_smote\\base.py:370: FutureWarning: The parameter `n_jobs` has been deprecated in 0.10 and will be removed in 0.12. You can pass an nearest neighbors estimator where `n_jobs` is already set instead.\n",
      "  warnings.warn(\n"
     ]
    },
    {
     "name": "stdout",
     "output_type": "stream",
     "text": [
      "Chunk 4 label distribution: Counter({0: 14575, 1: 1469})\n",
      "Precision for sampling_strategy=0.10: 0.9286\n",
      "Recall for sampling_strategy=0.10: 0.7692\n",
      "F2 Score for sampling_strategy=0.10: 0.7966\n",
      "Testing sampling_strategy=0.20\n"
     ]
    },
    {
     "name": "stderr",
     "output_type": "stream",
     "text": [
      "f:\\Anaconda\\Lib\\site-packages\\imblearn\\over_sampling\\_smote\\base.py:370: FutureWarning: The parameter `n_jobs` has been deprecated in 0.10 and will be removed in 0.12. You can pass an nearest neighbors estimator where `n_jobs` is already set instead.\n",
      "  warnings.warn(\n"
     ]
    },
    {
     "name": "stdout",
     "output_type": "stream",
     "text": [
      "Chunk 1 label distribution: Counter({0: 28980, 1: 5918})\n"
     ]
    },
    {
     "name": "stderr",
     "output_type": "stream",
     "text": [
      "f:\\Anaconda\\Lib\\site-packages\\imblearn\\over_sampling\\_smote\\base.py:370: FutureWarning: The parameter `n_jobs` has been deprecated in 0.10 and will be removed in 0.12. You can pass an nearest neighbors estimator where `n_jobs` is already set instead.\n",
      "  warnings.warn(\n"
     ]
    },
    {
     "name": "stdout",
     "output_type": "stream",
     "text": [
      "Chunk 2 label distribution: Counter({0: 28983, 1: 5913})\n"
     ]
    },
    {
     "name": "stderr",
     "output_type": "stream",
     "text": [
      "f:\\Anaconda\\Lib\\site-packages\\imblearn\\over_sampling\\_smote\\base.py:370: FutureWarning: The parameter `n_jobs` has been deprecated in 0.10 and will be removed in 0.12. You can pass an nearest neighbors estimator where `n_jobs` is already set instead.\n",
      "  warnings.warn(\n"
     ]
    },
    {
     "name": "stdout",
     "output_type": "stream",
     "text": [
      "Chunk 3 label distribution: Counter({0: 29151, 1: 5936})\n"
     ]
    },
    {
     "name": "stderr",
     "output_type": "stream",
     "text": [
      "f:\\Anaconda\\Lib\\site-packages\\imblearn\\over_sampling\\_smote\\base.py:370: FutureWarning: The parameter `n_jobs` has been deprecated in 0.10 and will be removed in 0.12. You can pass an nearest neighbors estimator where `n_jobs` is already set instead.\n",
      "  warnings.warn(\n"
     ]
    },
    {
     "name": "stdout",
     "output_type": "stream",
     "text": [
      "Chunk 4 label distribution: Counter({0: 14540, 1: 2979})\n",
      "Precision for sampling_strategy=0.20: 0.9310\n",
      "Recall for sampling_strategy=0.20: 0.7988\n",
      "F2 Score for sampling_strategy=0.20: 0.8222\n",
      "Testing sampling_strategy=0.30\n"
     ]
    },
    {
     "name": "stderr",
     "output_type": "stream",
     "text": [
      "f:\\Anaconda\\Lib\\site-packages\\imblearn\\over_sampling\\_smote\\base.py:370: FutureWarning: The parameter `n_jobs` has been deprecated in 0.10 and will be removed in 0.12. You can pass an nearest neighbors estimator where `n_jobs` is already set instead.\n",
      "  warnings.warn(\n"
     ]
    },
    {
     "name": "stdout",
     "output_type": "stream",
     "text": [
      "Chunk 1 label distribution: Counter({0: 28944, 1: 8920})\n"
     ]
    },
    {
     "name": "stderr",
     "output_type": "stream",
     "text": [
      "f:\\Anaconda\\Lib\\site-packages\\imblearn\\over_sampling\\_smote\\base.py:370: FutureWarning: The parameter `n_jobs` has been deprecated in 0.10 and will be removed in 0.12. You can pass an nearest neighbors estimator where `n_jobs` is already set instead.\n",
      "  warnings.warn(\n"
     ]
    },
    {
     "name": "stdout",
     "output_type": "stream",
     "text": [
      "Chunk 2 label distribution: Counter({0: 28967, 1: 8924})\n"
     ]
    },
    {
     "name": "stderr",
     "output_type": "stream",
     "text": [
      "f:\\Anaconda\\Lib\\site-packages\\imblearn\\over_sampling\\_smote\\base.py:370: FutureWarning: The parameter `n_jobs` has been deprecated in 0.10 and will be removed in 0.12. You can pass an nearest neighbors estimator where `n_jobs` is already set instead.\n",
      "  warnings.warn(\n"
     ]
    },
    {
     "name": "stdout",
     "output_type": "stream",
     "text": [
      "Chunk 3 label distribution: Counter({0: 29138, 1: 8944})\n"
     ]
    },
    {
     "name": "stderr",
     "output_type": "stream",
     "text": [
      "f:\\Anaconda\\Lib\\site-packages\\imblearn\\over_sampling\\_smote\\base.py:370: FutureWarning: The parameter `n_jobs` has been deprecated in 0.10 and will be removed in 0.12. You can pass an nearest neighbors estimator where `n_jobs` is already set instead.\n",
      "  warnings.warn(\n"
     ]
    },
    {
     "name": "stdout",
     "output_type": "stream",
     "text": [
      "Chunk 4 label distribution: Counter({0: 14531, 1: 4487})\n",
      "Precision for sampling_strategy=0.30: 0.9184\n",
      "Recall for sampling_strategy=0.30: 0.7988\n",
      "F2 Score for sampling_strategy=0.30: 0.8202\n",
      "Testing sampling_strategy=0.40\n"
     ]
    },
    {
     "name": "stderr",
     "output_type": "stream",
     "text": [
      "f:\\Anaconda\\Lib\\site-packages\\imblearn\\over_sampling\\_smote\\base.py:370: FutureWarning: The parameter `n_jobs` has been deprecated in 0.10 and will be removed in 0.12. You can pass an nearest neighbors estimator where `n_jobs` is already set instead.\n",
      "  warnings.warn(\n"
     ]
    },
    {
     "name": "stdout",
     "output_type": "stream",
     "text": [
      "Chunk 1 label distribution: Counter({0: 28932, 1: 11906})\n"
     ]
    },
    {
     "name": "stderr",
     "output_type": "stream",
     "text": [
      "f:\\Anaconda\\Lib\\site-packages\\imblearn\\over_sampling\\_smote\\base.py:370: FutureWarning: The parameter `n_jobs` has been deprecated in 0.10 and will be removed in 0.12. You can pass an nearest neighbors estimator where `n_jobs` is already set instead.\n",
      "  warnings.warn(\n"
     ]
    },
    {
     "name": "stdout",
     "output_type": "stream",
     "text": [
      "Chunk 2 label distribution: Counter({0: 28954, 1: 11910})\n"
     ]
    },
    {
     "name": "stderr",
     "output_type": "stream",
     "text": [
      "f:\\Anaconda\\Lib\\site-packages\\imblearn\\over_sampling\\_smote\\base.py:370: FutureWarning: The parameter `n_jobs` has been deprecated in 0.10 and will be removed in 0.12. You can pass an nearest neighbors estimator where `n_jobs` is already set instead.\n",
      "  warnings.warn(\n"
     ]
    },
    {
     "name": "stdout",
     "output_type": "stream",
     "text": [
      "Chunk 3 label distribution: Counter({0: 29135, 1: 11929})\n"
     ]
    },
    {
     "name": "stderr",
     "output_type": "stream",
     "text": [
      "f:\\Anaconda\\Lib\\site-packages\\imblearn\\over_sampling\\_smote\\base.py:370: FutureWarning: The parameter `n_jobs` has been deprecated in 0.10 and will be removed in 0.12. You can pass an nearest neighbors estimator where `n_jobs` is already set instead.\n",
      "  warnings.warn(\n"
     ]
    },
    {
     "name": "stdout",
     "output_type": "stream",
     "text": [
      "Chunk 4 label distribution: Counter({0: 14527, 1: 5985})\n",
      "Precision for sampling_strategy=0.40: 0.9375\n",
      "Recall for sampling_strategy=0.40: 0.7988\n",
      "F2 Score for sampling_strategy=0.40: 0.8232\n",
      "Testing sampling_strategy=0.50\n"
     ]
    },
    {
     "name": "stderr",
     "output_type": "stream",
     "text": [
      "f:\\Anaconda\\Lib\\site-packages\\imblearn\\over_sampling\\_smote\\base.py:370: FutureWarning: The parameter `n_jobs` has been deprecated in 0.10 and will be removed in 0.12. You can pass an nearest neighbors estimator where `n_jobs` is already set instead.\n",
      "  warnings.warn(\n"
     ]
    },
    {
     "name": "stdout",
     "output_type": "stream",
     "text": [
      "Chunk 1 label distribution: Counter({0: 28926, 1: 14894})\n"
     ]
    },
    {
     "name": "stderr",
     "output_type": "stream",
     "text": [
      "f:\\Anaconda\\Lib\\site-packages\\imblearn\\over_sampling\\_smote\\base.py:370: FutureWarning: The parameter `n_jobs` has been deprecated in 0.10 and will be removed in 0.12. You can pass an nearest neighbors estimator where `n_jobs` is already set instead.\n",
      "  warnings.warn(\n"
     ]
    },
    {
     "name": "stdout",
     "output_type": "stream",
     "text": [
      "Chunk 2 label distribution: Counter({0: 28957, 1: 14901})\n"
     ]
    },
    {
     "name": "stderr",
     "output_type": "stream",
     "text": [
      "f:\\Anaconda\\Lib\\site-packages\\imblearn\\over_sampling\\_smote\\base.py:370: FutureWarning: The parameter `n_jobs` has been deprecated in 0.10 and will be removed in 0.12. You can pass an nearest neighbors estimator where `n_jobs` is already set instead.\n",
      "  warnings.warn(\n"
     ]
    },
    {
     "name": "stdout",
     "output_type": "stream",
     "text": [
      "Chunk 3 label distribution: Counter({0: 29127, 1: 14916})\n"
     ]
    },
    {
     "name": "stderr",
     "output_type": "stream",
     "text": [
      "f:\\Anaconda\\Lib\\site-packages\\imblearn\\over_sampling\\_smote\\base.py:370: FutureWarning: The parameter `n_jobs` has been deprecated in 0.10 and will be removed in 0.12. You can pass an nearest neighbors estimator where `n_jobs` is already set instead.\n",
      "  warnings.warn(\n"
     ]
    },
    {
     "name": "stdout",
     "output_type": "stream",
     "text": [
      "Chunk 4 label distribution: Counter({0: 14521, 1: 7486})\n",
      "Precision for sampling_strategy=0.50: 0.9060\n",
      "Recall for sampling_strategy=0.50: 0.7988\n",
      "F2 Score for sampling_strategy=0.50: 0.8182\n",
      "Testing sampling_strategy=0.60\n"
     ]
    },
    {
     "name": "stderr",
     "output_type": "stream",
     "text": [
      "f:\\Anaconda\\Lib\\site-packages\\imblearn\\over_sampling\\_smote\\base.py:370: FutureWarning: The parameter `n_jobs` has been deprecated in 0.10 and will be removed in 0.12. You can pass an nearest neighbors estimator where `n_jobs` is already set instead.\n",
      "  warnings.warn(\n"
     ]
    },
    {
     "name": "stdout",
     "output_type": "stream",
     "text": [
      "Chunk 1 label distribution: Counter({0: 28930, 1: 17878})\n"
     ]
    },
    {
     "name": "stderr",
     "output_type": "stream",
     "text": [
      "f:\\Anaconda\\Lib\\site-packages\\imblearn\\over_sampling\\_smote\\base.py:370: FutureWarning: The parameter `n_jobs` has been deprecated in 0.10 and will be removed in 0.12. You can pass an nearest neighbors estimator where `n_jobs` is already set instead.\n",
      "  warnings.warn(\n"
     ]
    },
    {
     "name": "stdout",
     "output_type": "stream",
     "text": [
      "Chunk 2 label distribution: Counter({0: 28950, 1: 17878})\n"
     ]
    },
    {
     "name": "stderr",
     "output_type": "stream",
     "text": [
      "f:\\Anaconda\\Lib\\site-packages\\imblearn\\over_sampling\\_smote\\base.py:370: FutureWarning: The parameter `n_jobs` has been deprecated in 0.10 and will be removed in 0.12. You can pass an nearest neighbors estimator where `n_jobs` is already set instead.\n",
      "  warnings.warn(\n"
     ]
    },
    {
     "name": "stdout",
     "output_type": "stream",
     "text": [
      "Chunk 3 label distribution: Counter({0: 29123, 1: 17901})\n"
     ]
    },
    {
     "name": "stderr",
     "output_type": "stream",
     "text": [
      "f:\\Anaconda\\Lib\\site-packages\\imblearn\\over_sampling\\_smote\\base.py:370: FutureWarning: The parameter `n_jobs` has been deprecated in 0.10 and will be removed in 0.12. You can pass an nearest neighbors estimator where `n_jobs` is already set instead.\n",
      "  warnings.warn(\n"
     ]
    },
    {
     "name": "stdout",
     "output_type": "stream",
     "text": [
      "Chunk 4 label distribution: Counter({0: 14525, 1: 8985})\n",
      "Precision for sampling_strategy=0.60: 0.9007\n",
      "Recall for sampling_strategy=0.60: 0.8047\n",
      "F2 Score for sampling_strategy=0.60: 0.8222\n",
      "Testing sampling_strategy=0.70\n"
     ]
    },
    {
     "name": "stderr",
     "output_type": "stream",
     "text": [
      "f:\\Anaconda\\Lib\\site-packages\\imblearn\\over_sampling\\_smote\\base.py:370: FutureWarning: The parameter `n_jobs` has been deprecated in 0.10 and will be removed in 0.12. You can pass an nearest neighbors estimator where `n_jobs` is already set instead.\n",
      "  warnings.warn(\n"
     ]
    },
    {
     "name": "stdout",
     "output_type": "stream",
     "text": [
      "Chunk 1 label distribution: Counter({0: 28921, 1: 20856})\n"
     ]
    },
    {
     "name": "stderr",
     "output_type": "stream",
     "text": [
      "f:\\Anaconda\\Lib\\site-packages\\imblearn\\over_sampling\\_smote\\base.py:370: FutureWarning: The parameter `n_jobs` has been deprecated in 0.10 and will be removed in 0.12. You can pass an nearest neighbors estimator where `n_jobs` is already set instead.\n",
      "  warnings.warn(\n"
     ]
    },
    {
     "name": "stdout",
     "output_type": "stream",
     "text": [
      "Chunk 2 label distribution: Counter({0: 28946, 1: 20861})\n"
     ]
    },
    {
     "name": "stderr",
     "output_type": "stream",
     "text": [
      "f:\\Anaconda\\Lib\\site-packages\\imblearn\\over_sampling\\_smote\\base.py:370: FutureWarning: The parameter `n_jobs` has been deprecated in 0.10 and will be removed in 0.12. You can pass an nearest neighbors estimator where `n_jobs` is already set instead.\n",
      "  warnings.warn(\n"
     ]
    },
    {
     "name": "stdout",
     "output_type": "stream",
     "text": [
      "Chunk 3 label distribution: Counter({0: 29125, 1: 20891})\n"
     ]
    },
    {
     "name": "stderr",
     "output_type": "stream",
     "text": [
      "f:\\Anaconda\\Lib\\site-packages\\imblearn\\over_sampling\\_smote\\base.py:370: FutureWarning: The parameter `n_jobs` has been deprecated in 0.10 and will be removed in 0.12. You can pass an nearest neighbors estimator where `n_jobs` is already set instead.\n",
      "  warnings.warn(\n"
     ]
    },
    {
     "name": "stdout",
     "output_type": "stream",
     "text": [
      "Chunk 4 label distribution: Counter({0: 14521, 1: 10482})\n",
      "Precision for sampling_strategy=0.70: 0.9067\n",
      "Recall for sampling_strategy=0.70: 0.8047\n",
      "F2 Score for sampling_strategy=0.70: 0.8232\n",
      "Testing sampling_strategy=0.80\n"
     ]
    },
    {
     "name": "stderr",
     "output_type": "stream",
     "text": [
      "f:\\Anaconda\\Lib\\site-packages\\imblearn\\over_sampling\\_smote\\base.py:370: FutureWarning: The parameter `n_jobs` has been deprecated in 0.10 and will be removed in 0.12. You can pass an nearest neighbors estimator where `n_jobs` is already set instead.\n",
      "  warnings.warn(\n"
     ]
    },
    {
     "name": "stdout",
     "output_type": "stream",
     "text": [
      "Chunk 1 label distribution: Counter({0: 28925, 1: 23847})\n"
     ]
    },
    {
     "name": "stderr",
     "output_type": "stream",
     "text": [
      "f:\\Anaconda\\Lib\\site-packages\\imblearn\\over_sampling\\_smote\\base.py:370: FutureWarning: The parameter `n_jobs` has been deprecated in 0.10 and will be removed in 0.12. You can pass an nearest neighbors estimator where `n_jobs` is already set instead.\n",
      "  warnings.warn(\n"
     ]
    },
    {
     "name": "stdout",
     "output_type": "stream",
     "text": [
      "Chunk 2 label distribution: Counter({0: 28948, 1: 23843})\n"
     ]
    },
    {
     "name": "stderr",
     "output_type": "stream",
     "text": [
      "f:\\Anaconda\\Lib\\site-packages\\imblearn\\over_sampling\\_smote\\base.py:370: FutureWarning: The parameter `n_jobs` has been deprecated in 0.10 and will be removed in 0.12. You can pass an nearest neighbors estimator where `n_jobs` is already set instead.\n",
      "  warnings.warn(\n"
     ]
    },
    {
     "name": "stdout",
     "output_type": "stream",
     "text": [
      "Chunk 3 label distribution: Counter({0: 29125, 1: 23876})\n"
     ]
    },
    {
     "name": "stderr",
     "output_type": "stream",
     "text": [
      "f:\\Anaconda\\Lib\\site-packages\\imblearn\\over_sampling\\_smote\\base.py:370: FutureWarning: The parameter `n_jobs` has been deprecated in 0.10 and will be removed in 0.12. You can pass an nearest neighbors estimator where `n_jobs` is already set instead.\n",
      "  warnings.warn(\n"
     ]
    },
    {
     "name": "stdout",
     "output_type": "stream",
     "text": [
      "Chunk 4 label distribution: Counter({0: 14518, 1: 11982})\n",
      "Precision for sampling_strategy=0.80: 0.9067\n",
      "Recall for sampling_strategy=0.80: 0.8047\n",
      "F2 Score for sampling_strategy=0.80: 0.8232\n",
      "Testing sampling_strategy=0.90\n"
     ]
    },
    {
     "name": "stderr",
     "output_type": "stream",
     "text": [
      "f:\\Anaconda\\Lib\\site-packages\\imblearn\\over_sampling\\_smote\\base.py:370: FutureWarning: The parameter `n_jobs` has been deprecated in 0.10 and will be removed in 0.12. You can pass an nearest neighbors estimator where `n_jobs` is already set instead.\n",
      "  warnings.warn(\n"
     ]
    },
    {
     "name": "stdout",
     "output_type": "stream",
     "text": [
      "Chunk 1 label distribution: Counter({0: 28921, 1: 26825})\n"
     ]
    },
    {
     "name": "stderr",
     "output_type": "stream",
     "text": [
      "f:\\Anaconda\\Lib\\site-packages\\imblearn\\over_sampling\\_smote\\base.py:370: FutureWarning: The parameter `n_jobs` has been deprecated in 0.10 and will be removed in 0.12. You can pass an nearest neighbors estimator where `n_jobs` is already set instead.\n",
      "  warnings.warn(\n"
     ]
    },
    {
     "name": "stdout",
     "output_type": "stream",
     "text": [
      "Chunk 2 label distribution: Counter({0: 28947, 1: 26827})\n"
     ]
    },
    {
     "name": "stderr",
     "output_type": "stream",
     "text": [
      "f:\\Anaconda\\Lib\\site-packages\\imblearn\\over_sampling\\_smote\\base.py:370: FutureWarning: The parameter `n_jobs` has been deprecated in 0.10 and will be removed in 0.12. You can pass an nearest neighbors estimator where `n_jobs` is already set instead.\n",
      "  warnings.warn(\n"
     ]
    },
    {
     "name": "stdout",
     "output_type": "stream",
     "text": [
      "Chunk 3 label distribution: Counter({0: 29124, 1: 26860})\n"
     ]
    },
    {
     "name": "stderr",
     "output_type": "stream",
     "text": [
      "f:\\Anaconda\\Lib\\site-packages\\imblearn\\over_sampling\\_smote\\base.py:370: FutureWarning: The parameter `n_jobs` has been deprecated in 0.10 and will be removed in 0.12. You can pass an nearest neighbors estimator where `n_jobs` is already set instead.\n",
      "  warnings.warn(\n"
     ]
    },
    {
     "name": "stdout",
     "output_type": "stream",
     "text": [
      "Chunk 4 label distribution: Counter({0: 14519, 1: 13479})\n",
      "Precision for sampling_strategy=0.90: 0.8882\n",
      "Recall for sampling_strategy=0.90: 0.7988\n",
      "F2 Score for sampling_strategy=0.90: 0.8152\n",
      "Testing sampling_strategy=1.00\n"
     ]
    },
    {
     "name": "stderr",
     "output_type": "stream",
     "text": [
      "f:\\Anaconda\\Lib\\site-packages\\imblearn\\over_sampling\\_smote\\base.py:370: FutureWarning: The parameter `n_jobs` has been deprecated in 0.10 and will be removed in 0.12. You can pass an nearest neighbors estimator where `n_jobs` is already set instead.\n",
      "  warnings.warn(\n"
     ]
    },
    {
     "name": "stdout",
     "output_type": "stream",
     "text": [
      "Chunk 1 label distribution: Counter({1: 29808, 0: 28921})\n"
     ]
    },
    {
     "name": "stderr",
     "output_type": "stream",
     "text": [
      "f:\\Anaconda\\Lib\\site-packages\\imblearn\\over_sampling\\_smote\\base.py:370: FutureWarning: The parameter `n_jobs` has been deprecated in 0.10 and will be removed in 0.12. You can pass an nearest neighbors estimator where `n_jobs` is already set instead.\n",
      "  warnings.warn(\n"
     ]
    },
    {
     "name": "stdout",
     "output_type": "stream",
     "text": [
      "Chunk 2 label distribution: Counter({1: 29811, 0: 28943})\n"
     ]
    },
    {
     "name": "stderr",
     "output_type": "stream",
     "text": [
      "f:\\Anaconda\\Lib\\site-packages\\imblearn\\over_sampling\\_smote\\base.py:370: FutureWarning: The parameter `n_jobs` has been deprecated in 0.10 and will be removed in 0.12. You can pass an nearest neighbors estimator where `n_jobs` is already set instead.\n",
      "  warnings.warn(\n"
     ]
    },
    {
     "name": "stdout",
     "output_type": "stream",
     "text": [
      "Chunk 3 label distribution: Counter({1: 29844, 0: 29125})\n"
     ]
    },
    {
     "name": "stderr",
     "output_type": "stream",
     "text": [
      "f:\\Anaconda\\Lib\\site-packages\\imblearn\\over_sampling\\_smote\\base.py:370: FutureWarning: The parameter `n_jobs` has been deprecated in 0.10 and will be removed in 0.12. You can pass an nearest neighbors estimator where `n_jobs` is already set instead.\n",
      "  warnings.warn(\n"
     ]
    },
    {
     "name": "stdout",
     "output_type": "stream",
     "text": [
      "Chunk 4 label distribution: Counter({1: 14978, 0: 14522})\n",
      "Precision for sampling_strategy=1.00: 0.9038\n",
      "Recall for sampling_strategy=1.00: 0.8343\n",
      "F2 Score for sampling_strategy=1.00: 0.8474\n",
      "Best Sampling Strategy: 1.00 with Precision: 0.9038, Recall: 0.8343, F2 Score: 0.8474\n"
     ]
    }
   ],
   "source": [
    "#XGBClassifier\n",
    "\n",
    "from xgboost import XGBClassifier\n",
    "\n",
    "X = df_testrate.drop(columns=['is_fraud'])\n",
    "y = df_testrate['is_fraud']\n",
    "\n",
    "def process_in_chunks(X, y, sampling_strategy, chunk_size=30000): \n",
    "    smote_enn = SMOTEENN(sampling_strategy=sampling_strategy, random_state=42, n_jobs=-1)\n",
    "    chunks = []\n",
    "    for i in range(0, len(X), chunk_size):\n",
    "        X_chunk = X.iloc[i:i+chunk_size]\n",
    "        y_chunk = y.iloc[i:i+chunk_size]\n",
    "        X_res, y_res = smote_enn.fit_resample(X_chunk, y_chunk)\n",
    "        chunks.append((X_res, y_res))\n",
    "        print(f\"Chunk {i // chunk_size + 1} label distribution: {Counter(y_res)}\")  \n",
    "\n",
    "    X_resampled = pd.concat([chunk[0] for chunk in chunks], axis=0)\n",
    "    y_resampled = pd.concat([chunk[1] for chunk in chunks], axis=0)\n",
    "    return X_resampled, y_resampled\n",
    "\n",
    "def pipeline_with_sampling(sampling_strategy):\n",
    "\n",
    "    X_train, X_test, y_train, y_test = train_test_split(X, y, test_size=0.2, random_state=42)\n",
    "    X_resampled, y_resampled = process_in_chunks(X_train, y_train, sampling_strategy=sampling_strategy)\n",
    "\n",
    "    model = XGBClassifier(random_state = 42)\n",
    "    model.fit(X_resampled, y_resampled)\n",
    "    y_pred = model.predict(X_test)\n",
    "\n",
    "    precision = precision_score(y_test, y_pred)\n",
    "    recall = recall_score(y_test, y_pred)\n",
    "    f2_score = fbeta_score(y_test, y_pred, beta=2)\n",
    "\n",
    "    return precision, recall, f2_score\n",
    "\n",
    "def random_search_sampling():\n",
    "    param_distributions = {\n",
    "        'sampling_strategy': np.linspace(0.1, 1.0, 10)  # 不同采样率\n",
    "    }\n",
    "\n",
    "    scorer = make_scorer(fbeta_score, beta=2)\n",
    "\n",
    "    results = []\n",
    "    for sampling_rate in param_distributions['sampling_strategy']:\n",
    "        print(f\"Testing sampling_strategy={sampling_rate:.2f}\")\n",
    "        precision, recall, f2 = pipeline_with_sampling(sampling_rate)\n",
    "        results.append((sampling_rate, precision, recall, f2))\n",
    "        print(f\"Precision for sampling_strategy={sampling_rate:.2f}: {precision:.4f}\")\n",
    "        print(f\"Recall for sampling_strategy={sampling_rate:.2f}: {recall:.4f}\")\n",
    "        print(f\"F2 Score for sampling_strategy={sampling_rate:.2f}: {f2:.4f}\")\n",
    "\n",
    "    best_sampling_strategy, best_precision, best_recall, best_f2 = max(results, key=lambda x: x[3])\n",
    "    print(f\"Best Sampling Strategy: {best_sampling_strategy:.2f} with Precision: {best_precision:.4f}, Recall: {best_recall:.4f}, F2 Score: {best_f2:.4f}\")\n",
    "    return best_sampling_strategy, best_precision, best_recall, best_f2\n",
    "\n",
    "best_sampling_strategy, best_precision, best_recall, best_f2 = random_search_sampling()"
   ]
  },
  {
   "cell_type": "code",
   "execution_count": null,
   "metadata": {},
   "outputs": [],
   "source": []
  }
 ],
 "metadata": {
  "kernelspec": {
   "display_name": "base",
   "language": "python",
   "name": "python3"
  },
  "language_info": {
   "codemirror_mode": {
    "name": "ipython",
    "version": 3
   },
   "file_extension": ".py",
   "mimetype": "text/x-python",
   "name": "python",
   "nbconvert_exporter": "python",
   "pygments_lexer": "ipython3",
   "version": "3.12.3"
  }
 },
 "nbformat": 4,
 "nbformat_minor": 2
}
